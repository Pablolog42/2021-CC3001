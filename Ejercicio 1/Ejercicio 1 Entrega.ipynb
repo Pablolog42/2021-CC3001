{
  "nbformat": 4,
  "nbformat_minor": 0,
  "metadata": {
    "kernelspec": {
      "name": "python3",
      "display_name": "Python 3.9.2 64-bit",
      "metadata": {
        "interpreter": {
          "hash": "9a25f204a300bdc49b2400c52ad2f477bb56de243b0a6afc988b6e51b20c71d1"
        }
      }
    },
    "language_info": {
      "codemirror_mode": {
        "name": "ipython",
        "version": 3
      },
      "file_extension": ".py",
      "mimetype": "text/x-python",
      "name": "python",
      "nbconvert_exporter": "python",
      "pygments_lexer": "ipython3",
      "version": "3.9.2-final"
    },
    "colab": {
      "name": "Ejercicio 1 - Entrega.ipynb",
      "provenance": []
    }
  },
  "cells": [
    {
      "cell_type": "markdown",
      "metadata": {
        "id": "ircBKeL8wqBG"
      },
      "source": [
        "### Ejercicio 1.2\n",
        "\n",
        "Alumno: Pablo González Aguilera, 20.973.277-7. Sección 1\n",
        "\n",
        "Existe un algoritmo alternativo a Hoare, que resulta en una codificación más sencilla. Este algoritmo, debido a **Lomuto**, se basa en el siguiente invariante:\n",
        "\n",
        "![particion-Lomuto](https://github.com/ivansipiran/AED-Apuntes/blob/main/recursos/particion-Lomuto.png?raw=1)\n",
        "\n",
        "En este algoritmo, en cada iteración, si $a[j]<p$, se intercambian $a[i]$ con $a[j]$ y se incrementa $i$, porque ahora hay un elemento más en el grupo de los menores que $p$. Después de esto, se incrementa $j$, *incondicionalmente* (¿por qué es correcto hacer eso?).\n",
        "\n",
        "-----------------------------------------\n",
        "\n",
        "*Respuesta*: Es correcto correr el indice j hacia la derecha independiente del resultado del condicional puesto que, necesito un indice que se mueva permanentemente a lo largo de esta (j) para hacer la comparacion entre el límite actual entre los intervalos (a(i)) y el resto de elementos en la lista.\n"
      ]
    },
    {
      "cell_type": "code",
      "metadata": {
        "id": "_5ZTWsgCwqBG"
      },
      "source": [
        "# particionLomuto: list, int -> (int, int, list)\n",
        "# retorna el punto de corte, el número de elementos <p y la lista particionada\n",
        "def particionLomuto(a, p):    \n",
        "    # escribir acá el algoritmo de partición de Lomuto\n",
        "    i, j = 0,0   #se inicia con ambos indices en cero (desconozaco el orden de todos los numeros de la lista)\n",
        "    n = len(a) - 1\n",
        "\n",
        "    while j <= n :   # El algoritmo termina al recorrer toda la lista44\n",
        "        if a[j] < p:    \n",
        "            (a[i], a[j]) = (a[j], a[i]) # intercambio el elemento en el índice i con el elemento de indice j\n",
        "            i += 1\n",
        "        j += 1 # Se mueve siempre el indice j\n",
        "    \n",
        "    return (p, i, a) # El número de elementos menores a p será exactamente el indice i, como se puede ilustrar en la invariante del algoritmo.\n"
      ],
      "execution_count": 21,
      "outputs": []
    },
    {
      "cell_type": "code",
      "metadata": {
        "id": "JnYtUIDLwqBG"
      },
      "source": [
        "def verifica_particion(t): # imprime y chequea partición\n",
        "    (p,m,a)=t\n",
        "    # p=punto de corte, m=número de elementos <p, a=lista completa particionada\n",
        "    print(a[0:m],p,a[m:])\n",
        "    print(\"Partición OK\" if (m==0 or max(a[0:m])<p) and (m==len(a) or min(a[m:])>p)\n",
        "          else \"Error\")"
      ],
      "execution_count": 22,
      "outputs": []
    },
    {
      "cell_type": "code",
      "metadata": {
        "id": "UKMWkGX2wqBH"
      },
      "source": [
        "verifica_particion(particionLomuto([73,21,34,98,56,37,77,65,82,15,36],50))"
      ],
      "execution_count": 23,
      "outputs": [
        {
          "output_type": "stream",
          "name": "stdout",
          "text": [
            "[21, 34, 37, 15, 36] 50 [73, 77, 65, 82, 98, 56]\nPartición OK\n"
          ]
        }
      ]
    },
    {
      "cell_type": "code",
      "metadata": {
        "id": "XqlkYL1iwqBH"
      },
      "source": [
        "verifica_particion(particionLomuto([73,21,34,98,56,37,77,65,82,15,36],0))"
      ],
      "execution_count": 24,
      "outputs": [
        {
          "output_type": "stream",
          "name": "stdout",
          "text": [
            "[] 0 [73, 21, 34, 98, 56, 37, 77, 65, 82, 15, 36]\nPartición OK\n"
          ]
        }
      ]
    },
    {
      "cell_type": "code",
      "metadata": {
        "id": "zdvZ2xUIwqBH"
      },
      "source": [
        "verifica_particion(particionLomuto([73,21,34,98,56,37,77,65,82,15,36],100))"
      ],
      "execution_count": 25,
      "outputs": [
        {
          "output_type": "stream",
          "name": "stdout",
          "text": [
            "[73, 21, 34, 98, 56, 37, 77, 65, 82, 15, 36] 100 []\nPartición OK\n"
          ]
        }
      ]
    }
  ]
}