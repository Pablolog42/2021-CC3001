{
  "nbformat": 4,
  "nbformat_minor": 0,
  "metadata": {
    "kernelspec": {
      "display_name": "Python 3",
      "language": "python",
      "name": "python3"
    },
    "language_info": {
      "codemirror_mode": {
        "name": "ipython",
        "version": 3
      },
      "file_extension": ".py",
      "mimetype": "text/x-python",
      "name": "python",
      "nbconvert_exporter": "python",
      "pygments_lexer": "ipython3",
      "version": "3.6.9"
    },
    "colab": {
      "name": "Ejercicio 1 - Entrega.ipynb",
      "provenance": []
    }
  },
  "cells": [
    {
      "cell_type": "markdown",
      "metadata": {
        "id": "ircBKeL8wqBG"
      },
      "source": [
        "### Ejercicio 1.2\n",
        "\n",
        "Existe un algoritmo alternativo a Hoare, que resulta en una codificación más sencilla. Este algoritmo, debido a **Lomuto**, se basa en el siguiente invariante:\n",
        "\n",
        "![particion-Lomuto](https://github.com/ivansipiran/AED-Apuntes/blob/main/recursos/particion-Lomuto.png?raw=1)\n",
        "\n",
        "En este algoritmo, en cada iteración, si $a[j]<p$, se intercambian $a[i]$ con $a[j]$ y se incrementa $i$, porque ahora hay un elemento más en el grupo de los menores que $p$. Después de esto, se incrementa $j$, *incondicionalmente* (¿por qué es correcto hacer eso?).\n",
        "\n",
        "Programe la partición de Lomuto en el recuadro siguiente y pruébela.\n",
        "\n",
        "Alumno: Pablo González Aguilera\n",
        "CC3001-1"
      ]
    },
    {
      "cell_type": "code",
      "metadata": {
        "id": "_5ZTWsgCwqBG"
      },
      "source": [
        "def particionLomuto(a,p):\n",
        "    # retorna el punto de corte, el número de elementos <p y la lista particionada\n",
        "    \n",
        "    # escribir acá el algoritmo de partición de Lomuto\n",
        "    \n",
        "\n",
        "\n",
        "\n",
        "    \n",
        "    return (p,i,a) "
      ],
      "execution_count": null,
      "outputs": []
    },
    {
      "cell_type": "code",
      "metadata": {
        "id": "JnYtUIDLwqBG"
      },
      "source": [
        "def verifica_particion(t): # imprime y chequea partición\n",
        "    (p,m,a)=t\n",
        "    # p=punto de corte, m=número de elementos <p, a=lista completa particionada\n",
        "    print(a[0:m],p,a[m:])\n",
        "    print(\"Partición OK\" if (m==0 or max(a[0:m])<p) and (m==len(a) or min(a[m:])>p)\n",
        "          else \"Error\")"
      ],
      "execution_count": null,
      "outputs": []
    },
    {
      "cell_type": "code",
      "metadata": {
        "id": "UKMWkGX2wqBH"
      },
      "source": [
        "verifica_particion(particionLomuto([73,21,34,98,56,37,77,65,82,15,36],50))"
      ],
      "execution_count": null,
      "outputs": []
    },
    {
      "cell_type": "code",
      "metadata": {
        "id": "XqlkYL1iwqBH"
      },
      "source": [
        "verifica_particion(particionLomuto([73,21,34,98,56,37,77,65,82,15,36],0))"
      ],
      "execution_count": null,
      "outputs": []
    },
    {
      "cell_type": "code",
      "metadata": {
        "id": "zdvZ2xUIwqBH"
      },
      "source": [
        "verifica_particion(particionLomuto([73,21,34,98,56,37,77,65,82,15,36],100))"
      ],
      "execution_count": null,
      "outputs": []
    }
  ]
}