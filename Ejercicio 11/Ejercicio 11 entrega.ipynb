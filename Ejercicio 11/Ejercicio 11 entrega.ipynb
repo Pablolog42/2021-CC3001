{
  "cells": [
    {
      "cell_type": "markdown",
      "metadata": {
        "id": "IFb3ZjfgPzRZ"
      },
      "source": [
        "### Ejercicio 7.1 (Quicksort con mediana de 3)\n",
        "\n",
        "Alumno: Pablo González Aguilera - 20973277-2 - Sección 2\n",
        "\n",
        "Modifique el algoritmo Quicksort para que en la fase de partición utilice como pivote a la mediana de 3 elementos elegidos al azar.\n",
        "\n",
        "Para esto, se recomienda modificar el algoritmo de partición de modo que seleccione 3 elementos al azar en el rango $i..j$ y los ordene, dejando en $a[i]$ el mínimo de los 3, en $a[i+1]$ la mediana de los 3 y en $a[j]$ el máximo de los 3. Luego, se aplica el algoritmo de partición ya conocido al segmento $a[i+2],\\ldots,a[j-1]$, con $a[i+1]$ como pivote. Al terminar, el pivote se mueve al centro y se retorna su posición.\n",
        "\n",
        "Otro cambio que se debe hacer es tratar los casos de arreglos de tamaño $0$, $1$ y $2$ como casos de borde, y aplicar ``qsort`` recursivo solo a arreglos de tamaño mayor o igual a 3.\n",
        "\n",
        "En el siguiente recuadro escriba su algoritmo modificado y luego ejecute las instrucciones de prueba del recuadro siguiente."
      ]
    },
    {
      "cell_type": "code",
      "execution_count": 1,
      "metadata": {
        "collapsed": true,
        "id": "rik8LuA-PzRl"
      },
      "outputs": [],
      "source": [
        "import random \r\n",
        "import numpy as np\r\n",
        "\r\n",
        "# BubbleSort\r\n",
        "def bsort(a):\r\n",
        "    n=len(a)\r\n",
        "    k=n \r\n",
        "    while k>1:\r\n",
        "        for j in range(0,k-1):\r\n",
        "            if a[j]>a[j+1]:\r\n",
        "                (a[j],a[j+1])=(a[j+1],a[j])\r\n",
        "        k-=1\r\n",
        "\r\n",
        "    return a\r\n",
        "\r\n",
        "def quicksort3(a):\r\n",
        "  qsort(a,0,len(a)-1)\r\n",
        "\r\n",
        "#Esta es la versión del apunte que deberá modificar\r\n",
        "def qsort(a,i,j): # ordena a[i],...,a[j]\r\n",
        "\r\n",
        "  if (j-i)<3:\r\n",
        "    # Ordenar una lista con 0 elementos es la misma lista\r\n",
        "    if i-j == 0:\r\n",
        "      return a\r\n",
        "\r\n",
        "    # Los otros dos casos bases son ordenar una arreglo con a lo más 3 elementos.\r\n",
        "    # Como son solo 3, podemos hacerlo eficientemente por, por ejemplo, bubblesort.\r\n",
        "    return bsort(a)\r\n",
        "\r\n",
        "  else:\r\n",
        "    k= particionMedianaDe3(a,i,j)\r\n",
        "    qsort(a,i,k-1)\r\n",
        "    qsort(a,k+1,j)\r\n",
        "\r\n",
        "\r\n",
        "def particionMedianaDe3(a,i,j): # particiona a[i],...,a[j], retorna posición del pivote\r\n",
        "\r\n",
        "  arrayIndices = [random.randint(i,j), random.randint(i,j), random.randint(i,j)]\r\n",
        "  l,m,n = arrayIndices[0], arrayIndices[1], arrayIndices[2]\r\n",
        "\r\n",
        "  # Por indicación, tomamos sólo números distintos\r\n",
        "  if l == m or m == n or n == l:\r\n",
        "    particionMedianaDe3(a,i,j)\r\n",
        "\r\n",
        "\r\n",
        "  # Se ordena por bubblesort el array de indices, utilizado como parametro de ordenacion el valor de \"a\" correspondiente a ese indice\r\n",
        "  # Es eficiente ordenar por bubblesort para obtener los minimos, medianas y maximos, al ser arreglos de tamaño 3 fijo.\r\n",
        "  # Con esto, nos quedará una lista tal que: array indices = [indiceMinimo, indiceMediana, indiceMaximo]\r\n",
        "  p=len(arrayIndices)\r\n",
        "  k1=p \r\n",
        "  while k1>1:\r\n",
        "      for g in range(0,k1-1):\r\n",
        "        # Ordeno con respecto al a[indice] correspondiente\r\n",
        "        if a[arrayIndices[g]]>a[arrayIndices[g+1]]:\r\n",
        "          (arrayIndices[g],arrayIndices[g+1])=(arrayIndices[g+1],arrayIndices[g])\r\n",
        "      k1-=1\r\n",
        "\r\n",
        "  # Al estar ordenado el array de 3 elementos\r\n",
        "  indiceMinimo = arrayIndices[0]\r\n",
        "  indiceMediana = arrayIndices[1]\r\n",
        "  indiceMaximo = arrayIndices[2]\r\n",
        "\r\n",
        "\r\n",
        "  (a[i], a[indiceMinimo])  = (a[indiceMinimo],a[i]) \r\n",
        "  (a[i+1], a[indiceMediana]) = (a[indiceMediana],a[i+1]) \r\n",
        "  (a[j], a[indiceMaximo]) = (a[indiceMaximo],a[j]) \r\n",
        "\r\n",
        "\r\n",
        "  # Se aplica el algoritmo ya conocido sobre a[i+2]... a[j-1] con el pivote a[i+1]\r\n",
        "  # Muevo al pivote al borde\r\n",
        "\r\n",
        "  (a[i+1], a[i]) = (a[i], a[i+1])\r\n",
        "\r\n",
        "\r\n",
        "  s=i # invariante: a[i+1..s]<=a[i], a[s+1..t]>a[i]\r\n",
        "  for t in range(s,j):\r\n",
        "      if a[t+1]<=a[i]:\r\n",
        "          (a[s+1],a[t+1])=(a[t+1],a[s+1])\r\n",
        "          s=s+1\r\n",
        "\r\n",
        "  # mover pivote al centro\r\n",
        "  (a[i],a[s])=(a[s],a[i])\r\n",
        "  return s"
      ]
    },
    {
      "cell_type": "code",
      "execution_count": 2,
      "metadata": {
        "collapsed": true,
        "id": "5rewrA-6PzRp"
      },
      "outputs": [
        {
          "name": "stdout",
          "output_type": "stream",
          "text": [
            "[0.74925304 0.28103559 0.05435146 0.69760433 0.31907035 0.36070439\n",
            " 0.27643645 0.19444447 0.79941803 0.77618717 0.46512874 0.98050747]\n",
            "Desordenado\n",
            "[0.05435146 0.19444447 0.27643645 0.28103559 0.31907035 0.36070439\n",
            " 0.46512874 0.69760433 0.74925304 0.77618717 0.79941803 0.98050747]\n",
            "Ordenado\n"
          ]
        }
      ],
      "source": [
        "import numpy as np\n",
        "a = np.random.random(12)\n",
        "def chequea_orden(a):\n",
        "    print(\"Ordenado\" if np.all(a[:-1]<=a[1:]) else \"Desordenado\")\n",
        "    \n",
        "print(a)\n",
        "chequea_orden(a)\n",
        "quicksort3(a)\n",
        "print(a)\n",
        "chequea_orden(a)"
      ]
    }
  ],
  "metadata": {
    "colab": {
      "collapsed_sections": [],
      "name": "Ejercicio 11 Entrega",
      "provenance": []
    },
    "interpreter": {
      "hash": "9a25f204a300bdc49b2400c52ad2f477bb56de243b0a6afc988b6e51b20c71d1"
    },
    "kernelspec": {
      "display_name": "Python 3.9.2 64-bit",
      "name": "python3"
    },
    "language_info": {
      "codemirror_mode": {
        "name": "ipython",
        "version": 3
      },
      "file_extension": ".py",
      "mimetype": "text/x-python",
      "name": "python",
      "nbconvert_exporter": "python",
      "pygments_lexer": "ipython3",
      "version": "3.9.2"
    }
  },
  "nbformat": 4,
  "nbformat_minor": 0
}