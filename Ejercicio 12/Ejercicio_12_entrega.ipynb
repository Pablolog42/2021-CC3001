{
  "cells": [
    {
      "cell_type": "markdown",
      "metadata": {
        "id": "4I7SOOASXfM5"
      },
      "source": [
        "### Ejercicio 7.3 (Merge de listas con repeticiones)\r\n",
        "\r\n",
        "\r\n",
        "Alumno: Pablo González Aguilera - 20973277-7 - Sección 2\r\n",
        "\r\n",
        "Suponga que se desea mezclar dos listas ordenadas de manera ascendente en las cuales puede haber elementos repetidos. Estas listas se representan en forma compacta como una secuencia de tuplas en que para cada elemento se indica su *multiplicidad*, es decir, el número de veces que se repite. Por ejemplo, la lista\r\n",
        "```\r\n",
        "[(12,2),(34,1),(56,3),(74,1),(81,1)]\r\n",
        "```\r\n",
        "es la representación compacta de la lista\r\n",
        "```\r\n",
        "[12,12,34,56,56,56,74,81]\r\n",
        "```\r\n",
        "Se pide escribir un método ``merge(a,b)`` que reciba como argumento dos listas compactas ``a`` y ``b`` y retorne el resultado de mezclarlas. El resultado debe estar también en formato compacto.\r\n",
        "\r\n",
        "Para esto, usted debe modificar el método ``merge``del apunte, el que aparece a continuación:\r\n"
      ]
    },
    {
      "cell_type": "code",
      "execution_count": 1,
      "metadata": {
        "collapsed": true,
        "id": "e9JG0OtwPzRx"
      },
      "outputs": [],
      "source": [
        "def merge(a,b):\r\n",
        "    i=0\r\n",
        "    j=0\r\n",
        "    while i<len(a) or j<len(b):\r\n",
        "        # a[i] es una tupla de forma (numero, repeticion)\r\n",
        "        if j>=len(b) or (i<len(a) and a[i][0]<=b[j][0]):\r\n",
        "            if  j == len(b):\r\n",
        "                break\r\n",
        "            # si se repiten dos tuplas con el mismo numero\r\n",
        "            if a[i][0]==b[j][0]:\r\n",
        "                # Sumo las repeticiones y dejo una tupla con el numero de repeticiones\r\n",
        "                a[i] = (a[i][0], b[j][1] + a[i][1])\r\n",
        "                j += 1\r\n",
        "            yield a[i]\r\n",
        "            i=i+1\r\n",
        "        else:\r\n",
        "            \r\n",
        "            yield b[j]\r\n",
        "            j=j+1"
      ]
    },
    {
      "cell_type": "markdown",
      "metadata": {
        "id": "tfbj66JLZQOZ"
      },
      "source": [
        "y luego debe probarlo ejecutando el código siguiente:"
      ]
    },
    {
      "cell_type": "code",
      "execution_count": 2,
      "metadata": {
        "colab": {
          "base_uri": "https://localhost:8080/"
        },
        "id": "IgSOo2f4ZZT_",
        "outputId": "63801bfc-db4f-44f9-995e-cb7d5f8a406d"
      },
      "outputs": [
        {
          "name": "stdout",
          "output_type": "stream",
          "text": [
            "[(10, 3), (12, 7), (34, 1), (56, 3), (65, 1), (74, 2), (81, 1), (90, 3)]\n"
          ]
        }
      ],
      "source": [
        "a=[(12,2),(34,1),(56,3),(74,1),(81,1)]\n",
        "b=[(10,3),(12,5),(65,1),(74,1),(90,3)]\n",
        "c=[x for x in merge(a,b)]\n",
        "print(c)"
      ]
    }
  ],
  "metadata": {
    "colab": {
      "collapsed_sections": [],
      "name": "Ejercicio 12 entrega.ipynb",
      "provenance": []
    },
    "interpreter": {
      "hash": "9a25f204a300bdc49b2400c52ad2f477bb56de243b0a6afc988b6e51b20c71d1"
    },
    "kernelspec": {
      "display_name": "Python 3.9.2 64-bit",
      "name": "python3"
    },
    "language_info": {
      "name": "python",
      "version": ""
    }
  },
  "nbformat": 4,
  "nbformat_minor": 0
}