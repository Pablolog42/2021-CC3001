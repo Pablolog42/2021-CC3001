{
  "nbformat": 4,
  "nbformat_minor": 0,
  "metadata": {
    "kernelspec": {
      "name": "python3",
      "display_name": "Python 3.9.2 64-bit",
      "metadata": {
        "interpreter": {
          "hash": "9a25f204a300bdc49b2400c52ad2f477bb56de243b0a6afc988b6e51b20c71d1"
        }
      }
    },
    "language_info": {
      "codemirror_mode": {
        "name": "ipython",
        "version": 3
      },
      "file_extension": ".py",
      "mimetype": "text/x-python",
      "name": "python",
      "nbconvert_exporter": "python",
      "pygments_lexer": "ipython3",
      "version": "3.9.2"
    },
    "colab": {
      "name": "Ejercicio 2 - Entrega.ipynb",
      "provenance": [],
      "collapsed_sections": []
    }
  },
  "cells": [
    {
      "cell_type": "markdown",
      "metadata": {
        "id": "WpXtdpXtoV2x"
      },
      "source": [
        "### Ejercicio 1.5 - Permutaciones\n",
        "\n",
        "\n",
        "Alumno: Pablo González Aguilera - 20973277-7 Sección 2\n",
        "\n",
        "Una función recursiva que genera e imprime todas las permutaciones de un arreglo se puede plantear\n",
        "de la siguiente manera:\n",
        "\n",
        "~~~python\n",
        "def permutaciones(x,ini,fin):\n",
        "~~~\n",
        "   genera las permutaciones del arreglo x desde el elemento\n",
        "   con índice ini hasta el elemento con índice fin  \n",
        "   \n",
        "- Si $ini$ es igual a $fin$ implica que se pide la permutación de un solo elemento, y en ese momento se imprime\n",
        "  todo el contenido del arreglo\n",
        "- De lo contrario, para todos los elementos $x[i]$ con $i$ desde $ini$ hasta $fin$ ($fin$ incluido) se hace lo siguiente:\n",
        "                 . se intercambia el valor del i-ésimo elemento con el inicial\n",
        "                 . se llama recursivamente a la función permutaciones con el \n",
        "                    índice del primer elemento incrementado: permutaciones(x, ini+1, fin)\n",
        "                 . Se vuelven a restaurar los valores del elemento inicial con el i-ésimo\n",
        "\n",
        "Implemente la función \"permutaciones\" que imprima todas las permutaciones de un arreglo de entrada. Probar su función con arreglos de tamaño 1, 3 y 5."
      ]
    },
    {
      "cell_type": "code",
      "metadata": {
        "id": "nQxAz1cOoV2y"
      },
      "source": [
        "#permutaciones: list int int -> print\n",
        "def permutaciones(x,ini,fin):\n",
        "\n",
        "    #Para no intercambiar con algun elemento fuera de al lista\n",
        "    assert fin < len(x)\n",
        "\n",
        "    #Caso base: cuando ini = fin\n",
        "    if ini == fin:\n",
        "        resultado = \"\"\n",
        "        # Para que imprima los elementos en el formato que se pide (como número y no           como arreglo)\n",
        "        resultado = resultado.join([str(numero) for numero in x]) \n",
        "        return print(resultado)\n",
        "\n",
        "    for i in range(ini, fin+1):\n",
        "\n",
        "        #se intercambia el valor del i-ésimo elemento con el inicial\n",
        "        (x[ini], x[i]) = (x[i], x[ini])\n",
        "        # Recursividad(dad...dad...dad...)\n",
        "        permutaciones(x, ini+1, fin)\n",
        "        #Se vuelven a restaurar los valores del elemento inicial con el i-ésimo\n",
        "        (x[ini], x[i]) = (x[i], x[ini])\n",
        "        "
      ],
      "execution_count": 1,
      "outputs": []
    },
    {
      "cell_type": "code",
      "execution_count": 4,
      "metadata": {},
      "outputs": [
        {
          "output_type": "stream",
          "name": "stdout",
          "text": [
            "123\n132\n213\n231\n321\n312\n1234\n1243\n1324\n1342\n1432\n1423\n2134\n2143\n2314\n2341\n2431\n2413\n3214\n3241\n3124\n3142\n3412\n3421\n4231\n4213\n4321\n4312\n4132\n4123\n3\n"
          ]
        }
      ],
      "source": [
        "#Tests\n",
        "\n",
        "permutaciones([1,2,3] , 0, 2) #Deben dar 6\n",
        "permutaciones([1,2,3,4] , 0, 3) #deben dar 24\n",
        "permutaciones([3] , 0, 0) #debe dar un \"3\" solito"
      ]
    }
  ]
}