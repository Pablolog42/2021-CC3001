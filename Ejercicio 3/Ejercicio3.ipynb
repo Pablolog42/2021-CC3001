{
  "nbformat": 4,
  "nbformat_minor": 0,
  "metadata": {
    "kernelspec": {
      "name": "python3",
      "display_name": "Python 3.9.2 64-bit",
      "metadata": {
        "interpreter": {
          "hash": "9a25f204a300bdc49b2400c52ad2f477bb56de243b0a6afc988b6e51b20c71d1"
        }
      }
    },
    "language_info": {
      "codemirror_mode": {
        "name": "ipython",
        "version": 3
      },
      "file_extension": ".py",
      "mimetype": "text/x-python",
      "name": "python",
      "nbconvert_exporter": "python",
      "pygments_lexer": "ipython3",
      "version": "3.9.2"
    },
    "colab": {
      "name": "Ejercicio3.ipynb",
      "provenance": [],
      "collapsed_sections": []
    }
  },
  "cells": [
    {
      "cell_type": "markdown",
      "metadata": {
        "id": "TH9WR1dgwrpj"
      },
      "source": [
        "### Ejercicio 3.1\n",
        "\n",
        "Pablo González Aguilera - 20973277-7\n",
        "Sección 1\n",
        "\n",
        "Si tenemos dos números complejos\n",
        "\n",
        "$$\n",
        "\\begin{align}\n",
        "u&=a+bi\\\\\n",
        "v&=c+di\n",
        "\\end{align}\n",
        "$$\n",
        "\n",
        "podemos calcular su producto $z=x+yi$ calculando\n",
        "\n",
        "$$\n",
        "\\begin{align}\n",
        "x&=ac-bd\\\\\n",
        "y&=ad+bc\n",
        "\\end{align}\n",
        "$$\n",
        "\n",
        "lo cual requiere hacer 4 multiplicación de números reales.\n",
        "\n",
        "El siguiente código implementa este cálculo:\n"
      ]
    },
    {
      "cell_type": "code",
      "metadata": {
        "colab": {
          "base_uri": "https://localhost:8080/"
        },
        "id": "iGVkuLYbALac",
        "outputId": "219b2427-465a-4cd6-fcf6-5d14aa92e93f"
      },
      "source": [
        "def mult4(u,v):\n",
        "  # Recibe dos números complejos como pares ordenados \n",
        "  # y retorna su producto utilizando 4 multiplicaciones\n",
        "  (a,b)=u\n",
        "  (c,d)=v\n",
        "  x=a*c-b*d\n",
        "  y=a*d+b*c\n",
        "  return (x,y)\n",
        "\n",
        "print(mult4((0,1),(0,1)))\n",
        "print(mult4((2,-4),(1,3)))\n",
        "print(mult4((-1,2),(3,4)))"
      ],
      "execution_count": 1,
      "outputs": [
        {
          "output_type": "stream",
          "name": "stdout",
          "text": [
            "(-1, 0)\n(14, 2)\n(-11, 2)\n"
          ]
        }
      ]
    },
    {
      "cell_type": "markdown",
      "metadata": {
        "id": "SPTH5YvYFAMJ"
      },
      "source": [
        "Encuentre una forma de realizar este cálculo **haciendo solo 3 multiplicaciones de números reales**.\n",
        "Escriba las fórmulas respectivas y luego escriba el código para la siguiente función:"
      ]
    },
    {
      "cell_type": "code",
      "metadata": {
        "id": "bw5fRtgsFTH7",
        "colab": {
          "base_uri": "https://localhost:8080/",
          "height": 350
        },
        "outputId": "cc23e5db-0162-4841-8e3d-f40c2abdca42"
      },
      "source": [
        "def mult3(u,v):\n",
        "  # Recibe dos números complejos como pares ordenados \n",
        "  # y retorna su producto utilizando solo 3 multiplicaciones\n",
        "  (a,b)=u\n",
        "  (c,d)=v\n",
        "\n",
        "  # Escriba aquí las instrucciones para calcular x, y\n",
        "\n",
        "  # utilizando el Algoritmo de Karatsuba\n",
        "  A1 = a\n",
        "  A2 = b\n",
        "  B1 = c\n",
        "  B2 = d\n",
        "\n",
        "  E = a*c # Primera Multiplicación\n",
        "  F = b*d # Segunda Multiplicación\n",
        "  D = (a+b)*(c+d) # Tercera Multiplicación\n",
        "\n",
        "  # Sumas (lineales)\n",
        "  x = E - F       \n",
        "  y = (D - E - F)\n",
        "\n",
        "  return (x,y)\n",
        "\n",
        "print(mult3((0,1),(0,1)))\n",
        "print(mult3((2,-4),(1,3)))\n",
        "print(mult3((-1,2),(3,4)))"
      ],
      "execution_count": 2,
      "outputs": [
        {
          "output_type": "stream",
          "name": "stdout",
          "text": [
            "(-1, 0)\n(14, 2)\n(-11, 2)\n"
          ]
        }
      ]
    },
    {
      "cell_type": "code",
      "execution_count": null,
      "metadata": {},
      "outputs": [],
      "source": []
    }
  ]
}