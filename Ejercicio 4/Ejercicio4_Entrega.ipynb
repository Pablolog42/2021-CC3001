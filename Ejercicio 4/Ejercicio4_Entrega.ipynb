{
  "nbformat": 4,
  "nbformat_minor": 0,
  "metadata": {
    "colab": {
      "name": "Ejercicio4 Entrega.ipynb",
      "provenance": [],
      "collapsed_sections": []
    },
    "kernelspec": {
      "name": "python3",
      "display_name": "Python 3.9.2 64-bit",
      "metadata": {
        "interpreter": {
          "hash": "9a25f204a300bdc49b2400c52ad2f477bb56de243b0a6afc988b6e51b20c71d1"
        }
      }
    },
    "language_info": {
      "name": "python",
      "version": "3.9.2"
    }
  },
  "cells": [
    {
      "cell_type": "markdown",
      "metadata": {
        "id": "Hc9inj_xDn8B"
      },
      "source": [
        "# Ejercicio 3.4\n",
        "\n",
        "Pablo González Aguilera -- 20973277-7\n",
        "Sección 2\n",
        "\n",
        "Modifique la función para que marque con \".\" los casilleros por donde hubo intentos no exitosos de salir, y con \"x\" los casilleros que finalmente condujeron a la salida."
      ]
    },
    {
      "cell_type": "code",
      "metadata": {
        "colab": {
          "base_uri": "https://localhost:8080/"
        },
        "id": "A7cM8XViDjPk",
        "outputId": "93bec795-0869-479c-fff7-6d7d7677dd1a"
      },
      "source": [
        "def salida(i,j):\n",
        "    if L[i][j]==\"=\": # encontramos la salida\n",
        "        return True\n",
        "    if L[i][j]!=\" \": # espacio ocupado\n",
        "        return False\n",
        "    L[i]=L[i][:j]+\"x\"+L[i][j+1:]\n",
        "    if salida(i,j-1) \\\n",
        "    or salida(i,j+1) \\\n",
        "    or salida(i-1,j) \\\n",
        "    or salida(i+1,j):\n",
        "        return True\n",
        "    return False  \n",
        "\n",
        "L = [\n",
        "\"+--+-----+--+\",\n",
        "\"|  |     |  |\",\n",
        "\"|  +--+     =\",\n",
        "\"|     |  |  |\",\n",
        "\"+--+  |  |  |\",\n",
        "\"|  |        |\",\n",
        "\"|  |     |  |\",\n",
        "\"+--+-----+--+\"\n",
        "]\n",
        "print(salida(4,10))\n",
        "for linea in L:\n",
        "    print(linea)"
      ],
      "execution_count": 2,
      "outputs": [
        {
          "output_type": "stream",
          "name": "stdout",
          "text": [
            "True\n+--+-----+--+\n|xx|xxxxx|  |\n|xx+--+xxxxx=\n|xxxxx|xx|xx|\n+--+xx|xx|xx|\n|  |xxxxxxxx|\n|  |xxxxx|xx|\n+--+-----+--+\n"
          ]
        }
      ]
    },
    {
      "cell_type": "markdown",
      "metadata": {
        "id": "gy1KI9elD7ZA"
      },
      "source": [
        "Además, pruebe el caso salida(1,1) y muestre el resultado."
      ]
    },
    {
      "cell_type": "code",
      "metadata": {
        "colab": {
          "base_uri": "https://localhost:8080/"
        },
        "id": "qdno9X7gD7pP",
        "outputId": "6c0c5a81-896a-4cd3-d24d-4a89f86261c9"
      },
      "source": [
        "L = [\n",
        "\"+--+-----+--+\",\n",
        "\"|  |     |  |\",\n",
        "\"|  +--+     =\",\n",
        "\"|     |  |  |\",\n",
        "\"+--+  |  |  |\",\n",
        "\"|  |        |\",\n",
        "\"|  |     |  |\",\n",
        "\"+--+-----+--+\"\n",
        "]\n",
        "print(salida(1,1))\n",
        "\n",
        "for linea in L:\n",
        "    print(linea)"
      ],
      "execution_count": 3,
      "outputs": [
        {
          "output_type": "stream",
          "name": "stdout",
          "text": [
            "True\n+--+-----+--+\n|xx|xxxxx|xx|\n|xx+--+xxxxx=\n|xxxxx|xx|xx|\n+--+xx|xx|xx|\n|  |xxxxxxxx|\n|  |     |  |\n+--+-----+--+\n"
          ]
        }
      ]
    },
    {
      "cell_type": "markdown",
      "metadata": {
        "id": "8zhdk2vlERqr"
      },
      "source": [
        "Función Modificada y Tests:"
      ]
    },
    {
      "cell_type": "code",
      "metadata": {
        "id": "1NPis19fEW5y"
      },
      "source": [
        "# salida: int int -> bool\n",
        "# salida(i,j) que retorna verdadero si existe\n",
        "# un camino hacia la salida a partir de la coordenada (i,j)\n",
        "\n",
        "def salida(i,j):\n",
        "    if L[i][j] == \"=\": # encontramos la salida\n",
        "        return True\n",
        "    if L[i][j] != \" \": # espacio ocupado\n",
        "        return False\n",
        "\n",
        "    # Intentos no exitosos\n",
        "    L[i] = L[i][:j] + \".\" + L[i][j+1:] # Rellename justo la casilla sin salidas con un \".\", dejando todo el resto de la fila igual\n",
        "    \n",
        "    # Busco la salida recursivamente en las 4 direcciones cardianales\n",
        "    # Notar que si uno da true, no se llama a los siguientes \"or\" (es decir, se me asegura que este es el camino \n",
        "    # único q lleva a la salida)\n",
        "    if salida(i,j-1) \\\n",
        "    or salida(i,j+1) \\\n",
        "    or salida(i-1,j) \\\n",
        "    or salida(i+1,j):\n",
        "\n",
        "        L[i] = L[i][:j] + \"x\" + L[i][j+1:] # Todos estos fueron intentos exitosos, pues se cumplió el if\n",
        "        return True\n",
        "    return False  \n",
        "\n",
        "L = [\n",
        "\"+--+-----+--+\",\n",
        "\"|  |     |  |\",\n",
        "\"|  +--+     =\",\n",
        "\"|     |  |  |\",\n",
        "\"+--+  |  |  |\",\n",
        "\"|  |        |\",\n",
        "\"|  |     |  |\",\n",
        "\"+--+-----+--+\"\n",
        "]\n",
        "\n",
        "print(salida(4,10))\n",
        "for linea in L:\n",
        "    print(linea)"
      ],
      "execution_count": 4,
      "outputs": [
        {
          "output_type": "stream",
          "name": "stdout",
          "text": [
            "True\n+--+-----+--+\n|..|.....|  |\n|..+--+...xx=\n|.....|..|xx|\n+--+..|..|xx|\n|  |........|\n|  |.....|..|\n+--+-----+--+\n"
          ]
        }
      ]
    },
    {
      "cell_type": "code",
      "metadata": {
        "id": "zZpWTzUmEXyw"
      },
      "source": [
        "L = [\n",
        "\"+--+-----+--+\",\n",
        "\"|  |     |  |\",\n",
        "\"|  +--+     =\",\n",
        "\"|     |  |  |\",\n",
        "\"+--+  |  |  |\",\n",
        "\"|  |        |\",\n",
        "\"|  |     |  |\",\n",
        "\"+--+-----+--+\"\n",
        "]\n",
        "print(salida(1,1))\n",
        "\n",
        "for linea in L:\n",
        "    print(linea)"
      ],
      "execution_count": 5,
      "outputs": [
        {
          "output_type": "stream",
          "name": "stdout",
          "text": [
            "True\n+--+-----+--+\n|xx|.....|..|\n|xx+--+....x=\n|xxxxx|..|xx|\n+--+xx|..|xx|\n|  |xxxxxxxx|\n|  |     |  |\n+--+-----+--+\n"
          ]
        }
      ]
    }
  ]
}