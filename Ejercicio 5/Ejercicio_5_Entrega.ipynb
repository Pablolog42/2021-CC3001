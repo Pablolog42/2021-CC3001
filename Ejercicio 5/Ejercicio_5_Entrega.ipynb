{
  "nbformat": 4,
  "nbformat_minor": 0,
  "metadata": {
    "colab": {
      "name": "Ejercicio 5 Entrega.ipynb",
      "provenance": []
    },
    "kernelspec": {
      "name": "python392jvsc74a57bd09a25f204a300bdc49b2400c52ad2f477bb56de243b0a6afc988b6e51b20c71d1",
      "display_name": "Python 3.9.2 64-bit"
    },
    "language_info": {
      "name": "python",
      "version": "3.9.2"
    },
    "metadata": {
      "interpreter": {
        "hash": "9a25f204a300bdc49b2400c52ad2f477bb56de243b0a6afc988b6e51b20c71d1"
      }
    }
  },
  "cells": [
    {
      "cell_type": "markdown",
      "metadata": {
        "id": "oBPj3-daH0Bz"
      },
      "source": [
        "\n",
        "## Ejercicio 5\n",
        "\n",
        "Pablo González Aguilera\n",
        "20.973.277-7\n",
        "\n",
        "Suponga que por un accidente, o quizás por vandalismo, todos los punteros prev de una lista de doble enlace han sido destruidos. Afortunadamente, los punteros sgte están intactos. Usted debe escribir primero una función que pueda invocarse como L.destruye_prev() que remueva todos los punteros prev de los nodos. Para lograr esto basta con asignar None a los punteros prev en cada nodo. A continuación, debe escribir una función que pueda invocarse como L.repara_prev que reconstruya los punteros faltantes. A continuación se encuentra la definición de la clase Lista_doble_enlace incluyendo las cabeceras de las funciones destruye_prev y repara_prev que usted debe completar. También se entrega un caso de prueba para probar que sus funciones son correctas."
      ]
    },
    {
      "cell_type": "code",
      "execution_count": 11,
      "metadata": {},
      "outputs": [
        {
          "output_type": "stream",
          "name": "stdout",
          "text": [
            "Requirement already satisfied: aed-utilities in c:\\users\\pablo\\pyver\\py392\\lib\\site-packages (0.4.1)\n",
            "Requirement already satisfied: validators in c:\\users\\pablo\\pyver\\py392\\lib\\site-packages (from aed-utilities) (0.18.2)\n",
            "Requirement already satisfied: beautifulsoup4 in c:\\users\\pablo\\pyver\\py392\\lib\\site-packages (from aed-utilities) (4.9.3)\n",
            "Requirement already satisfied: soupsieve>1.2 in c:\\users\\pablo\\pyver\\py392\\lib\\site-packages (from beautifulsoup4->aed-utilities) (2.2.1)\n",
            "Requirement already satisfied: six>=1.4.0 in c:\\users\\pablo\\appdata\\roaming\\python\\python39\\site-packages (from validators->aed-utilities) (1.15.0)\n",
            "Requirement already satisfied: decorator>=3.4.0 in c:\\users\\pablo\\appdata\\roaming\\python\\python39\\site-packages (from validators->aed-utilities) (4.4.2)\n",
            "WARNING: You are using pip version 21.0.1; however, version 21.1 is available.\n",
            "You should consider upgrading via the 'c:\\users\\pablo\\pyver\\py392\\python.exe -m pip install --upgrade pip' command.\n"
          ]
        }
      ],
      "source": [
        "!pip install aed-utilities"
      ]
    },
    {
      "cell_type": "code",
      "metadata": {
        "colab": {
          "base_uri": "https://localhost:8080/"
        },
        "id": "Rrk75JobHxkD",
        "outputId": "4a206a85-405c-4472-8824-bb51839eb853"
      },
      "source": [
        "import aed_utilities as aed\n",
        "\n",
        "class Nodo:\n",
        "    def __init__(self, prev, info, sgte):\n",
        "        self.prev=prev\n",
        "        self.info=info\n",
        "        self.sgte=sgte\n",
        "\n",
        "class Lista_doble_enlace:\n",
        "    def __init__(self):\n",
        "        self.cabecera=Nodo(None,0,None)\n",
        "        self.cabecera.prev=self.cabecera\n",
        "        self.cabecera.sgte=self.cabecera\n",
        "    \n",
        "    def insertar_despues_de(self,p,info): # inserta después de nodo p\n",
        "        r=p.sgte\n",
        "        p.sgte=r.prev=Nodo(p,info,r)\n",
        " \n",
        "    def eliminar(self,p): # elimina el nodo p\n",
        "        assert p is not self.cabecera\n",
        "        (p.prev.sgte,p.sgte.prev)=(p.sgte,p.prev)\n",
        "    \n",
        "    def k_esimo(self,k): # retorna k-esimo nodo, o None si fuera de rango\n",
        "        p=self.cabecera\n",
        "        j=0\n",
        "        while True:\n",
        "            if j==k:\n",
        "                return p\n",
        "            p=p.sgte\n",
        "            if p is self.cabecera:\n",
        "                return None\n",
        "            j+=1\n",
        "    \n",
        "    def ascendente(self):\n",
        "        p=self.cabecera.sgte\n",
        "        while p is not self.cabecera:\n",
        "            yield p.info\n",
        "            p=p.sgte\n",
        "\n",
        "    def descendente(self):\n",
        "        p=self.cabecera.prev\n",
        "        while p is not self.cabecera:\n",
        "            yield p.info\n",
        "            p=p.prev\n",
        "    \n",
        "    def destruye_prev(self):\n",
        "        p = self.cabecera.sgte\n",
        "        while p is not self.cabecera:\n",
        "            yield p.info\n",
        "            p.prev = self.cabecera\n",
        "            p = p.sgte\n",
        "        \n",
        "\n",
        "        #Define aqui la función para destruir todos los enlaces \"prev\"\n",
        "            \n",
        "    def repara_prev(self):\n",
        "\n",
        "        pass#Define aquí la función para reparar los enlaces \"prev\"\n",
        "\n",
        "    def dibujar(self):\n",
        "      lld=aed.LinkedListDrawer(fieldHeader=\"cabecera\", fieldData=\"info\", fieldLink=\"sgte\", fieldReverseLink=\"prev\")\n",
        "      lld.draw_double_linked_list(self)\n"
      ],
      "execution_count": 22,
      "outputs": []
    },
    {
      "cell_type": "code",
      "execution_count": 16,
      "metadata": {},
      "outputs": [
        {
          "output_type": "stream",
          "name": "stdout",
          "text": [
            "[42, 65, 13, 44]\n[44, 13, 65, 42]\n"
          ]
        },
        {
          "output_type": "display_data",
          "data": {
            "text/plain": "<IPython.core.display.SVG object>",
            "image/svg+xml": "<svg xmlns=\"http://www.w3.org/2000/svg\" xmlns:xlink=\"http://www.w3.org/1999/xlink\" width=\"272pt\" height=\"47pt\" viewBox=\"0.00 0.00 271.99 47.00\">\n<g id=\"graph0\" class=\"graph\" transform=\"scale(1 1) rotate(0) translate(4 43)\">\n<title>Lista</title>\n<polygon fill=\"white\" stroke=\"transparent\" points=\"-4,4 -4,-43 267.99,-43 267.99,4 -4,4\"/>\n<!-- 42 -->\n<g id=\"node1\" class=\"node\">\n<title>42</title>\n<ellipse fill=\"none\" stroke=\"black\" cx=\"19.5\" cy=\"-19.5\" rx=\"19.5\" ry=\"19.5\"/>\n<text text-anchor=\"middle\" x=\"19.5\" y=\"-15.8\" font-family=\"Times New Roman,serif\" font-size=\"14.00\">42</text>\n</g>\n<!-- 65 -->\n<g id=\"node2\" class=\"node\">\n<title>65</title>\n<ellipse fill=\"none\" stroke=\"black\" cx=\"94.49\" cy=\"-19.5\" rx=\"19.5\" ry=\"19.5\"/>\n<text text-anchor=\"middle\" x=\"94.49\" y=\"-15.8\" font-family=\"Times New Roman,serif\" font-size=\"14.00\">65</text>\n</g>\n<!-- 42&#45;&gt;65 -->\n<g id=\"edge1\" class=\"edge\">\n<title>42-&gt;65</title>\n<path fill=\"none\" stroke=\"black\" d=\"M38.17,-13.62C46.36,-12.79 56.29,-12.55 65.46,-12.91\"/>\n<polygon fill=\"black\" stroke=\"black\" points=\"65.52,-16.42 75.73,-13.61 65.99,-9.44 65.52,-16.42\"/>\n</g>\n<!-- 65&#45;&gt;42 -->\n<g id=\"edge6\" class=\"edge\">\n<title>65-&gt;42</title>\n<path fill=\"none\" stroke=\"black\" d=\"M75.73,-25.39C67.53,-26.21 57.6,-26.45 48.43,-26.08\"/>\n<polygon fill=\"black\" stroke=\"black\" points=\"48.38,-22.57 38.17,-25.38 47.91,-29.55 48.38,-22.57\"/>\n</g>\n<!-- 13 -->\n<g id=\"node3\" class=\"node\">\n<title>13</title>\n<ellipse fill=\"none\" stroke=\"black\" cx=\"169.49\" cy=\"-19.5\" rx=\"19.5\" ry=\"19.5\"/>\n<text text-anchor=\"middle\" x=\"169.49\" y=\"-15.8\" font-family=\"Times New Roman,serif\" font-size=\"14.00\">13</text>\n</g>\n<!-- 65&#45;&gt;13 -->\n<g id=\"edge2\" class=\"edge\">\n<title>65-&gt;13</title>\n<path fill=\"none\" stroke=\"black\" d=\"M113.17,-13.62C121.35,-12.79 131.28,-12.55 140.46,-12.91\"/>\n<polygon fill=\"black\" stroke=\"black\" points=\"140.52,-16.42 150.73,-13.61 140.99,-9.44 140.52,-16.42\"/>\n</g>\n<!-- 13&#45;&gt;65 -->\n<g id=\"edge5\" class=\"edge\">\n<title>13-&gt;65</title>\n<path fill=\"none\" stroke=\"black\" d=\"M150.73,-25.39C142.53,-26.21 132.6,-26.45 123.43,-26.08\"/>\n<polygon fill=\"black\" stroke=\"black\" points=\"123.38,-22.57 113.17,-25.38 122.9,-29.55 123.38,-22.57\"/>\n</g>\n<!-- 44 -->\n<g id=\"node4\" class=\"node\">\n<title>44</title>\n<ellipse fill=\"none\" stroke=\"black\" cx=\"244.49\" cy=\"-19.5\" rx=\"19.5\" ry=\"19.5\"/>\n<text text-anchor=\"middle\" x=\"244.49\" y=\"-15.8\" font-family=\"Times New Roman,serif\" font-size=\"14.00\">44</text>\n</g>\n<!-- 13&#45;&gt;44 -->\n<g id=\"edge3\" class=\"edge\">\n<title>13-&gt;44</title>\n<path fill=\"none\" stroke=\"black\" d=\"M188.16,-13.62C196.35,-12.79 206.28,-12.55 215.45,-12.91\"/>\n<polygon fill=\"black\" stroke=\"black\" points=\"215.51,-16.42 225.73,-13.61 215.99,-9.44 215.51,-16.42\"/>\n</g>\n<!-- 44&#45;&gt;13 -->\n<g id=\"edge4\" class=\"edge\">\n<title>44-&gt;13</title>\n<path fill=\"none\" stroke=\"black\" d=\"M225.73,-25.39C217.53,-26.21 207.59,-26.45 198.42,-26.08\"/>\n<polygon fill=\"black\" stroke=\"black\" points=\"198.38,-22.57 188.16,-25.38 197.9,-29.55 198.38,-22.57\"/>\n</g>\n</g>\n</svg>"
          },
          "metadata": {}
        }
      ],
      "source": [
        "L=Lista_doble_enlace()\n",
        "L.insertar_despues_de(L.k_esimo(0),42)\n",
        "L.insertar_despues_de(L.k_esimo(1),65)\n",
        "L.insertar_despues_de(L.k_esimo(2),13)\n",
        "L.insertar_despues_de(L.k_esimo(3),44)\n",
        "print([x for x in L.ascendente()])\n",
        "print([x for x in L.descendente()])\n",
        "\n",
        "\n",
        "L.destruye_prev()\n",
        "\n",
        "L.dibujar()\n"
      ]
    },
    {
      "cell_type": "code",
      "execution_count": null,
      "metadata": {},
      "outputs": [],
      "source": []
    }
  ]
}