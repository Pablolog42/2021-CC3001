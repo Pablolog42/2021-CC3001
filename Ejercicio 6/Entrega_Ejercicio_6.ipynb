{
  "nbformat": 4,
  "nbformat_minor": 0,
  "metadata": {
    "kernelspec": {
      "name": "python392jvsc74a57bd09a25f204a300bdc49b2400c52ad2f477bb56de243b0a6afc988b6e51b20c71d1",
      "display_name": "Python 3.9.2 64-bit"
    },
    "language_info": {
      "codemirror_mode": {
        "name": "ipython",
        "version": 3
      },
      "file_extension": ".py",
      "mimetype": "text/x-python",
      "name": "python",
      "nbconvert_exporter": "python",
      "pygments_lexer": "ipython3",
      "version": "3.9.2"
    },
    "colab": {
      "name": "Entrega Ejercicio 6.ipynb",
      "provenance": []
    },
    "metadata": {
      "interpreter": {
        "hash": "9a25f204a300bdc49b2400c52ad2f477bb56de243b0a6afc988b6e51b20c71d1"
      }
    }
  },
  "cells": [
    {
      "cell_type": "markdown",
      "metadata": {
        "id": "luTflJ6HWK5H"
      },
      "source": [
        "### Ejercicio 5.1\n",
        "\n",
        "Alumno: Pablo González Aguilera - 20973277-7 - Seccion 2\n",
        "\n",
        "En este ejercicio se trata chequear si una secuencia de paréntesis está bien escrita. Si hay solo un tipo de paréntesis, por ejemplo ( y ), una secuencia correcta sería (()(())) y una incorrecta seria (()))()( o ()). Ésta sería una tarea fácil de responder, pues bastaría con llevar un contador de paréntesis abiertos, que se incrementa cuando se encuentra un ( y se decrementa cuando se encuentra un ) y se va chequeando que este contador nunca sea negativo y cuando se termine la secuencia el contador quede en 0. "
      ]
    },
    {
      "cell_type": "code",
      "metadata": {
        "id": "NzqZO5xpWK5L"
      },
      "source": [
        "def chequeo(s): # s es un strings con una secuencia de paréntesis ( )\n",
        "    i = 0 # contador de paréntesis abiertos\n",
        "    for c in s: \n",
        "        if c == \"(\":\n",
        "            i +=1\n",
        "        else:\n",
        "            i -=1\n",
        "        if i < 0: break\n",
        "    if i == 0: return \"CORRECTA\"\n",
        "    else : return \"INCORRECTA Contador = \"+str(i)"
      ],
      "execution_count": 12,
      "outputs": []
    },
    {
      "cell_type": "markdown",
      "metadata": {
        "id": "P8RAHX8iWK5L"
      },
      "source": [
        "Probemos con los ejemplos :"
      ]
    },
    {
      "cell_type": "code",
      "metadata": {
        "id": "f-ULssJbWK5L",
        "colab": {
          "base_uri": "https://localhost:8080/"
        },
        "outputId": "461db0ca-fb66-41a5-d51f-71db26d3fd2d"
      },
      "source": [
        "print(chequeo(\"(()(()))\"))\n",
        "print(chequeo(\"(())(()\"))\n",
        "print(chequeo(\"(()))\"))"
      ],
      "execution_count": 13,
      "outputs": [
        {
          "output_type": "stream",
          "name": "stdout",
          "text": [
            "CORRECTA\nINCORRECTA Contador = 1\nINCORRECTA Contador = -1\n"
          ]
        }
      ]
    },
    {
      "cell_type": "markdown",
      "metadata": {
        "id": "4Kq-c0w-WK5M"
      },
      "source": [
        "El problema se hace bastante más complejo cuando hay más de un tipo de paréntesis, por ejemplo (), [] y {} y ellos tienen que estar balanceados respectivamente, es decir se permite {([]{()})} o [{()[]}] pero no ([{]}) o {[()}]\n",
        "Esto se puede hacer con la ayuda de un Stack o Pila, inicialmente vacío.\n",
        "Luego, por cada símbolo que se va chequeando:\n",
        "   - si es un abre paréntesis entonces se pone en el stack y se continúa con el chequeo del próximo símbolo\n",
        "   - si es un cierra paréntesis entonces se revisa el elemento del tope del stack\n",
        "    - si el stack está vacío, entonces la secuencia está mal escrita y ahí termina el proceso. \n",
        "    - si el stack no está vacío, se extrae el símbolo del tope y se chequea si es un abre paréntesis que coincide con el tipo de cierra paréntesis que se encontró. Si es así, se continúa con el chequeo del próximo símbolo, si no la fórmula está mal escrita y ahí termina el proceso. \n",
        "\n",
        "Al final del proceso se debe chequear si el stack esta vacío, con lo cual se comprueba que la fórmula esta bien escrita. Si no, la fórmula está mal escrita."
      ]
    },
    {
      "cell_type": "markdown",
      "metadata": {
        "id": "hQylyla8WK5M"
      },
      "source": [
        "Se le pide escribir una funcion chequeo2 que reciba 3 parametros de tipo string: ``s``, ``a`` y ``b``. En ``s`` viene la secuencia de paréntesis a chequear, en ``a`` vienen los abre parentesis permitidos y en ``b`` los cierra paréntesis respectivos de modo que en ``b[i]`` está el paréntesis que cierra a ``a[i]``. \n",
        "Por simplicidad use la implementacion de pila que viene a continuacion "
      ]
    },
    {
      "cell_type": "code",
      "metadata": {
        "id": "I1hsQCGpWK5M"
      },
      "source": [
        "class Pila:\n",
        "    def __init__(self):\n",
        "        self.s=[]\n",
        "    def push(self,x):\n",
        "        self.s.append(x)\n",
        "    def pop(self):\n",
        "        assert len(self.s)>0\n",
        "        return self.s.pop() # pop de lista, no de Pila\n",
        "    def is_empty(self):\n",
        "        return len(self.s)==0"
      ],
      "execution_count": 14,
      "outputs": []
    },
    {
      "cell_type": "markdown",
      "metadata": {
        "id": "yNVsXn8VWK5N"
      },
      "source": [
        "Y escriba la funcion a continuación:"
      ]
    },
    {
      "cell_type": "code",
      "metadata": {
        "id": "aoJAl16rWK5N"
      },
      "source": [
        "#Se le pide escribir una funcion chequeo2 que reciba 3 parametros de tipo string: ``s``, ``a`` y ``b``. En ``s`` viene la secuencia de paréntesis a chequear, en ``a`` vienen los abre parentesis permitidos y en ``b`` los cierra paréntesis respectivos de modo que en ``b[i]`` está el paréntesis que cierra a ``a[i]``. \n",
        "#Por simplicidad use la implementacion de pila que viene a continuacion \n",
        "def chequeo2(s, a, b):\n",
        "    \n",
        "    stackParentesis = Pila()\n",
        "\n",
        "    for parentesis in s:\n",
        "        \n",
        "        # Caso abre paréntesis\n",
        "        if parentesis in a:\n",
        "            stackParentesis.push(parentesis)\n",
        "            continue\n",
        "        \n",
        "        #caso cierra parentesis\n",
        "        if parentesis in b:\n",
        "            #Si parte con un cierra parentesis, está mal escrita\n",
        "            if stackParentesis.is_empty():\n",
        "                return \"INCORRECTA\"\n",
        "\n",
        "            tope = stackParentesis.pop()\n",
        "            indiceA = a.find(tope) \n",
        "            indiceB = b.find(parentesis) \n",
        "\n",
        "            # en b[i] está el paréntesis que cierra a a[i]\n",
        "            if indiceA == indiceB:\n",
        "                continue\n",
        "            \n",
        "            return \"INCORRECTA\"\n",
        "        \n",
        "    return \"CORRECTA\""
      ],
      "execution_count": 15,
      "outputs": []
    },
    {
      "cell_type": "markdown",
      "metadata": {
        "id": "KQKnuOLFWK5N"
      },
      "source": [
        "Pruébela con los siguientes casos:"
      ]
    },
    {
      "cell_type": "code",
      "metadata": {
        "id": "u5A1YrUvWK5N"
      },
      "source": [
        "print(chequeo2(\"(()())\",\"(\",\")\"))\n",
        "print(chequeo2(\"{([]{()})}\",\"{[(\",\"}])\"))\n",
        "print(chequeo2(\"{([]()})}\",\"{[(\",\"}])\"))\n",
        "print(chequeo2(\"{<{<>}>}\", \"{<\",\"}>\"))\n",
        "print(chequeo2(\"{<{<>>}>}\", \"{<\",\"}>\"))"
      ],
      "execution_count": 16,
      "outputs": [
        {
          "output_type": "stream",
          "name": "stdout",
          "text": [
            "CORRECTA\nCORRECTA\nINCORRECTA\nCORRECTA\nINCORRECTA\n"
          ]
        }
      ]
    },
    {
      "cell_type": "code",
      "execution_count": null,
      "metadata": {},
      "outputs": [],
      "source": []
    }
  ]
}