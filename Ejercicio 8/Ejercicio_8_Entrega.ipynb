{
  "nbformat": 4,
  "nbformat_minor": 0,
  "metadata": {
    "colab": {
      "name": "Ejercicio 8 Entrega.ipynb",
      "provenance": [],
      "collapsed_sections": []
    },
    "kernelspec": {
      "name": "python392jvsc74a57bd09a25f204a300bdc49b2400c52ad2f477bb56de243b0a6afc988b6e51b20c71d1",
      "display_name": "Python 3.9.2 64-bit"
    },
    "language_info": {
      "name": "python",
      "version": "3.9.2"
    },
    "metadata": {
      "interpreter": {
        "hash": "9a25f204a300bdc49b2400c52ad2f477bb56de243b0a6afc988b6e51b20c71d1"
      }
    }
  },
  "cells": [
    {
      "cell_type": "markdown",
      "metadata": {
        "id": "fjDRkcaWe9E9"
      },
      "source": [
        "### Ejercicio 6.1 (Chequear si un árbol es AVL en tiempo lineal)\n",
        "\n",
        "Alumno: Pablo González Aguilera - 20973277-7 - Sección 2\n",
        "\n",
        "En este ejercicio usted debe modificar la implementación dada para asegurar que cada nodo del árbol se visite solo una vez, asegurando de esta manera que el costo de determinar si un árbol es AVL sea $\\Theta(n)$.\n",
        "\n",
        "Para esto, usted debe fusionar las funciones ``altura`` y ``es_AVL`` en una sola función ``altura_AVL``, que retorne una tupla $(h,a)$, donde $h$ es la altura y $a$ es un booleano que dice si el árbol es AVL. De esta manera, al invocar la función se tiene de una sola vez toda la información necesaria."
      ]
    },
    {
      "cell_type": "code",
      "metadata": {
        "id": "DDNUM7SHe3_x"
      },
      "source": [
        "class Nodoi:\n",
        "    def __init__(self, izq, info, der):\n",
        "        self.izq=izq\n",
        "        self.info=info\n",
        "        self.der=der\n",
        "    \n",
        "    def altura(self):\n",
        "        return 1+max(self.izq.altura(),self.der.altura())\n",
        "    \n",
        "    def es_AVL(self):\n",
        "        return abs(self.izq.altura()-self.der.altura())<=1 \\\n",
        "                and self.izq.es_AVL() and self.der.es_AVL()\n",
        "        \n",
        "    def __str__(self):\n",
        "        return \"(\"+self.izq.__str__()+str(self.info)+self.der.__str__()+\")\"\n",
        "\n",
        "    def altura_AVL(self):\n",
        "\n",
        "        a = abs(self.izq.altura()-self.der.altura())<=1 and self.izq.altura_AVL()[1] and self.der.altura_AVL()[1] # El booleano es el indice 1 de la tupla\n",
        "        h = 1+max(self.izq.altura(),self.der.altura())\n",
        "        return (h,a)\n",
        "\n",
        "class Nodoe:\n",
        "    def __init__(self):\n",
        "        pass\n",
        "\n",
        "    def altura(self):\n",
        "        return 0\n",
        "    \n",
        "    def es_AVL(self):\n",
        "        return True\n",
        "\n",
        "    # Identico a antes, pero ahora los retorno como tupla\n",
        "    def altura_AVL(self):\n",
        "        return(0,True)\n",
        "    \n",
        "    def __str__(self):\n",
        "        return\"☐\"\n",
        "\n",
        "class Arbol:\n",
        "    def __init__(self,raiz=Nodoe()):\n",
        "        self.raiz=raiz     \n",
        "    \n",
        "    def es_AVL(self):\n",
        "        return self.raiz.es_AVL()\n",
        "\n",
        "    # Implementación nueva\n",
        "    def altura_AVL(self):\n",
        "        return self.raiz.altura_AVL()\n",
        "    \n",
        "    def __str__(self):        \n",
        "        return self.raiz.__str__()\n",
        "\n",
        "    "
      ],
      "execution_count": 51,
      "outputs": []
    },
    {
      "cell_type": "code",
      "metadata": {
        "id": "CwkQxf6OfHc3"
      },
      "source": [
        "import datetime\n",
        "\n",
        "begin_time = datetime.datetime.now()\n",
        "a1=Arbol(Nodoi(Nodoi(Nodoe(),1,Nodoe()),\n",
        "            2,\n",
        "            Nodoi(Nodoe(),3,Nodoi(Nodoe(),4,Nodoe()))))\n",
        "print(a1)\n",
        "print(a1.altura_AVL())\n",
        "\n",
        "print(datetime.datetime.now() - begin_time)"
      ],
      "execution_count": 52,
      "outputs": [
        {
          "output_type": "stream",
          "name": "stdout",
          "text": [
            "((☐1☐)2(☐3(☐4☐)))\n(3, True)\n0:00:00\n"
          ]
        }
      ]
    },
    {
      "cell_type": "code",
      "metadata": {
        "id": "gEHeEVbtfJR0"
      },
      "source": [
        "begin_time = datetime.datetime.now()\n",
        "a2=Arbol(Nodoi(Nodoi(Nodoe(),1,Nodoe()),\n",
        "            2,\n",
        "            Nodoi(Nodoe(),3,Nodoi(Nodoe(),4,Nodoi(Nodoe(),5,Nodoe())))))\n",
        "print(a2)\n",
        "print(a2.altura_AVL())\n",
        "\n",
        "print(datetime.datetime.now() - begin_time)"
      ],
      "execution_count": 53,
      "outputs": [
        {
          "output_type": "stream",
          "name": "stdout",
          "text": [
            "((☐1☐)2(☐3(☐4(☐5☐))))\n(4, False)\n0:00:00.001001\n"
          ]
        }
      ]
    }
  ]
}