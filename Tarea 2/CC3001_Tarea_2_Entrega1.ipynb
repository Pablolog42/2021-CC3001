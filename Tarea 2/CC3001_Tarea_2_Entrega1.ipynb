{
  "nbformat": 4,
  "nbformat_minor": 0,
  "metadata": {
    "kernelspec": {
      "name": "python3",
      "display_name": "Python 3.9.2 64-bit",
      "metadata": {
        "interpreter": {
          "hash": "9a25f204a300bdc49b2400c52ad2f477bb56de243b0a6afc988b6e51b20c71d1"
        }
      }
    },
    "language_info": {
      "codemirror_mode": {
        "name": "ipython",
        "version": 3
      },
      "file_extension": ".py",
      "mimetype": "text/x-python",
      "name": "python",
      "nbconvert_exporter": "python",
      "pygments_lexer": "ipython3",
      "version": "3.9.2"
    },
    "colab": {
      "name": "CC3001 - Tarea 2 Entrega1.ipynb",
      "provenance": [],
      "collapsed_sections": []
    }
  },
  "cells": [
    {
      "cell_type": "markdown",
      "metadata": {
        "id": "TuBrFz2U_Hth"
      },
      "source": [
        "# CC3001 Otoño 2021 Tarea 2\n",
        "\n",
        "## Shellsort\n",
        "\n",
        "### Profesores\n",
        "Sección 1 Iván Sipirán •\n",
        "Sección 2 Patricio Poblete •\n",
        "Sección 3 Nelson Baloian\n",
        "\n",
        "Alumno: Pablo González Aguilera 20.973.277-7, Seccion 2.\n"
      ]
    },
    {
      "cell_type": "markdown",
      "metadata": {
        "id": "HiNcDvrX_Htj"
      },
      "source": [
        "El objetivo de esta tarea es que usted implemente el algoritmo de ordenación Shellsort.\n",
        "\n",
        "Para describir cómo funciona Shellsort definamos un arreglo \"$d$-ordenado\" (donde $d$ es un entero mayor o igual a 1) como un arreglo en que cada elemento está ordenado respecto de sus vecinos que están a $d$ casilleros de distancia. Por ejemplo, en el siguiente diagrama se muestran un arreglo antes y después de ser \"3-ordenado\", destacando en distintos colores las las subsecuencias que se forman al considerar elementos que están a distancia 3:\n",
        "\n",
        "Antes:\n",
        "\n",
        "![shellsort1](https://github.com/ppoblete/CC3001-2020-2-Tareas/blob/master/shellsort1.png?raw=1)\n",
        "\n",
        "Después:\n",
        "\n",
        "![shellsort2](https://github.com/ppoblete/CC3001-2020-2-Tareas/blob/master/shellsort2.png?raw=1)\n",
        "\n",
        "Noten que el caso particular de un arreglo \"1-ordenado\" (caso $d=1$) sería lo mismo que un arreglo ordenado.\n",
        "\n",
        "El algoritmo Shellsort consiste en hacer una secuencia de pasadas $d$-ordenando el arreglo, cada vez con un valor diferente de $d$, siendo la última siempre con $d=1$.\n",
        "\n",
        "Para hacer una pasada de Shellsort elegimos un valor de $d$ y luego aplicamos una versión modificada de ordenación por inserción. La modificación consiste en que la función ``insertar(a,k)`` compara con el elemento $d$ casilleros más atrás, en lugar de hacerlo con el que está uno más atrás.\n",
        "\n",
        "Para ordenar el arreglo completo, Shellsort hace una secuencia de pasadas, con un conjunto decreciente de valores $d_k,d_{k-1}, \\ldots,d_1$, con $d_1=1$. Esto último asegura que el arreglo quede finalmente ordenado, pero las pasadas anteriores contribuyen a acelerar el proceso, porque hay un teorema (que no les pedimos demostrar) que dice que si un arreglo que ya estaba $i$-ordenado se $j$-ordena, el arreglo resultante sigue estando $i$-ordenado. Esto es, una pasada no echa a perder lo que han hecho las anteriores."
      ]
    },
    {
      "cell_type": "markdown",
      "metadata": {
        "id": "uaJjQHQk_Htk"
      },
      "source": [
        "# Recuerdo de la ordenación por inserción\n",
        "\n",
        "Recuerde que la ordenación por inserción está implementada en el apunte de la manera siguiente:"
      ]
    },
    {
      "cell_type": "code",
      "metadata": {
        "id": "pzCxbxct_Htl"
      },
      "source": [
        "def ordena_insercion(a):\n",
        "    \"\"\"Ordena el arreglo a por inserción\"\"\"\n",
        "    n=len(a)\n",
        "    for k in range(0,n):\n",
        "        insertar(a,k)\n",
        "        \n",
        "def insertar(a, k):\n",
        "    \"\"\"\n",
        "    Inserta a[k] entre los elementos anteriores\n",
        "    preservando el orden ascendente (versión 2)\n",
        "    \"\"\"\n",
        "    b=a[k] # b almacena transitoriamente al elemento a[k]\n",
        "    j=k # señala la posición del lugar \"vacío\"\n",
        "    while j>0 and b<a[j-1]:\n",
        "        a[j]=a[j-1]\n",
        "        j-=1\n",
        "    a[j]=b"
      ],
      "execution_count": 2,
      "outputs": []
    },
    {
      "cell_type": "markdown",
      "metadata": {
        "id": "-_6T3EYX_Htq"
      },
      "source": [
        "Probemos esto para asegurarnos que funcione bien:"
      ]
    },
    {
      "cell_type": "code",
      "metadata": {
        "id": "rgNh6gp1_Htq",
        "colab": {
          "base_uri": "https://localhost:8080/"
        },
        "outputId": "6ea0e858-97da-4393-aad3-7ebaaaa14dc2"
      },
      "source": [
        "import numpy as np\n",
        "\n",
        "def verifica_d_ordenado(a,d):\n",
        "    for i in range(0,len(a)-d):\n",
        "        assert a[i]<=a[i+d]\n",
        "    print(\"Arreglo \"+str(d)+\"-ordenado OK.\")\n",
        "        \n",
        "A = np.array([46,35,95,21,82,70,72,56,64,50])\n",
        "ordena_insercion(A)\n",
        "print(A)\n",
        "verifica_d_ordenado(A,1)"
      ],
      "execution_count": 3,
      "outputs": [
        {
          "output_type": "stream",
          "name": "stdout",
          "text": [
            "[21 35 46 50 56 64 70 72 82 95]\nArreglo 1-ordenado OK.\n"
          ]
        }
      ]
    },
    {
      "cell_type": "markdown",
      "metadata": {
        "id": "-_xXYgvs_Htw"
      },
      "source": [
        "---\n",
        "# Lo que usted tiene que hacer:"
      ]
    },
    {
      "cell_type": "markdown",
      "metadata": {
        "id": "Dc6Hu4Oh_Htw"
      },
      "source": [
        "## 1) Programar una $d$-ordenación\n",
        "\n",
        "Modifique el código anterior para que $d$-ordene el arreglo, para un valor de $d$ dado. Para esto, escriba el código de la función ``d_insertar`` en el espacio provisto:"
      ]
    },
    {
      "cell_type": "code",
      "metadata": {
        "id": "hm9LSyGD_Hty"
      },
      "source": [
        "def d_ordena_insercion(a,d):\n",
        "    \"\"\"d-Ordena el arreglo a por inserción\"\"\"\n",
        "    n=len(a)\n",
        "    for k in range(0,n):\n",
        "        d_insertar(a,k,d)\n",
        "        \n",
        "def d_insertar(a,k,d):\n",
        "    \"\"\"\n",
        "    Inserta a[k] entre los elementos anteriores a distancia d\n",
        "    preservando el orden ascendente (versión 2)\n",
        "    \"\"\"\n",
        "\n",
        "    n=len(a)\n",
        "    for k in range(0,n):\n",
        "        b=a[k] \n",
        "        j=k \n",
        "        while j>0 and b < a[j-d]:   #Tal como se indica en el enunciado, la modificación escencial a la función insertar, es que ahora la comparación y el swap se realizan \n",
        "            a[j] = a[j-d]           # con el elemento d casilleros atrás (en vez de a[j-1], se opera con a[j-d])\n",
        "            j-=1\n",
        "        a[j]=b\n",
        "\n",
        "\n",
        "\n",
        "    # escriba aquí el código modificado de la función insertar\n",
        "    # para que haga una d-inserción en lugar de una inserción"
      ],
      "execution_count": 4,
      "outputs": []
    },
    {
      "cell_type": "markdown",
      "metadata": {
        "id": "i4BDEa33_Ht4"
      },
      "source": [
        "Pruebe aquí que su algoritmo $3$-ordena correctamente:"
      ]
    },
    {
      "cell_type": "code",
      "metadata": {
        "id": "jdj2YkxJ_Ht5"
      },
      "source": [
        "A = np.array([46,35,95,21,82,70,72,56,64,50])\n",
        "d = 4\n",
        "\n",
        "d_ordena_insercion(A,d)\n",
        "print(A)\n",
        "verifica_d_ordenado(A,d)"
      ],
      "execution_count": 5,
      "outputs": [
        {
          "output_type": "stream",
          "name": "stdout",
          "text": [
            "[50 70 82 70 50 70 82 70 82 70]\nArreglo 4-ordenado OK.\n"
          ]
        }
      ]
    },
    {
      "cell_type": "markdown",
      "metadata": {
        "id": "AMroZLuc_HuD"
      },
      "source": [
        "## 2) Programar Shellsort\n",
        "\n",
        "Con esto ya estamos listos para programar Shellsort, haciendo una secuencia de pasadas, variando el valor de $d$ y terminando con $d=1$.Hay muchas formas conocidas de generar la secuencia de valores de $d$, con variados niveles de eficiencia. A continuación, programe Shellsort usando una secuencia decreciente de valores de la forma $d_k=2^k-1$, esto es: $\\ldots, 63, 31, 15, 7, 3, 1$. Se sabe que esta secuencia hace que Shellsort funcione en tiempo $\\Theta(n^{3/2})$:"
      ]
    },
    {
      "cell_type": "code",
      "metadata": {
        "id": "macdtYd8_HuE"
      },
      "source": [
        "def Shellsort(a):\n",
        "    \"\"\"Ordena a usando Shell Sort, con la secuencia de valores …,63,31,15,7,3,1\"\"\"\n",
        "    #Primero, partimos generando la secuencia de valores de d (los d_k)\n",
        "\n",
        "    n = len(a)\n",
        "    k = n // 2\n",
        "\n",
        "    for k in range(0, n): \n",
        "        d_k = (2^k) - 1\n",
        "\n",
        "        d_ordena_insercion(a, d_k)\n",
        "\n",
        "\n",
        "\n"
      ],
      "execution_count": 6,
      "outputs": []
    },
    {
      "cell_type": "markdown",
      "metadata": {
        "id": "E9jipDWZ_HuG"
      },
      "source": [
        "Pruebe aquí su algoritmo de la manera siguiente:"
      ]
    },
    {
      "cell_type": "code",
      "metadata": {
        "id": "5fSJaYs9_HuH"
      },
      "source": [
        "A = np.array([46,35,95,21,82,70,72,56,64,50])\n",
        "Shellsort(A)\n",
        "print(A)\n",
        "verifica_ordenado(A,1)"
      ],
      "execution_count": 7,
      "outputs": [
        {
          "output_type": "error",
          "ename": "IndexError",
          "evalue": "index 10 is out of bounds for axis 0 with size 10",
          "traceback": [
            "\u001b[1;31m---------------------------------------------------------------------------\u001b[0m",
            "\u001b[1;31mIndexError\u001b[0m                                Traceback (most recent call last)",
            "\u001b[1;32m<ipython-input-7-26cf82131778>\u001b[0m in \u001b[0;36m<module>\u001b[1;34m\u001b[0m\n\u001b[0;32m      1\u001b[0m \u001b[0mA\u001b[0m \u001b[1;33m=\u001b[0m \u001b[0mnp\u001b[0m\u001b[1;33m.\u001b[0m\u001b[0marray\u001b[0m\u001b[1;33m(\u001b[0m\u001b[1;33m[\u001b[0m\u001b[1;36m46\u001b[0m\u001b[1;33m,\u001b[0m\u001b[1;36m35\u001b[0m\u001b[1;33m,\u001b[0m\u001b[1;36m95\u001b[0m\u001b[1;33m,\u001b[0m\u001b[1;36m21\u001b[0m\u001b[1;33m,\u001b[0m\u001b[1;36m82\u001b[0m\u001b[1;33m,\u001b[0m\u001b[1;36m70\u001b[0m\u001b[1;33m,\u001b[0m\u001b[1;36m72\u001b[0m\u001b[1;33m,\u001b[0m\u001b[1;36m56\u001b[0m\u001b[1;33m,\u001b[0m\u001b[1;36m64\u001b[0m\u001b[1;33m,\u001b[0m\u001b[1;36m50\u001b[0m\u001b[1;33m]\u001b[0m\u001b[1;33m)\u001b[0m\u001b[1;33m\u001b[0m\u001b[1;33m\u001b[0m\u001b[0m\n\u001b[1;32m----> 2\u001b[1;33m \u001b[0mShellsort\u001b[0m\u001b[1;33m(\u001b[0m\u001b[0mA\u001b[0m\u001b[1;33m)\u001b[0m\u001b[1;33m\u001b[0m\u001b[1;33m\u001b[0m\u001b[0m\n\u001b[0m\u001b[0;32m      3\u001b[0m \u001b[0mprint\u001b[0m\u001b[1;33m(\u001b[0m\u001b[0mA\u001b[0m\u001b[1;33m)\u001b[0m\u001b[1;33m\u001b[0m\u001b[1;33m\u001b[0m\u001b[0m\n\u001b[0;32m      4\u001b[0m \u001b[0mverifica_ordenado\u001b[0m\u001b[1;33m(\u001b[0m\u001b[0mA\u001b[0m\u001b[1;33m,\u001b[0m\u001b[1;36m1\u001b[0m\u001b[1;33m)\u001b[0m\u001b[1;33m\u001b[0m\u001b[1;33m\u001b[0m\u001b[0m\n",
            "\u001b[1;32m<ipython-input-6-0a3eed9f2dfb>\u001b[0m in \u001b[0;36mShellsort\u001b[1;34m(a)\u001b[0m\n\u001b[0;32m      9\u001b[0m         \u001b[0md_k\u001b[0m \u001b[1;33m=\u001b[0m \u001b[1;33m(\u001b[0m\u001b[1;36m2\u001b[0m\u001b[1;33m^\u001b[0m\u001b[0mk\u001b[0m\u001b[1;33m)\u001b[0m \u001b[1;33m-\u001b[0m \u001b[1;36m1\u001b[0m\u001b[1;33m\u001b[0m\u001b[1;33m\u001b[0m\u001b[0m\n\u001b[0;32m     10\u001b[0m \u001b[1;33m\u001b[0m\u001b[0m\n\u001b[1;32m---> 11\u001b[1;33m         \u001b[0md_ordena_insercion\u001b[0m\u001b[1;33m(\u001b[0m\u001b[0ma\u001b[0m\u001b[1;33m,\u001b[0m \u001b[0md_k\u001b[0m\u001b[1;33m)\u001b[0m\u001b[1;33m\u001b[0m\u001b[1;33m\u001b[0m\u001b[0m\n\u001b[0m\u001b[0;32m     12\u001b[0m \u001b[1;33m\u001b[0m\u001b[0m\n\u001b[0;32m     13\u001b[0m \u001b[1;33m\u001b[0m\u001b[0m\n",
            "\u001b[1;32m<ipython-input-4-987caae1dc8f>\u001b[0m in \u001b[0;36md_ordena_insercion\u001b[1;34m(a, d)\u001b[0m\n\u001b[0;32m      3\u001b[0m     \u001b[0mn\u001b[0m\u001b[1;33m=\u001b[0m\u001b[0mlen\u001b[0m\u001b[1;33m(\u001b[0m\u001b[0ma\u001b[0m\u001b[1;33m)\u001b[0m\u001b[1;33m\u001b[0m\u001b[1;33m\u001b[0m\u001b[0m\n\u001b[0;32m      4\u001b[0m     \u001b[1;32mfor\u001b[0m \u001b[0mk\u001b[0m \u001b[1;32min\u001b[0m \u001b[0mrange\u001b[0m\u001b[1;33m(\u001b[0m\u001b[1;36m0\u001b[0m\u001b[1;33m,\u001b[0m\u001b[0mn\u001b[0m\u001b[1;33m)\u001b[0m\u001b[1;33m:\u001b[0m\u001b[1;33m\u001b[0m\u001b[1;33m\u001b[0m\u001b[0m\n\u001b[1;32m----> 5\u001b[1;33m         \u001b[0md_insertar\u001b[0m\u001b[1;33m(\u001b[0m\u001b[0ma\u001b[0m\u001b[1;33m,\u001b[0m\u001b[0mk\u001b[0m\u001b[1;33m,\u001b[0m\u001b[0md\u001b[0m\u001b[1;33m)\u001b[0m\u001b[1;33m\u001b[0m\u001b[1;33m\u001b[0m\u001b[0m\n\u001b[0m\u001b[0;32m      6\u001b[0m \u001b[1;33m\u001b[0m\u001b[0m\n\u001b[0;32m      7\u001b[0m \u001b[1;32mdef\u001b[0m \u001b[0md_insertar\u001b[0m\u001b[1;33m(\u001b[0m\u001b[0ma\u001b[0m\u001b[1;33m,\u001b[0m\u001b[0mk\u001b[0m\u001b[1;33m,\u001b[0m\u001b[0md\u001b[0m\u001b[1;33m)\u001b[0m\u001b[1;33m:\u001b[0m\u001b[1;33m\u001b[0m\u001b[1;33m\u001b[0m\u001b[0m\n",
            "\u001b[1;32m<ipython-input-4-987caae1dc8f>\u001b[0m in \u001b[0;36md_insertar\u001b[1;34m(a, k, d)\u001b[0m\n\u001b[0;32m     15\u001b[0m         \u001b[0mb\u001b[0m\u001b[1;33m=\u001b[0m\u001b[0ma\u001b[0m\u001b[1;33m[\u001b[0m\u001b[0mk\u001b[0m\u001b[1;33m]\u001b[0m\u001b[1;33m\u001b[0m\u001b[1;33m\u001b[0m\u001b[0m\n\u001b[0;32m     16\u001b[0m         \u001b[0mj\u001b[0m\u001b[1;33m=\u001b[0m\u001b[0mk\u001b[0m\u001b[1;33m\u001b[0m\u001b[1;33m\u001b[0m\u001b[0m\n\u001b[1;32m---> 17\u001b[1;33m         \u001b[1;32mwhile\u001b[0m \u001b[0mj\u001b[0m\u001b[1;33m>\u001b[0m\u001b[1;36m0\u001b[0m \u001b[1;32mand\u001b[0m \u001b[0mb\u001b[0m \u001b[1;33m<\u001b[0m \u001b[0ma\u001b[0m\u001b[1;33m[\u001b[0m\u001b[0mj\u001b[0m\u001b[1;33m-\u001b[0m\u001b[0md\u001b[0m\u001b[1;33m]\u001b[0m\u001b[1;33m:\u001b[0m   \u001b[1;31m#Tal como se indica en el enunciado, la modificación escencial a la función insertar, es que ahora la comparación y el swap se realizan\u001b[0m\u001b[1;33m\u001b[0m\u001b[1;33m\u001b[0m\u001b[0m\n\u001b[0m\u001b[0;32m     18\u001b[0m             \u001b[0ma\u001b[0m\u001b[1;33m[\u001b[0m\u001b[0mj\u001b[0m\u001b[1;33m]\u001b[0m \u001b[1;33m=\u001b[0m \u001b[0ma\u001b[0m\u001b[1;33m[\u001b[0m\u001b[0mj\u001b[0m\u001b[1;33m-\u001b[0m\u001b[0md\u001b[0m\u001b[1;33m]\u001b[0m           \u001b[1;31m# con el elemento d casilleros atrás (en vez de a[j-1], se opera con a[j-d])\u001b[0m\u001b[1;33m\u001b[0m\u001b[1;33m\u001b[0m\u001b[0m\n\u001b[0;32m     19\u001b[0m             \u001b[0mj\u001b[0m\u001b[1;33m-=\u001b[0m\u001b[1;36m1\u001b[0m\u001b[1;33m\u001b[0m\u001b[1;33m\u001b[0m\u001b[0m\n",
            "\u001b[1;31mIndexError\u001b[0m: index 10 is out of bounds for axis 0 with size 10"
          ]
        }
      ]
    },
    {
      "cell_type": "markdown",
      "metadata": {
        "id": "Stky3Ts2_HuJ"
      },
      "source": [
        "En la siguiente celda agregue una prueba similar de ordenación de un arreglo de tamaño $1000$ generado al azar (sin imprimirlo):"
      ]
    },
    {
      "cell_type": "code",
      "metadata": {
        "id": "sS7LH8wn_HuK"
      },
      "source": [],
      "execution_count": null,
      "outputs": []
    },
    {
      "cell_type": "markdown",
      "metadata": {
        "id": "X38mE4fQ_HuR"
      },
      "source": [
        "## 3) Probar con una secuencia diferente de valores $d_k$\n",
        "\n",
        "Finalmente, investigue respecto de otras maneras de generar la secuencia $d_k$, escoja una secuencia en particular, modifique su versión de Shellsort que la use y pruébela."
      ]
    },
    {
      "cell_type": "code",
      "metadata": {
        "id": "ASBkDPca_HuS"
      },
      "source": [],
      "execution_count": null,
      "outputs": []
    },
    {
      "cell_type": "markdown",
      "metadata": {
        "id": "v_UwExwo_HuW"
      },
      "source": [
        "## ¿Qué hay que entregar?\n",
        "\n",
        "Usted debe entregar este mismo archivo, modificado de acuerdo a lo que se pide. Haga todos los cambios necesarios para explicar y documentar adecuadamente su código. Cite todas las fuentes de información utilizadas. **No olvide poner su nombre en el encabezamiento**."
      ]
    }
  ]
}