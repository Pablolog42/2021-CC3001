{
  "nbformat": 4,
  "nbformat_minor": 0,
  "metadata": {
    "kernelspec": {
      "display_name": "Python 3",
      "language": "python",
      "name": "python3"
    },
    "language_info": {
      "codemirror_mode": {
        "name": "ipython",
        "version": 3
      },
      "file_extension": ".py",
      "mimetype": "text/x-python",
      "name": "python",
      "nbconvert_exporter": "python",
      "pygments_lexer": "ipython3",
      "version": "3.7.1"
    },
    "colab": {
      "name": "CC3001 2021-1 Tarea 4 Entrega.ipynb",
      "provenance": [],
      "collapsed_sections": []
    }
  },
  "cells": [
    {
      "cell_type": "markdown",
      "metadata": {
        "id": "vqpyykLhbGmC"
      },
      "source": [
        "# CC3001 Otoño 2021 Tarea 4\n",
        "# Cálculo de derivadas de fórmulas representadas mediante árboles\n",
        "## Profesores\n",
        "Sección 1 Iván Sipirán • Sección 2 Patricio Poblete • Sección 3 Nelson Baloian\n",
        "\n",
        "Pablo González Aguilera\n",
        "20.973.277-7 Sección 2\n"
      ]
    },
    {
      "cell_type": "markdown",
      "metadata": {
        "id": "0m-PHqkybGmD"
      },
      "source": [
        "El objetivo de esta tarea es aprender a procesar la información de árboles que representan fórmulas. Hay muchas cosas que uno puede hacer con estos árboles, y en esta tarea nos enfocaremos en particular en calcular la derivada de una fórmula respecto de una variable dada.\n",
        "\n",
        "Específicamente, el problema es: dado un árbol que representa una fórmula, construir y retornar otro árbol que representa la derivada de la primera fórmula respecto de una variable dada.\n",
        "\n",
        "La fórmula se entrega en notación de infijo (normal). En esta fórmula,\n",
        "los operadores de menor prioridad son la suma (``+``) y la resta (``-``), de igual prioridad entre sí, luego vienen la multiplicación (``*``) y la división (``/``), también de igual prioridad entre sí, y finalmente el operador de mayor prioridad es la elevación a potencia (``^``). También se puede usar paréntesis. Para simplificar no usaremos el operador \"menos unario\". **Nota importante**: Para no complicar excesivamente las cosas, supondremos que en la elevación a potencia el exponente no contiene la variable respecto de la cual se está derivando.\n",
        "\n",
        "A continuación usted encontrará las clases ``Nodoi``, ``Nodoe`` y ``Arbol`` que implementan árboles que representan fórmulas. La clase ``Arbol`` viene con un constructor que recibe un string como parámetro, el cual contiene una fórmula, y este constructor se encarga de transformar la fórmula de string a árbol, de modo que usted no necesita preocuparse de eso. Para simplificar, la fórmula solo podrá contener variables de una sola letra, números de un solo dígito, y sin espacios.\n",
        "\n",
        "Usted tiene que implementar para la clase ``Arbol`` y para los nodos una función ``derivada`` que al ser invocada indicando el nombre de una variable, retorne un árbol que represente la derivada de la fórmula respectiva.\n",
        "\n",
        "En este enunciado vienen funciones ``derivada`` triviales, que simplemente retornan la misma fórmula, sin derivarla. Usted debe reemplazarlas por la implementación correcta\n"
      ]
    },
    {
      "cell_type": "code",
      "metadata": {
        "id": "0K4vThBPl86B",
        "colab": {
          "base_uri": "https://localhost:8080/"
        },
        "outputId": "9bcd857a-8018-4f1c-d308-4d4f780af82f"
      },
      "source": [
        "!pip install aed-utilities"
      ],
      "execution_count": null,
      "outputs": [
        {
          "output_type": "stream",
          "text": [
            "Requirement already satisfied: aed-utilities in /usr/local/lib/python3.7/dist-packages (0.5.1)\n",
            "Requirement already satisfied: beautifulsoup4 in /usr/local/lib/python3.7/dist-packages (from aed-utilities) (4.6.3)\n",
            "Requirement already satisfied: validators in /usr/local/lib/python3.7/dist-packages (from aed-utilities) (0.18.2)\n",
            "Requirement already satisfied: decorator>=3.4.0 in /usr/local/lib/python3.7/dist-packages (from validators->aed-utilities) (4.4.2)\n",
            "Requirement already satisfied: six>=1.4.0 in /usr/local/lib/python3.7/dist-packages (from validators->aed-utilities) (1.15.0)\n"
          ],
          "name": "stdout"
        }
      ]
    },
    {
      "cell_type": "code",
      "metadata": {
        "id": "wxdoFaDHbGmE"
      },
      "source": [
        "\n",
        "\n",
        "import aed_utilities as aed\n",
        "\n",
        "class Nodoi:\n",
        "    def __init__(self, izq, info, der):\n",
        "        self.izq=izq\n",
        "        self.info=info\n",
        "        self.der=der\n",
        "    def postorden(self):\n",
        "        self.izq.postorden()   \n",
        "        self.der.postorden()\n",
        "        print(self.info, end=\" \")\n",
        "    def derivada(self,x):\n",
        "        # Esta función la tiene que escribir usted\n",
        "        # Por mientras, retorna la misma fórmula sin derivarla\n",
        "        return self\n",
        "\n",
        "class Nodoe:\n",
        "    def __init__(self, info):\n",
        "        self.info=info\n",
        "    def postorden(self):\n",
        "        print(self.info, end=\" \")\n",
        "    def derivada(self,x):\n",
        "        # Esta función la tiene que escribir usted\n",
        "        # Por mientras, retorna la misma fórmula sin derivarla\n",
        "        return self\n",
        "\n",
        "class Arbol:\n",
        "    def __init__(self,formula):\n",
        "        if type(formula)!=str: # se supone que viene el árbol ya construído\n",
        "          self.raiz=formula\n",
        "          return\n",
        "\n",
        "        # la fórmula viene en forma de string\n",
        "        global k\n",
        "        global s\n",
        "        s=formula+\";\" # agregamos una marca de fin de la entrada\n",
        "        k=0 # indica próximo caracter por procesar\n",
        "        # definimos funciones para analizar la fórmula\n",
        "        def expresion(): # retorna puntero a la raíz de un árbol que representa a la fórmula s\n",
        "            global k\n",
        "            global s\n",
        "            a=factor()\n",
        "            while s[k]==\"+\" or s[k]==\"-\":\n",
        "                op=s[k]\n",
        "                k+=1\n",
        "                b=factor()\n",
        "                a=Nodoi(a,op,b)\n",
        "            return a\n",
        "        def factor():\n",
        "            global k\n",
        "            global s\n",
        "            a=termino()\n",
        "            while s[k]==\"*\" or s[k]==\"/\":\n",
        "                op=s[k]\n",
        "                k+=1\n",
        "                b=termino()\n",
        "                a=Nodoi(a,op,b)\n",
        "            return a\n",
        "        def termino():\n",
        "            global k\n",
        "            global s\n",
        "            a=primario()\n",
        "            if s[k]==\"^\":\n",
        "                op=s[k]\n",
        "                k+=1\n",
        "                b=termino()\n",
        "                a=Nodoi(a,op,b)\n",
        "            return a\n",
        "        def primario(): # posible constante, variable o formula parentizada\n",
        "            global k\n",
        "            global s\n",
        "            if s[k].isalpha() or s[k].isdigit():\n",
        "                a=Nodoe(s[k])\n",
        "                k+=1\n",
        "                return a\n",
        "            if s[k]==\"(\": # fórmula parentizada\n",
        "                k+=1\n",
        "                a=expresion()\n",
        "                if s[k]!=\")\":\n",
        "                    print(\"Error: Falta cierra paréntesis: \"+formula[k:])\n",
        "                    assert False\n",
        "                k+=1\n",
        "                return a\n",
        "            print(\"Error: Falta variable, número o abre paréntesis: \"+formula[k:])\n",
        "            assert False\n",
        "              \n",
        "        a=expresion()\n",
        "        if s[k]!=\";\":\n",
        "            print(\"Error: Basura al final de la fórmula: \"+formula[k:])\n",
        "            assert False                \n",
        "        self.raiz=a\n",
        "    \n",
        "    def derivada(self,x):\n",
        "        return Arbol(self.raiz.derivada(x))\n",
        "      \n",
        "    def dibujar(self):\n",
        "      btd = aed.BinaryTreeDrawer(fieldData=\"info\", fieldLeft=\"izq\", fieldRight=\"der\",classNone=Nodoe )\n",
        "      btd.draw_tree(self, \"raiz\")\n"
      ],
      "execution_count": null,
      "outputs": []
    },
    {
      "cell_type": "markdown",
      "metadata": {
        "id": "_OJos4TDbGmI"
      },
      "source": [
        "A continuación probamos esta funcionalidad con varias fórmulas de ejemplo. Para ver si el árbol fue construido correctamente, lo dibujaremos, y también dibujaremos el árbol resultante después del cálculo de la derivada."
      ]
    },
    {
      "cell_type": "code",
      "metadata": {
        "id": "L_Dsr_FpbGmJ"
      },
      "source": [
        "def probar_derivada(formula,x):\n",
        "    f=Arbol(formula)\n",
        "    print(\"Fórmula original:\")\n",
        "    f.dibujar()\n",
        "    g=f.derivada(x)\n",
        "    print(\"Derivada respecto de \"+x+\":\")\n",
        "    g.dibujar()"
      ],
      "execution_count": null,
      "outputs": []
    },
    {
      "cell_type": "code",
      "metadata": {
        "id": "RMZZmLMng-C4",
        "colab": {
          "base_uri": "https://localhost:8080/",
          "height": 290
        },
        "outputId": "d85395ec-8715-4c64-888a-c22a2b265ce4"
      },
      "source": [
        "probar_derivada(\"x+1\",\"x\")"
      ],
      "execution_count": null,
      "outputs": [
        {
          "output_type": "stream",
          "text": [
            "Fórmula original:\n"
          ],
          "name": "stdout"
        },
        {
          "output_type": "display_data",
          "data": {
            "text/plain": [
              "<IPython.core.display.SVG object>"
            ],
            "image/svg+xml": "<svg height=\"87pt\" viewBox=\"0.00 0.00 111.20 87.20\" width=\"111pt\" xmlns=\"http://www.w3.org/2000/svg\" xmlns:xlink=\"http://www.w3.org/1999/xlink\">\n<g class=\"graph\" id=\"graph0\" transform=\"scale(1 1) rotate(0) translate(4 83.2)\">\n<title>Arbol</title>\n<polygon fill=\"#ffffff\" points=\"-4,4 -4,-83.2 107.2,-83.2 107.2,4 -4,4\" stroke=\"transparent\"/>\n<!-- node0 -->\n<g class=\"node\" id=\"node1\">\n<title>node0</title>\n<polygon fill=\"none\" points=\"36,-36 0,-36 0,0 36,0 36,-36\" stroke=\"#000000\"/>\n<text fill=\"#000000\" font-family=\"Times,serif\" font-size=\"14.00\" text-anchor=\"middle\" x=\"18\" y=\"-14.3\">x</text>\n</g>\n<!-- node2 -->\n<g class=\"node\" id=\"node2\">\n<title>node2</title>\n<ellipse cx=\"51.6\" cy=\"-61.2\" fill=\"none\" rx=\"18\" ry=\"18\" stroke=\"#000000\"/>\n<text fill=\"#000000\" font-family=\"Times,serif\" font-size=\"14.00\" text-anchor=\"middle\" x=\"51.6\" y=\"-57.5\">+</text>\n</g>\n<!-- node2&#45;&#45;node0 -->\n<g class=\"edge\" id=\"edge1\">\n<title>node2--node0</title>\n<path d=\"M40.2246,-46.5745C37.6354,-43.2455 34.8536,-39.6689 32.1642,-36.2111\" fill=\"none\" stroke=\"#000000\"/>\n</g>\n<!-- node1 -->\n<g class=\"node\" id=\"node3\">\n<title>node1</title>\n<polygon fill=\"none\" points=\"103.2,-36 67.2,-36 67.2,0 103.2,0 103.2,-36\" stroke=\"#000000\"/>\n<text fill=\"#000000\" font-family=\"Times,serif\" font-size=\"14.00\" text-anchor=\"middle\" x=\"85.2\" y=\"-14.3\">1</text>\n</g>\n<!-- node2&#45;&#45;node1 -->\n<g class=\"edge\" id=\"edge2\">\n<title>node2--node1</title>\n<path d=\"M62.9754,-46.5745C65.5646,-43.2455 68.3464,-39.6689 71.0358,-36.2111\" fill=\"none\" stroke=\"#000000\"/>\n</g>\n</g>\n</svg>"
          },
          "metadata": {
            "tags": []
          }
        },
        {
          "output_type": "stream",
          "text": [
            "Derivada respecto de x:\n"
          ],
          "name": "stdout"
        },
        {
          "output_type": "display_data",
          "data": {
            "text/plain": [
              "<IPython.core.display.SVG object>"
            ],
            "image/svg+xml": "<svg height=\"87pt\" viewBox=\"0.00 0.00 111.20 87.20\" width=\"111pt\" xmlns=\"http://www.w3.org/2000/svg\" xmlns:xlink=\"http://www.w3.org/1999/xlink\">\n<g class=\"graph\" id=\"graph0\" transform=\"scale(1 1) rotate(0) translate(4 83.2)\">\n<title>Arbol</title>\n<polygon fill=\"#ffffff\" points=\"-4,4 -4,-83.2 107.2,-83.2 107.2,4 -4,4\" stroke=\"transparent\"/>\n<!-- node0 -->\n<g class=\"node\" id=\"node1\">\n<title>node0</title>\n<polygon fill=\"none\" points=\"36,-36 0,-36 0,0 36,0 36,-36\" stroke=\"#000000\"/>\n<text fill=\"#000000\" font-family=\"Times,serif\" font-size=\"14.00\" text-anchor=\"middle\" x=\"18\" y=\"-14.3\">x</text>\n</g>\n<!-- node2 -->\n<g class=\"node\" id=\"node2\">\n<title>node2</title>\n<ellipse cx=\"51.6\" cy=\"-61.2\" fill=\"none\" rx=\"18\" ry=\"18\" stroke=\"#000000\"/>\n<text fill=\"#000000\" font-family=\"Times,serif\" font-size=\"14.00\" text-anchor=\"middle\" x=\"51.6\" y=\"-57.5\">+</text>\n</g>\n<!-- node2&#45;&#45;node0 -->\n<g class=\"edge\" id=\"edge1\">\n<title>node2--node0</title>\n<path d=\"M40.2246,-46.5745C37.6354,-43.2455 34.8536,-39.6689 32.1642,-36.2111\" fill=\"none\" stroke=\"#000000\"/>\n</g>\n<!-- node1 -->\n<g class=\"node\" id=\"node3\">\n<title>node1</title>\n<polygon fill=\"none\" points=\"103.2,-36 67.2,-36 67.2,0 103.2,0 103.2,-36\" stroke=\"#000000\"/>\n<text fill=\"#000000\" font-family=\"Times,serif\" font-size=\"14.00\" text-anchor=\"middle\" x=\"85.2\" y=\"-14.3\">1</text>\n</g>\n<!-- node2&#45;&#45;node1 -->\n<g class=\"edge\" id=\"edge2\">\n<title>node2--node1</title>\n<path d=\"M62.9754,-46.5745C65.5646,-43.2455 68.3464,-39.6689 71.0358,-36.2111\" fill=\"none\" stroke=\"#000000\"/>\n</g>\n</g>\n</svg>"
          },
          "metadata": {
            "tags": []
          }
        }
      ]
    },
    {
      "cell_type": "code",
      "metadata": {
        "scrolled": true,
        "id": "vVHvFUc3bGmQ",
        "colab": {
          "base_uri": "https://localhost:8080/",
          "height": 522
        },
        "outputId": "6e76ddb0-f4d0-45af-a68a-9b5f78e96d06"
      },
      "source": [
        "probar_derivada(\"(2*x)^2+a\",\"x\")"
      ],
      "execution_count": null,
      "outputs": [
        {
          "output_type": "stream",
          "text": [
            "Fórmula original:\n"
          ],
          "name": "stdout"
        },
        {
          "output_type": "display_data",
          "data": {
            "text/plain": [
              "<IPython.core.display.SVG object>"
            ],
            "image/svg+xml": "<svg height=\"174pt\" viewBox=\"0.00 0.00 245.60 173.60\" width=\"246pt\" xmlns=\"http://www.w3.org/2000/svg\" xmlns:xlink=\"http://www.w3.org/1999/xlink\">\n<g class=\"graph\" id=\"graph0\" transform=\"scale(1 1) rotate(0) translate(4 169.6)\">\n<title>Arbol</title>\n<polygon fill=\"#ffffff\" points=\"-4,4 -4,-169.6 241.6,-169.6 241.6,4 -4,4\" stroke=\"transparent\"/>\n<!-- node0 -->\n<g class=\"node\" id=\"node1\">\n<title>node0</title>\n<polygon fill=\"none\" points=\"36,-36 0,-36 0,0 36,0 36,-36\" stroke=\"#000000\"/>\n<text fill=\"#000000\" font-family=\"Times,serif\" font-size=\"14.00\" text-anchor=\"middle\" x=\"18\" y=\"-14.3\">2</text>\n</g>\n<!-- node2 -->\n<g class=\"node\" id=\"node2\">\n<title>node2</title>\n<ellipse cx=\"51.6\" cy=\"-61.2\" fill=\"none\" rx=\"18\" ry=\"18\" stroke=\"#000000\"/>\n<text fill=\"#000000\" font-family=\"Times,serif\" font-size=\"14.00\" text-anchor=\"middle\" x=\"51.6\" y=\"-57.5\">*</text>\n</g>\n<!-- node2&#45;&#45;node0 -->\n<g class=\"edge\" id=\"edge3\">\n<title>node2--node0</title>\n<path d=\"M40.2246,-46.5745C37.6354,-43.2455 34.8536,-39.6689 32.1642,-36.2111\" fill=\"none\" stroke=\"#000000\"/>\n</g>\n<!-- node1 -->\n<g class=\"node\" id=\"node3\">\n<title>node1</title>\n<polygon fill=\"none\" points=\"103.2,-36 67.2,-36 67.2,0 103.2,0 103.2,-36\" stroke=\"#000000\"/>\n<text fill=\"#000000\" font-family=\"Times,serif\" font-size=\"14.00\" text-anchor=\"middle\" x=\"85.2\" y=\"-14.3\">x</text>\n</g>\n<!-- node2&#45;&#45;node1 -->\n<g class=\"edge\" id=\"edge4\">\n<title>node2--node1</title>\n<path d=\"M62.9754,-46.5745C65.5646,-43.2455 68.3464,-39.6689 71.0358,-36.2111\" fill=\"none\" stroke=\"#000000\"/>\n</g>\n<!-- node4 -->\n<g class=\"node\" id=\"node4\">\n<title>node4</title>\n<ellipse cx=\"118.8\" cy=\"-104.4\" fill=\"none\" rx=\"18\" ry=\"18\" stroke=\"#000000\"/>\n<text fill=\"#000000\" font-family=\"Times,serif\" font-size=\"14.00\" text-anchor=\"middle\" x=\"118.8\" y=\"-100.7\">^</text>\n</g>\n<!-- node4&#45;&#45;node2 -->\n<g class=\"edge\" id=\"edge2\">\n<title>node4--node2</title>\n<path d=\"M103.5513,-94.5973C92.5536,-87.5273 77.7722,-78.025 66.7884,-70.964\" fill=\"none\" stroke=\"#000000\"/>\n</g>\n<!-- node3 -->\n<g class=\"node\" id=\"node5\">\n<title>node3</title>\n<polygon fill=\"none\" points=\"170.4,-79.2 134.4,-79.2 134.4,-43.2 170.4,-43.2 170.4,-79.2\" stroke=\"#000000\"/>\n<text fill=\"#000000\" font-family=\"Times,serif\" font-size=\"14.00\" text-anchor=\"middle\" x=\"152.4\" y=\"-57.5\">2</text>\n</g>\n<!-- node4&#45;&#45;node3 -->\n<g class=\"edge\" id=\"edge5\">\n<title>node4--node3</title>\n<path d=\"M130.1754,-89.7745C132.7646,-86.4455 135.5464,-82.8689 138.2358,-79.4111\" fill=\"none\" stroke=\"#000000\"/>\n</g>\n<!-- node6 -->\n<g class=\"node\" id=\"node6\">\n<title>node6</title>\n<ellipse cx=\"186\" cy=\"-147.6\" fill=\"none\" rx=\"18\" ry=\"18\" stroke=\"#000000\"/>\n<text fill=\"#000000\" font-family=\"Times,serif\" font-size=\"14.00\" text-anchor=\"middle\" x=\"186\" y=\"-143.9\">+</text>\n</g>\n<!-- node6&#45;&#45;node4 -->\n<g class=\"edge\" id=\"edge1\">\n<title>node6--node4</title>\n<path d=\"M170.7513,-137.7973C159.7536,-130.7273 144.9722,-121.225 133.9884,-114.164\" fill=\"none\" stroke=\"#000000\"/>\n</g>\n<!-- node5 -->\n<g class=\"node\" id=\"node7\">\n<title>node5</title>\n<polygon fill=\"none\" points=\"237.6,-122.4 201.6,-122.4 201.6,-86.4 237.6,-86.4 237.6,-122.4\" stroke=\"#000000\"/>\n<text fill=\"#000000\" font-family=\"Times,serif\" font-size=\"14.00\" text-anchor=\"middle\" x=\"219.6\" y=\"-100.7\">a</text>\n</g>\n<!-- node6&#45;&#45;node5 -->\n<g class=\"edge\" id=\"edge6\">\n<title>node6--node5</title>\n<path d=\"M197.3754,-132.9745C199.9646,-129.6455 202.7464,-126.0689 205.4358,-122.6111\" fill=\"none\" stroke=\"#000000\"/>\n</g>\n</g>\n</svg>"
          },
          "metadata": {
            "tags": []
          }
        },
        {
          "output_type": "stream",
          "text": [
            "Derivada respecto de x:\n"
          ],
          "name": "stdout"
        },
        {
          "output_type": "display_data",
          "data": {
            "text/plain": [
              "<IPython.core.display.SVG object>"
            ],
            "image/svg+xml": "<svg height=\"174pt\" viewBox=\"0.00 0.00 245.60 173.60\" width=\"246pt\" xmlns=\"http://www.w3.org/2000/svg\" xmlns:xlink=\"http://www.w3.org/1999/xlink\">\n<g class=\"graph\" id=\"graph0\" transform=\"scale(1 1) rotate(0) translate(4 169.6)\">\n<title>Arbol</title>\n<polygon fill=\"#ffffff\" points=\"-4,4 -4,-169.6 241.6,-169.6 241.6,4 -4,4\" stroke=\"transparent\"/>\n<!-- node0 -->\n<g class=\"node\" id=\"node1\">\n<title>node0</title>\n<polygon fill=\"none\" points=\"36,-36 0,-36 0,0 36,0 36,-36\" stroke=\"#000000\"/>\n<text fill=\"#000000\" font-family=\"Times,serif\" font-size=\"14.00\" text-anchor=\"middle\" x=\"18\" y=\"-14.3\">2</text>\n</g>\n<!-- node2 -->\n<g class=\"node\" id=\"node2\">\n<title>node2</title>\n<ellipse cx=\"51.6\" cy=\"-61.2\" fill=\"none\" rx=\"18\" ry=\"18\" stroke=\"#000000\"/>\n<text fill=\"#000000\" font-family=\"Times,serif\" font-size=\"14.00\" text-anchor=\"middle\" x=\"51.6\" y=\"-57.5\">*</text>\n</g>\n<!-- node2&#45;&#45;node0 -->\n<g class=\"edge\" id=\"edge3\">\n<title>node2--node0</title>\n<path d=\"M40.2246,-46.5745C37.6354,-43.2455 34.8536,-39.6689 32.1642,-36.2111\" fill=\"none\" stroke=\"#000000\"/>\n</g>\n<!-- node1 -->\n<g class=\"node\" id=\"node3\">\n<title>node1</title>\n<polygon fill=\"none\" points=\"103.2,-36 67.2,-36 67.2,0 103.2,0 103.2,-36\" stroke=\"#000000\"/>\n<text fill=\"#000000\" font-family=\"Times,serif\" font-size=\"14.00\" text-anchor=\"middle\" x=\"85.2\" y=\"-14.3\">x</text>\n</g>\n<!-- node2&#45;&#45;node1 -->\n<g class=\"edge\" id=\"edge4\">\n<title>node2--node1</title>\n<path d=\"M62.9754,-46.5745C65.5646,-43.2455 68.3464,-39.6689 71.0358,-36.2111\" fill=\"none\" stroke=\"#000000\"/>\n</g>\n<!-- node4 -->\n<g class=\"node\" id=\"node4\">\n<title>node4</title>\n<ellipse cx=\"118.8\" cy=\"-104.4\" fill=\"none\" rx=\"18\" ry=\"18\" stroke=\"#000000\"/>\n<text fill=\"#000000\" font-family=\"Times,serif\" font-size=\"14.00\" text-anchor=\"middle\" x=\"118.8\" y=\"-100.7\">^</text>\n</g>\n<!-- node4&#45;&#45;node2 -->\n<g class=\"edge\" id=\"edge2\">\n<title>node4--node2</title>\n<path d=\"M103.5513,-94.5973C92.5536,-87.5273 77.7722,-78.025 66.7884,-70.964\" fill=\"none\" stroke=\"#000000\"/>\n</g>\n<!-- node3 -->\n<g class=\"node\" id=\"node5\">\n<title>node3</title>\n<polygon fill=\"none\" points=\"170.4,-79.2 134.4,-79.2 134.4,-43.2 170.4,-43.2 170.4,-79.2\" stroke=\"#000000\"/>\n<text fill=\"#000000\" font-family=\"Times,serif\" font-size=\"14.00\" text-anchor=\"middle\" x=\"152.4\" y=\"-57.5\">2</text>\n</g>\n<!-- node4&#45;&#45;node3 -->\n<g class=\"edge\" id=\"edge5\">\n<title>node4--node3</title>\n<path d=\"M130.1754,-89.7745C132.7646,-86.4455 135.5464,-82.8689 138.2358,-79.4111\" fill=\"none\" stroke=\"#000000\"/>\n</g>\n<!-- node6 -->\n<g class=\"node\" id=\"node6\">\n<title>node6</title>\n<ellipse cx=\"186\" cy=\"-147.6\" fill=\"none\" rx=\"18\" ry=\"18\" stroke=\"#000000\"/>\n<text fill=\"#000000\" font-family=\"Times,serif\" font-size=\"14.00\" text-anchor=\"middle\" x=\"186\" y=\"-143.9\">+</text>\n</g>\n<!-- node6&#45;&#45;node4 -->\n<g class=\"edge\" id=\"edge1\">\n<title>node6--node4</title>\n<path d=\"M170.7513,-137.7973C159.7536,-130.7273 144.9722,-121.225 133.9884,-114.164\" fill=\"none\" stroke=\"#000000\"/>\n</g>\n<!-- node5 -->\n<g class=\"node\" id=\"node7\">\n<title>node5</title>\n<polygon fill=\"none\" points=\"237.6,-122.4 201.6,-122.4 201.6,-86.4 237.6,-86.4 237.6,-122.4\" stroke=\"#000000\"/>\n<text fill=\"#000000\" font-family=\"Times,serif\" font-size=\"14.00\" text-anchor=\"middle\" x=\"219.6\" y=\"-100.7\">a</text>\n</g>\n<!-- node6&#45;&#45;node5 -->\n<g class=\"edge\" id=\"edge6\">\n<title>node6--node5</title>\n<path d=\"M197.3754,-132.9745C199.9646,-129.6455 202.7464,-126.0689 205.4358,-122.6111\" fill=\"none\" stroke=\"#000000\"/>\n</g>\n</g>\n</svg>"
          },
          "metadata": {
            "tags": []
          }
        }
      ]
    },
    {
      "cell_type": "code",
      "metadata": {
        "id": "KxcOPLWxbGmX",
        "colab": {
          "base_uri": "https://localhost:8080/",
          "height": 406
        },
        "outputId": "245e7d23-ba38-4e76-a28b-93155c0c4513"
      },
      "source": [
        "probar_derivada(\"(1+y)/(1-y)\",\"y\")"
      ],
      "execution_count": null,
      "outputs": [
        {
          "output_type": "stream",
          "text": [
            "Fórmula original:\n"
          ],
          "name": "stdout"
        },
        {
          "output_type": "display_data",
          "data": {
            "text/plain": [
              "<IPython.core.display.SVG object>"
            ],
            "image/svg+xml": "<svg height=\"130pt\" viewBox=\"0.00 0.00 245.60 130.40\" width=\"246pt\" xmlns=\"http://www.w3.org/2000/svg\" xmlns:xlink=\"http://www.w3.org/1999/xlink\">\n<g class=\"graph\" id=\"graph0\" transform=\"scale(1 1) rotate(0) translate(4 126.4)\">\n<title>Arbol</title>\n<polygon fill=\"#ffffff\" points=\"-4,4 -4,-126.4 241.6,-126.4 241.6,4 -4,4\" stroke=\"transparent\"/>\n<!-- node0 -->\n<g class=\"node\" id=\"node1\">\n<title>node0</title>\n<polygon fill=\"none\" points=\"36,-36 0,-36 0,0 36,0 36,-36\" stroke=\"#000000\"/>\n<text fill=\"#000000\" font-family=\"Times,serif\" font-size=\"14.00\" text-anchor=\"middle\" x=\"18\" y=\"-14.3\">1</text>\n</g>\n<!-- node2 -->\n<g class=\"node\" id=\"node2\">\n<title>node2</title>\n<ellipse cx=\"51.6\" cy=\"-61.2\" fill=\"none\" rx=\"18\" ry=\"18\" stroke=\"#000000\"/>\n<text fill=\"#000000\" font-family=\"Times,serif\" font-size=\"14.00\" text-anchor=\"middle\" x=\"51.6\" y=\"-57.5\">+</text>\n</g>\n<!-- node2&#45;&#45;node0 -->\n<g class=\"edge\" id=\"edge2\">\n<title>node2--node0</title>\n<path d=\"M40.2246,-46.5745C37.6354,-43.2455 34.8536,-39.6689 32.1642,-36.2111\" fill=\"none\" stroke=\"#000000\"/>\n</g>\n<!-- node1 -->\n<g class=\"node\" id=\"node3\">\n<title>node1</title>\n<polygon fill=\"none\" points=\"103.2,-36 67.2,-36 67.2,0 103.2,0 103.2,-36\" stroke=\"#000000\"/>\n<text fill=\"#000000\" font-family=\"Times,serif\" font-size=\"14.00\" text-anchor=\"middle\" x=\"85.2\" y=\"-14.3\">y</text>\n</g>\n<!-- node2&#45;&#45;node1 -->\n<g class=\"edge\" id=\"edge3\">\n<title>node2--node1</title>\n<path d=\"M62.9754,-46.5745C65.5646,-43.2455 68.3464,-39.6689 71.0358,-36.2111\" fill=\"none\" stroke=\"#000000\"/>\n</g>\n<!-- node6 -->\n<g class=\"node\" id=\"node4\">\n<title>node6</title>\n<ellipse cx=\"118.8\" cy=\"-104.4\" fill=\"none\" rx=\"18\" ry=\"18\" stroke=\"#000000\"/>\n<text fill=\"#000000\" font-family=\"Times,serif\" font-size=\"14.00\" text-anchor=\"middle\" x=\"118.8\" y=\"-100.7\">/</text>\n</g>\n<!-- node6&#45;&#45;node2 -->\n<g class=\"edge\" id=\"edge1\">\n<title>node6--node2</title>\n<path d=\"M103.5513,-94.5973C92.5536,-87.5273 77.7722,-78.025 66.7884,-70.964\" fill=\"none\" stroke=\"#000000\"/>\n</g>\n<!-- node5 -->\n<g class=\"node\" id=\"node6\">\n<title>node5</title>\n<ellipse cx=\"186\" cy=\"-61.2\" fill=\"none\" rx=\"18\" ry=\"18\" stroke=\"#000000\"/>\n<text fill=\"#000000\" font-family=\"Times,serif\" font-size=\"14.00\" text-anchor=\"middle\" x=\"186\" y=\"-57.5\">-</text>\n</g>\n<!-- node6&#45;&#45;node5 -->\n<g class=\"edge\" id=\"edge4\">\n<title>node6--node5</title>\n<path d=\"M134.0487,-94.5973C145.0464,-87.5273 159.8278,-78.025 170.8116,-70.964\" fill=\"none\" stroke=\"#000000\"/>\n</g>\n<!-- node3 -->\n<g class=\"node\" id=\"node5\">\n<title>node3</title>\n<polygon fill=\"none\" points=\"170.4,-36 134.4,-36 134.4,0 170.4,0 170.4,-36\" stroke=\"#000000\"/>\n<text fill=\"#000000\" font-family=\"Times,serif\" font-size=\"14.00\" text-anchor=\"middle\" x=\"152.4\" y=\"-14.3\">1</text>\n</g>\n<!-- node5&#45;&#45;node3 -->\n<g class=\"edge\" id=\"edge5\">\n<title>node5--node3</title>\n<path d=\"M174.6246,-46.5745C172.0354,-43.2455 169.2536,-39.6689 166.5642,-36.2111\" fill=\"none\" stroke=\"#000000\"/>\n</g>\n<!-- node4 -->\n<g class=\"node\" id=\"node7\">\n<title>node4</title>\n<polygon fill=\"none\" points=\"237.6,-36 201.6,-36 201.6,0 237.6,0 237.6,-36\" stroke=\"#000000\"/>\n<text fill=\"#000000\" font-family=\"Times,serif\" font-size=\"14.00\" text-anchor=\"middle\" x=\"219.6\" y=\"-14.3\">y</text>\n</g>\n<!-- node5&#45;&#45;node4 -->\n<g class=\"edge\" id=\"edge6\">\n<title>node5--node4</title>\n<path d=\"M197.3754,-46.5745C199.9646,-43.2455 202.7464,-39.6689 205.4358,-36.2111\" fill=\"none\" stroke=\"#000000\"/>\n</g>\n</g>\n</svg>"
          },
          "metadata": {
            "tags": []
          }
        },
        {
          "output_type": "stream",
          "text": [
            "Derivada respecto de y:\n"
          ],
          "name": "stdout"
        },
        {
          "output_type": "display_data",
          "data": {
            "text/plain": [
              "<IPython.core.display.SVG object>"
            ],
            "image/svg+xml": "<svg height=\"130pt\" viewBox=\"0.00 0.00 245.60 130.40\" width=\"246pt\" xmlns=\"http://www.w3.org/2000/svg\" xmlns:xlink=\"http://www.w3.org/1999/xlink\">\n<g class=\"graph\" id=\"graph0\" transform=\"scale(1 1) rotate(0) translate(4 126.4)\">\n<title>Arbol</title>\n<polygon fill=\"#ffffff\" points=\"-4,4 -4,-126.4 241.6,-126.4 241.6,4 -4,4\" stroke=\"transparent\"/>\n<!-- node0 -->\n<g class=\"node\" id=\"node1\">\n<title>node0</title>\n<polygon fill=\"none\" points=\"36,-36 0,-36 0,0 36,0 36,-36\" stroke=\"#000000\"/>\n<text fill=\"#000000\" font-family=\"Times,serif\" font-size=\"14.00\" text-anchor=\"middle\" x=\"18\" y=\"-14.3\">1</text>\n</g>\n<!-- node2 -->\n<g class=\"node\" id=\"node2\">\n<title>node2</title>\n<ellipse cx=\"51.6\" cy=\"-61.2\" fill=\"none\" rx=\"18\" ry=\"18\" stroke=\"#000000\"/>\n<text fill=\"#000000\" font-family=\"Times,serif\" font-size=\"14.00\" text-anchor=\"middle\" x=\"51.6\" y=\"-57.5\">+</text>\n</g>\n<!-- node2&#45;&#45;node0 -->\n<g class=\"edge\" id=\"edge2\">\n<title>node2--node0</title>\n<path d=\"M40.2246,-46.5745C37.6354,-43.2455 34.8536,-39.6689 32.1642,-36.2111\" fill=\"none\" stroke=\"#000000\"/>\n</g>\n<!-- node1 -->\n<g class=\"node\" id=\"node3\">\n<title>node1</title>\n<polygon fill=\"none\" points=\"103.2,-36 67.2,-36 67.2,0 103.2,0 103.2,-36\" stroke=\"#000000\"/>\n<text fill=\"#000000\" font-family=\"Times,serif\" font-size=\"14.00\" text-anchor=\"middle\" x=\"85.2\" y=\"-14.3\">y</text>\n</g>\n<!-- node2&#45;&#45;node1 -->\n<g class=\"edge\" id=\"edge3\">\n<title>node2--node1</title>\n<path d=\"M62.9754,-46.5745C65.5646,-43.2455 68.3464,-39.6689 71.0358,-36.2111\" fill=\"none\" stroke=\"#000000\"/>\n</g>\n<!-- node6 -->\n<g class=\"node\" id=\"node4\">\n<title>node6</title>\n<ellipse cx=\"118.8\" cy=\"-104.4\" fill=\"none\" rx=\"18\" ry=\"18\" stroke=\"#000000\"/>\n<text fill=\"#000000\" font-family=\"Times,serif\" font-size=\"14.00\" text-anchor=\"middle\" x=\"118.8\" y=\"-100.7\">/</text>\n</g>\n<!-- node6&#45;&#45;node2 -->\n<g class=\"edge\" id=\"edge1\">\n<title>node6--node2</title>\n<path d=\"M103.5513,-94.5973C92.5536,-87.5273 77.7722,-78.025 66.7884,-70.964\" fill=\"none\" stroke=\"#000000\"/>\n</g>\n<!-- node5 -->\n<g class=\"node\" id=\"node6\">\n<title>node5</title>\n<ellipse cx=\"186\" cy=\"-61.2\" fill=\"none\" rx=\"18\" ry=\"18\" stroke=\"#000000\"/>\n<text fill=\"#000000\" font-family=\"Times,serif\" font-size=\"14.00\" text-anchor=\"middle\" x=\"186\" y=\"-57.5\">-</text>\n</g>\n<!-- node6&#45;&#45;node5 -->\n<g class=\"edge\" id=\"edge4\">\n<title>node6--node5</title>\n<path d=\"M134.0487,-94.5973C145.0464,-87.5273 159.8278,-78.025 170.8116,-70.964\" fill=\"none\" stroke=\"#000000\"/>\n</g>\n<!-- node3 -->\n<g class=\"node\" id=\"node5\">\n<title>node3</title>\n<polygon fill=\"none\" points=\"170.4,-36 134.4,-36 134.4,0 170.4,0 170.4,-36\" stroke=\"#000000\"/>\n<text fill=\"#000000\" font-family=\"Times,serif\" font-size=\"14.00\" text-anchor=\"middle\" x=\"152.4\" y=\"-14.3\">1</text>\n</g>\n<!-- node5&#45;&#45;node3 -->\n<g class=\"edge\" id=\"edge5\">\n<title>node5--node3</title>\n<path d=\"M174.6246,-46.5745C172.0354,-43.2455 169.2536,-39.6689 166.5642,-36.2111\" fill=\"none\" stroke=\"#000000\"/>\n</g>\n<!-- node4 -->\n<g class=\"node\" id=\"node7\">\n<title>node4</title>\n<polygon fill=\"none\" points=\"237.6,-36 201.6,-36 201.6,0 237.6,0 237.6,-36\" stroke=\"#000000\"/>\n<text fill=\"#000000\" font-family=\"Times,serif\" font-size=\"14.00\" text-anchor=\"middle\" x=\"219.6\" y=\"-14.3\">y</text>\n</g>\n<!-- node5&#45;&#45;node4 -->\n<g class=\"edge\" id=\"edge6\">\n<title>node5--node4</title>\n<path d=\"M197.3754,-46.5745C199.9646,-43.2455 202.7464,-39.6689 205.4358,-36.2111\" fill=\"none\" stroke=\"#000000\"/>\n</g>\n</g>\n</svg>"
          },
          "metadata": {
            "tags": []
          }
        }
      ]
    },
    {
      "cell_type": "markdown",
      "metadata": {
        "id": "_ZWCB4QtbGmg"
      },
      "source": [
        "## Simplificaciones\n",
        "\n",
        "Como habrá visto, las fórmulas resultantes no son muy sencillas, pero también es obvio que se se podrían simplificar para que quedaran mucho más presentables. A continuación, proponga y describa cómo podrían implementarse algunas simplificaciones. Piense recursivamente. No es necesario que las implemente, pero si se atreve, agregue un método ``simplificar`` y pruébelo dibujando el árbol resultante."
      ]
    },
    {
      "cell_type": "markdown",
      "metadata": {
        "id": "teA6YWX8bGnA"
      },
      "source": [
        "## ¿Qué hay que entregar?\n",
        "\n",
        "Usted debe entregar este mismo archivo, modificado de acuerdo a lo que se pide. Haga todos los cambios necesarios para explicar y documentar adecuadamente su código. No olvide poner su nombre."
      ]
    }
  ]
}