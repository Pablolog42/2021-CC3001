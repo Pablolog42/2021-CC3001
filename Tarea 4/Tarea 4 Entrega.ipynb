{
  "nbformat": 4,
  "nbformat_minor": 0,
  "metadata": {
    "kernelspec": {
      "name": "python392jvsc74a57bd09a25f204a300bdc49b2400c52ad2f477bb56de243b0a6afc988b6e51b20c71d1",
      "display_name": "Python 3.9.2 64-bit"
    },
    "language_info": {
      "codemirror_mode": {
        "name": "ipython",
        "version": 3
      },
      "file_extension": ".py",
      "mimetype": "text/x-python",
      "name": "python",
      "nbconvert_exporter": "python",
      "pygments_lexer": "ipython3",
      "version": "3.9.2"
    },
    "colab": {
      "name": "CC3001 2021-1 Tarea 4 Entrega.ipynb",
      "provenance": [],
      "collapsed_sections": []
    },
    "metadata": {
      "interpreter": {
        "hash": "9a25f204a300bdc49b2400c52ad2f477bb56de243b0a6afc988b6e51b20c71d1"
      }
    }
  },
  "cells": [
    {
      "cell_type": "markdown",
      "metadata": {
        "id": "vqpyykLhbGmC"
      },
      "source": [
        "# CC3001 Otoño 2021 Tarea 4\n",
        "# Cálculo de derivadas de fórmulas representadas mediante árboles\n",
        "## Profesores\n",
        "Sección 1 Iván Sipirán • Sección 2 Patricio Poblete • Sección 3 Nelson Baloian\n",
        "\n",
        "Pablo González Aguilera\n",
        "20.973.277-7 Sección 2\n"
      ]
    },
    {
      "cell_type": "markdown",
      "metadata": {
        "id": "0m-PHqkybGmD"
      },
      "source": [
        "El objetivo de esta tarea es aprender a procesar la información de árboles que representan fórmulas. Hay muchas cosas que uno puede hacer con estos árboles, y en esta tarea nos enfocaremos en particular en calcular la derivada de una fórmula respecto de una variable dada.\n",
        "\n",
        "Específicamente, el problema es: dado un árbol que representa una fórmula, construir y retornar otro árbol que representa la derivada de la primera fórmula respecto de una variable dada.\n",
        "\n",
        "La fórmula se entrega en notación de infijo (normal). En esta fórmula,\n",
        "los operadores de menor prioridad son la suma (``+``) y la resta (``-``), de igual prioridad entre sí, luego vienen la multiplicación (``*``) y la división (``/``), también de igual prioridad entre sí, y finalmente el operador de mayor prioridad es la elevación a potencia (``^``). También se puede usar paréntesis. Para simplificar no usaremos el operador \"menos unario\". **Nota importante**: Para no complicar excesivamente las cosas, supondremos que en la elevación a potencia el exponente no contiene la variable respecto de la cual se está derivando.\n",
        "\n",
        "A continuación usted encontrará las clases ``Nodoi``, ``Nodoe`` y ``Arbol`` que implementan árboles que representan fórmulas. La clase ``Arbol`` viene con un constructor que recibe un string como parámetro, el cual contiene una fórmula, y este constructor se encarga de transformar la fórmula de string a árbol, de modo que usted no necesita preocuparse de eso. Para simplificar, la fórmula solo podrá contener variables de una sola letra, números de un solo dígito, y sin espacios.\n",
        "\n",
        "Usted tiene que implementar para la clase ``Arbol`` y para los nodos una función ``derivada`` que al ser invocada indicando el nombre de una variable, retorne un árbol que represente la derivada de la fórmula respectiva.\n",
        "\n",
        "En este enunciado vienen funciones ``derivada`` triviales, que simplemente retornan la misma fórmula, sin derivarla. Usted debe reemplazarlas por la implementación correcta\n"
      ]
    },
    {
      "cell_type": "code",
      "metadata": {
        "id": "0K4vThBPl86B",
        "colab": {
          "base_uri": "https://localhost:8080/"
        },
        "outputId": "9bcd857a-8018-4f1c-d308-4d4f780af82f"
      },
      "source": [
        "!pip install aed-utilities"
      ],
      "execution_count": 2,
      "outputs": [
        {
          "output_type": "stream",
          "name": "stdout",
          "text": [
            "Requirement already satisfied: aed-utilities in c:\\users\\pablo\\pyver\\py392\\lib\\site-packages (0.4.1)\n",
            "Requirement already satisfied: validators in c:\\users\\pablo\\pyver\\py392\\lib\\site-packages (from aed-utilities) (0.18.2)\n",
            "Requirement already satisfied: beautifulsoup4 in c:\\users\\pablo\\pyver\\py392\\lib\\site-packages (from aed-utilities) (4.9.3)\n",
            "Requirement already satisfied: soupsieve>1.2 in c:\\users\\pablo\\pyver\\py392\\lib\\site-packages (from beautifulsoup4->aed-utilities) (2.2.1)\n",
            "Requirement already satisfied: six>=1.4.0 in c:\\users\\pablo\\appdata\\roaming\\python\\python39\\site-packages (from validators->aed-utilities) (1.15.0)\n",
            "Requirement already satisfied: decorator>=3.4.0 in c:\\users\\pablo\\appdata\\roaming\\python\\python39\\site-packages (from validators->aed-utilities) (4.4.2)\n",
            "WARNING: You are using pip version 21.0.1; however, version 21.1.1 is available.\n",
            "You should consider upgrading via the 'c:\\users\\pablo\\pyver\\py392\\python.exe -m pip install --upgrade pip' command.\n"
          ]
        }
      ]
    },
    {
      "cell_type": "code",
      "metadata": {
        "id": "wxdoFaDHbGmE"
      },
      "source": [
        "import aed_utilities as aed\n",
        "from copy import copy\n",
        "\n",
        "#Nodo interno\n",
        "class Nodoi:\n",
        "    def __init__(self, izq, info, der):\n",
        "        self.izq=izq\n",
        "        self.info=info\n",
        "        self.der=der\n",
        "    def postorden(self):\n",
        "        self.izq.postorden()   \n",
        "        self.der.postorden()\n",
        "        print(self.info, end=\" \")\n",
        "\n",
        "\n",
        "    def derivada(self,x):\n",
        "\n",
        "        if self.info == \"+\" or self.info == \"-\":\n",
        "            self.izq = self.izq.derivada(x)\n",
        "            self.der = self.der.derivada(x)\n",
        "\n",
        "        if self.info == \"*\":\n",
        "           \n",
        "           #No quiero aliasing ni cosas raras :(\n",
        "           #Acá ocupo la copia para no tener problemas de punteros que se me modifiquen\n",
        "           izquierdoOriginal = copy(self.izq)\n",
        "           derechoOriginal = copy(self.der)\n",
        "\n",
        "            # Regla de la derivada de un producto\n",
        "           self.info = \"+\"\n",
        "           self.izq =  Nodoi(self.izq.derivada(x), \"*\", derechoOriginal)\n",
        "           self.der =  Nodoi(self.der.derivada(x), \"*\", izquierdoOriginal) \n",
        "\n",
        "        if self.info == \"/\":\n",
        "           \n",
        "           #CUIDADO CON EL ALIASING ACA QUE OCUPAS EL DERECHOORIGINAL MAS DE UNa VEZ (al parecer funca igual, vamos chile)\n",
        "           izquierdoOriginal = copy(self.izq)\n",
        "           derechoOriginal = copy(self.der)\n",
        "\n",
        "            # Regla de la derivada de un cociente\n",
        "           self.info = \"/\"\n",
        "           self.izq =  Nodoi(Nodoi(self.izq.derivada(x), \"*\", derechoOriginal), \"-\", Nodoi(self.der.derivada(x),\"*\", izquierdoOriginal)) #Numerador en la regla del cuociente\n",
        "           self.der =  Nodoi(derechoOriginal, \"^\", Nodoe(2)) #denominador va al cuadrado\n",
        "\n",
        "        if self.info == \"^\":\n",
        "            \n",
        "            #Juan segura vivió muchos años (su RAM no tanto si)\n",
        "            izquierdoOriginal = copy(self.izq)\n",
        "            derechoOriginal = copy(self.der)\n",
        "\n",
        "\n",
        "            #Regla exponente entero x^n -> (n)*(x^(n-1))\n",
        "            self.info = \"*\"\n",
        "            # self.der = Nodoe(self.der) Básicamente puedo dejar el lado del exponente como estaba (pues la multiplicacion conmuta) (en vez de (n)*(x^(n-1)), estoy computando (x^(n-1))*(n) )\n",
        "            self.izq = Nodoi(izquierdoOriginal, \"^\", Nodoi(derechoOriginal,\"-\", Nodoe(1))) # Lo multiplico por el numero elevado a uno menos\n",
        "\n",
        "        return self\n",
        "\n",
        "\n",
        "# Nodo externo\n",
        "class Nodoe:\n",
        "    def __init__(self, info):\n",
        "        self.info=info\n",
        "    def postorden(self):\n",
        "        print(self.info, end=\" \")\n",
        "\n",
        "    def derivada(self,x):\n",
        "        # Me van a quedar en los nodos externos solamente o la variable solita (derivada 1), o una constante con derivada 0\n",
        "        return Nodoe(1) if self.info == str(x) else Nodoe(0)\n",
        "\n",
        "\n",
        "\n",
        "#Toma un string de tipo \"ax+b\" y lo pasa a arbol binario\n",
        "class Arbol:\n",
        "    def __init__(self,formula):\n",
        "        if type(formula)!=str: # se supone que viene el árbol ya construído\n",
        "          self.raiz=formula\n",
        "          return\n",
        "\n",
        "        # la fórmula viene en forma de string\n",
        "        global k\n",
        "        global s\n",
        "        s=formula+\";\" # agregamos una marca de fin de la entrada\n",
        "        k=0 # indica próximo caracter por procesar\n",
        "        # definimos funciones para analizar la fórmula\n",
        "        def expresion(): # retorna puntero a la raíz de un árbol que representa a la fórmula s\n",
        "            global k\n",
        "            global s\n",
        "            a=factor()\n",
        "            while s[k]==\"+\" or s[k]==\"-\":\n",
        "                op=s[k]\n",
        "                k+=1\n",
        "                b=factor()\n",
        "                a=Nodoi(a,op,b)\n",
        "            return a\n",
        "        def factor():\n",
        "            global k\n",
        "            global s\n",
        "            a=termino()\n",
        "            while s[k]==\"*\" or s[k]==\"/\":\n",
        "                op=s[k]\n",
        "                k+=1\n",
        "                b=termino()\n",
        "                a=Nodoi(a,op,b)\n",
        "            return a\n",
        "        def termino():\n",
        "            global k\n",
        "            global s\n",
        "            a=primario()\n",
        "            if s[k]==\"^\":\n",
        "                op=s[k]\n",
        "                k+=1\n",
        "                b=termino()\n",
        "                a=Nodoi(a,op,b)\n",
        "            return a\n",
        "        def primario(): # posible constante, variable o formula parentizada\n",
        "            global k\n",
        "            global s\n",
        "            if s[k].isalpha() or s[k].isdigit():\n",
        "                a=Nodoe(s[k])\n",
        "                k+=1\n",
        "                return a\n",
        "            if s[k]==\"(\": # fórmula parentizada\n",
        "                k+=1\n",
        "                a=expresion()\n",
        "                if s[k]!=\")\":\n",
        "                    print(\"Error: Falta cierra paréntesis: \"+formula[k:])\n",
        "                    assert False\n",
        "                k+=1\n",
        "                return a\n",
        "            print(\"Error: Falta variable, número o abre paréntesis: \"+formula[k:])\n",
        "            assert False\n",
        "              \n",
        "        a=expresion()\n",
        "        if s[k]!=\";\":\n",
        "            print(\"Error: Basura al final de la fórmula: \"+formula[k:])\n",
        "            assert False                \n",
        "        self.raiz=a\n",
        "    \n",
        "    def derivada(self,x):\n",
        "        return Arbol(self.raiz.derivada(x))\n",
        "      \n",
        "    def dibujar(self):\n",
        "      btd = aed.BinaryTreeDrawer(fieldData=\"info\", fieldLeft=\"izq\", fieldRight=\"der\",classNone=Nodoe )\n",
        "      btd.draw_tree(self, \"raiz\")\n",
        "\n",
        "\n",
        "def probar_derivada(formula,x):\n",
        "    f=Arbol(formula)\n",
        "    print(\"Fórmula original:\")\n",
        "    f.dibujar()\n",
        "    g=f.derivada(x)\n",
        "    print(\"Derivada respecto de \"+x+\":\")\n",
        "    g.dibujar()\n",
        "\n",
        "\n"
      ],
      "execution_count": 3,
      "outputs": []
    },
    {
      "cell_type": "markdown",
      "metadata": {
        "id": "_OJos4TDbGmI"
      },
      "source": [
        "A continuación probamos esta funcionalidad con varias fórmulas de ejemplo. Para ver si el árbol fue construido correctamente, lo dibujaremos, y también dibujaremos el árbol resultante después del cálculo de la derivada."
      ]
    },
    {
      "cell_type": "code",
      "metadata": {
        "id": "L_Dsr_FpbGmJ"
      },
      "source": [
        "def probar_derivada(formula,x):\n",
        "    f=Arbol(formula)\n",
        "    print(\"Fórmula original:\")\n",
        "    f.dibujar()\n",
        "    g=f.derivada(x)\n",
        "    print(\"Derivada respecto de \"+x+\":\")\n",
        "    g.dibujar()"
      ],
      "execution_count": 7,
      "outputs": []
    },
    {
      "cell_type": "code",
      "metadata": {
        "id": "RMZZmLMng-C4",
        "colab": {
          "base_uri": "https://localhost:8080/",
          "height": 290
        },
        "outputId": "d85395ec-8715-4c64-888a-c22a2b265ce4"
      },
      "source": [
        "probar_derivada(\"x+1\",\"x\")"
      ],
      "execution_count": 1,
      "outputs": [
        {
          "output_type": "error",
          "ename": "NameError",
          "evalue": "name 'probar_derivada' is not defined",
          "traceback": [
            "\u001b[1;31m---------------------------------------------------------------------------\u001b[0m",
            "\u001b[1;31mNameError\u001b[0m                                 Traceback (most recent call last)",
            "\u001b[1;32m<ipython-input-1-20627fa01ab5>\u001b[0m in \u001b[0;36m<module>\u001b[1;34m\u001b[0m\n\u001b[1;32m----> 1\u001b[1;33m \u001b[0mprobar_derivada\u001b[0m\u001b[1;33m(\u001b[0m\u001b[1;34m\"x+1\"\u001b[0m\u001b[1;33m,\u001b[0m\u001b[1;34m\"x\"\u001b[0m\u001b[1;33m)\u001b[0m\u001b[1;33m\u001b[0m\u001b[1;33m\u001b[0m\u001b[0m\n\u001b[0m",
            "\u001b[1;31mNameError\u001b[0m: name 'probar_derivada' is not defined"
          ]
        }
      ]
    },
    {
      "cell_type": "code",
      "metadata": {
        "scrolled": true,
        "id": "vVHvFUc3bGmQ",
        "colab": {
          "base_uri": "https://localhost:8080/",
          "height": 522
        },
        "outputId": "6e76ddb0-f4d0-45af-a68a-9b5f78e96d06"
      },
      "source": [
        "probar_derivada(\"(2*x)^2+a\",\"x\")"
      ],
      "execution_count": 6,
      "outputs": [
        {
          "output_type": "stream",
          "name": "stdout",
          "text": [
            "Fórmula original:\n"
          ]
        },
        {
          "output_type": "display_data",
          "data": {
            "text/plain": "<IPython.core.display.SVG object>",
            "image/svg+xml": "<svg xmlns=\"http://www.w3.org/2000/svg\" xmlns:xlink=\"http://www.w3.org/1999/xlink\" width=\"246pt\" height=\"174pt\" viewBox=\"0.00 0.00 245.60 173.60\">\n<g id=\"graph0\" class=\"graph\" transform=\"scale(1 1) rotate(0) translate(4 169.6)\">\n<title>Arbol</title>\n<polygon fill=\"white\" stroke=\"transparent\" points=\"-4,4 -4,-169.6 241.6,-169.6 241.6,4 -4,4\"/>\n<!-- node0 -->\n<g id=\"node1\" class=\"node\">\n<title>node0</title>\n<ellipse fill=\"none\" stroke=\"black\" cx=\"18\" cy=\"-18\" rx=\"18\" ry=\"18\"/>\n<text text-anchor=\"middle\" x=\"18\" y=\"-14.3\" font-family=\"Times New Roman,serif\" font-size=\"14.00\">2</text>\n</g>\n<!-- node2 -->\n<g id=\"node2\" class=\"node\">\n<title>node2</title>\n<ellipse fill=\"none\" stroke=\"black\" cx=\"51.6\" cy=\"-61.2\" rx=\"18\" ry=\"18\"/>\n<text text-anchor=\"middle\" x=\"51.6\" y=\"-57.5\" font-family=\"Times New Roman,serif\" font-size=\"14.00\">*</text>\n</g>\n<!-- node2&#45;&#45;node0 -->\n<g id=\"edge3\" class=\"edge\">\n<title>node2--node0</title>\n<path fill=\"none\" stroke=\"black\" d=\"M40.22,-46.57C36.65,-41.97 32.7,-36.9 29.14,-32.32\"/>\n</g>\n<!-- node1 -->\n<g id=\"node3\" class=\"node\">\n<title>node1</title>\n<ellipse fill=\"none\" stroke=\"black\" cx=\"85.2\" cy=\"-18\" rx=\"18\" ry=\"18\"/>\n<text text-anchor=\"middle\" x=\"85.2\" y=\"-14.3\" font-family=\"Times New Roman,serif\" font-size=\"14.00\">x</text>\n</g>\n<!-- node2&#45;&#45;node1 -->\n<g id=\"edge4\" class=\"edge\">\n<title>node2--node1</title>\n<path fill=\"none\" stroke=\"black\" d=\"M62.98,-46.57C66.55,-41.97 70.5,-36.9 74.06,-32.32\"/>\n</g>\n<!-- node4 -->\n<g id=\"node4\" class=\"node\">\n<title>node4</title>\n<ellipse fill=\"none\" stroke=\"black\" cx=\"118.8\" cy=\"-104.4\" rx=\"18\" ry=\"18\"/>\n<text text-anchor=\"middle\" x=\"118.8\" y=\"-100.7\" font-family=\"Times New Roman,serif\" font-size=\"14.00\">^</text>\n</g>\n<!-- node4&#45;&#45;node2 -->\n<g id=\"edge2\" class=\"edge\">\n<title>node4--node2</title>\n<path fill=\"none\" stroke=\"black\" d=\"M103.55,-94.6C92.55,-87.53 77.77,-78.02 66.79,-70.96\"/>\n</g>\n<!-- node3 -->\n<g id=\"node5\" class=\"node\">\n<title>node3</title>\n<ellipse fill=\"none\" stroke=\"black\" cx=\"152.4\" cy=\"-61.2\" rx=\"18\" ry=\"18\"/>\n<text text-anchor=\"middle\" x=\"152.4\" y=\"-57.5\" font-family=\"Times New Roman,serif\" font-size=\"14.00\">2</text>\n</g>\n<!-- node4&#45;&#45;node3 -->\n<g id=\"edge5\" class=\"edge\">\n<title>node4--node3</title>\n<path fill=\"none\" stroke=\"black\" d=\"M130.18,-89.77C133.75,-85.17 137.7,-80.1 141.26,-75.52\"/>\n</g>\n<!-- node6 -->\n<g id=\"node6\" class=\"node\">\n<title>node6</title>\n<ellipse fill=\"none\" stroke=\"black\" cx=\"186\" cy=\"-147.6\" rx=\"18\" ry=\"18\"/>\n<text text-anchor=\"middle\" x=\"186\" y=\"-143.9\" font-family=\"Times New Roman,serif\" font-size=\"14.00\">+</text>\n</g>\n<!-- node6&#45;&#45;node4 -->\n<g id=\"edge1\" class=\"edge\">\n<title>node6--node4</title>\n<path fill=\"none\" stroke=\"black\" d=\"M170.75,-137.8C159.75,-130.73 144.97,-121.22 133.99,-114.16\"/>\n</g>\n<!-- node5 -->\n<g id=\"node7\" class=\"node\">\n<title>node5</title>\n<ellipse fill=\"none\" stroke=\"black\" cx=\"219.6\" cy=\"-104.4\" rx=\"18\" ry=\"18\"/>\n<text text-anchor=\"middle\" x=\"219.6\" y=\"-100.7\" font-family=\"Times New Roman,serif\" font-size=\"14.00\">a</text>\n</g>\n<!-- node6&#45;&#45;node5 -->\n<g id=\"edge6\" class=\"edge\">\n<title>node6--node5</title>\n<path fill=\"none\" stroke=\"black\" d=\"M197.38,-132.97C200.95,-128.37 204.9,-123.3 208.46,-118.72\"/>\n</g>\n</g>\n</svg>"
          },
          "metadata": {}
        },
        {
          "output_type": "stream",
          "name": "stderr",
          "text": [
            "Error: Could not open \"lista.gv.pdf\" for writing : Permission denied\n",
            "Derivada respecto de x:\n"
          ]
        },
        {
          "output_type": "error",
          "ename": "CalledProcessError",
          "evalue": "Command '['dot', '-Kneato', '-Tpdf', '-O', 'lista.gv']' returned non-zero exit status 1. [stderr: b'Error: Could not open \"lista.gv.pdf\" for writing : Permission denied\\r\\n']",
          "traceback": [
            "\u001b[1;31m---------------------------------------------------------------------------\u001b[0m",
            "\u001b[1;31mCalledProcessError\u001b[0m                        Traceback (most recent call last)",
            "\u001b[1;32m<ipython-input-6-2d7dac7e5c8f>\u001b[0m in \u001b[0;36m<module>\u001b[1;34m\u001b[0m\n\u001b[1;32m----> 1\u001b[1;33m \u001b[0mprobar_derivada\u001b[0m\u001b[1;33m(\u001b[0m\u001b[1;34m\"(2*x)^2+a\"\u001b[0m\u001b[1;33m,\u001b[0m\u001b[1;34m\"x\"\u001b[0m\u001b[1;33m)\u001b[0m\u001b[1;33m\u001b[0m\u001b[1;33m\u001b[0m\u001b[0m\n\u001b[0m",
            "\u001b[1;32m<ipython-input-4-71f835db84fd>\u001b[0m in \u001b[0;36mprobar_derivada\u001b[1;34m(formula, x)\u001b[0m\n\u001b[0;32m      5\u001b[0m     \u001b[0mg\u001b[0m\u001b[1;33m=\u001b[0m\u001b[0mf\u001b[0m\u001b[1;33m.\u001b[0m\u001b[0mderivada\u001b[0m\u001b[1;33m(\u001b[0m\u001b[0mx\u001b[0m\u001b[1;33m)\u001b[0m\u001b[1;33m\u001b[0m\u001b[1;33m\u001b[0m\u001b[0m\n\u001b[0;32m      6\u001b[0m     \u001b[0mprint\u001b[0m\u001b[1;33m(\u001b[0m\u001b[1;34m\"Derivada respecto de \"\u001b[0m\u001b[1;33m+\u001b[0m\u001b[0mx\u001b[0m\u001b[1;33m+\u001b[0m\u001b[1;34m\":\"\u001b[0m\u001b[1;33m)\u001b[0m\u001b[1;33m\u001b[0m\u001b[1;33m\u001b[0m\u001b[0m\n\u001b[1;32m----> 7\u001b[1;33m     \u001b[0mg\u001b[0m\u001b[1;33m.\u001b[0m\u001b[0mdibujar\u001b[0m\u001b[1;33m(\u001b[0m\u001b[1;33m)\u001b[0m\u001b[1;33m\u001b[0m\u001b[1;33m\u001b[0m\u001b[0m\n\u001b[0m",
            "\u001b[1;32m<ipython-input-3-df6005466018>\u001b[0m in \u001b[0;36mdibujar\u001b[1;34m(self)\u001b[0m\n\u001b[0;32m    143\u001b[0m     \u001b[1;32mdef\u001b[0m \u001b[0mdibujar\u001b[0m\u001b[1;33m(\u001b[0m\u001b[0mself\u001b[0m\u001b[1;33m)\u001b[0m\u001b[1;33m:\u001b[0m\u001b[1;33m\u001b[0m\u001b[1;33m\u001b[0m\u001b[0m\n\u001b[0;32m    144\u001b[0m       \u001b[0mbtd\u001b[0m \u001b[1;33m=\u001b[0m \u001b[0maed\u001b[0m\u001b[1;33m.\u001b[0m\u001b[0mBinaryTreeDrawer\u001b[0m\u001b[1;33m(\u001b[0m\u001b[0mfieldData\u001b[0m\u001b[1;33m=\u001b[0m\u001b[1;34m\"info\"\u001b[0m\u001b[1;33m,\u001b[0m \u001b[0mfieldLeft\u001b[0m\u001b[1;33m=\u001b[0m\u001b[1;34m\"izq\"\u001b[0m\u001b[1;33m,\u001b[0m \u001b[0mfieldRight\u001b[0m\u001b[1;33m=\u001b[0m\u001b[1;34m\"der\"\u001b[0m\u001b[1;33m,\u001b[0m\u001b[0mclassNone\u001b[0m\u001b[1;33m=\u001b[0m\u001b[0mNodoe\u001b[0m \u001b[1;33m)\u001b[0m\u001b[1;33m\u001b[0m\u001b[1;33m\u001b[0m\u001b[0m\n\u001b[1;32m--> 145\u001b[1;33m       \u001b[0mbtd\u001b[0m\u001b[1;33m.\u001b[0m\u001b[0mdraw_tree\u001b[0m\u001b[1;33m(\u001b[0m\u001b[0mself\u001b[0m\u001b[1;33m,\u001b[0m \u001b[1;34m\"raiz\"\u001b[0m\u001b[1;33m)\u001b[0m\u001b[1;33m\u001b[0m\u001b[1;33m\u001b[0m\u001b[0m\n\u001b[0m\u001b[0;32m    146\u001b[0m \u001b[1;33m\u001b[0m\u001b[0m\n\u001b[0;32m    147\u001b[0m \u001b[1;33m\u001b[0m\u001b[0m\n",
            "\u001b[1;32m~\\pyver\\py392\\lib\\site-packages\\aed_utilities\\visualizacion.py\u001b[0m in \u001b[0;36mdraw_tree\u001b[1;34m(self, tree, root)\u001b[0m\n\u001b[0;32m    191\u001b[0m     \u001b[0msrc\u001b[0m \u001b[1;33m=\u001b[0m \u001b[0mSource\u001b[0m\u001b[1;33m(\u001b[0m\u001b[1;34m'graph \"Arbol\" { rankdir=TB; '\u001b[0m \u001b[1;33m+\u001b[0m \u001b[0mlistNodes\u001b[0m \u001b[1;33m+\u001b[0m \u001b[1;34m' node[shape=circle] '\u001b[0m \u001b[1;33m+\u001b[0m \u001b[0mlistStr\u001b[0m \u001b[1;33m+\u001b[0m\u001b[1;34m' }'\u001b[0m\u001b[1;33m)\u001b[0m\u001b[1;33m\u001b[0m\u001b[1;33m\u001b[0m\u001b[0m\n\u001b[0;32m    192\u001b[0m     \u001b[0msrc\u001b[0m\u001b[1;33m.\u001b[0m\u001b[0mengine\u001b[0m\u001b[1;33m=\u001b[0m\u001b[1;34m\"neato\"\u001b[0m\u001b[1;33m\u001b[0m\u001b[1;33m\u001b[0m\u001b[0m\n\u001b[1;32m--> 193\u001b[1;33m     \u001b[0msrc\u001b[0m\u001b[1;33m.\u001b[0m\u001b[0mrender\u001b[0m\u001b[1;33m(\u001b[0m\u001b[1;34m'lista.gv'\u001b[0m\u001b[1;33m,\u001b[0m \u001b[0mview\u001b[0m\u001b[1;33m=\u001b[0m\u001b[1;32mTrue\u001b[0m\u001b[1;33m)\u001b[0m\u001b[1;33m\u001b[0m\u001b[1;33m\u001b[0m\u001b[0m\n\u001b[0m\u001b[0;32m    194\u001b[0m     \u001b[0mdisplay\u001b[0m\u001b[1;33m(\u001b[0m\u001b[0mSVG\u001b[0m\u001b[1;33m(\u001b[0m\u001b[0msrc\u001b[0m\u001b[1;33m.\u001b[0m\u001b[0mpipe\u001b[0m\u001b[1;33m(\u001b[0m\u001b[0mformat\u001b[0m\u001b[1;33m=\u001b[0m\u001b[1;34m'svg'\u001b[0m\u001b[1;33m)\u001b[0m\u001b[1;33m)\u001b[0m\u001b[1;33m)\u001b[0m\u001b[1;33m\u001b[0m\u001b[1;33m\u001b[0m\u001b[0m\n\u001b[0;32m    195\u001b[0m \u001b[1;33m\u001b[0m\u001b[0m\n",
            "\u001b[1;32m~\\pyver\\py392\\lib\\site-packages\\graphviz\\files.py\u001b[0m in \u001b[0;36mrender\u001b[1;34m(self, filename, directory, view, cleanup, format, renderer, formatter, quiet, quiet_view)\u001b[0m\n\u001b[0;32m    241\u001b[0m             \u001b[0mformat\u001b[0m \u001b[1;33m=\u001b[0m \u001b[0mself\u001b[0m\u001b[1;33m.\u001b[0m\u001b[0m_format\u001b[0m\u001b[1;33m\u001b[0m\u001b[1;33m\u001b[0m\u001b[0m\n\u001b[0;32m    242\u001b[0m \u001b[1;33m\u001b[0m\u001b[0m\n\u001b[1;32m--> 243\u001b[1;33m         rendered = backend.render(self._engine, format, filepath,\n\u001b[0m\u001b[0;32m    244\u001b[0m                                   \u001b[0mrenderer\u001b[0m\u001b[1;33m=\u001b[0m\u001b[0mrenderer\u001b[0m\u001b[1;33m,\u001b[0m \u001b[0mformatter\u001b[0m\u001b[1;33m=\u001b[0m\u001b[0mformatter\u001b[0m\u001b[1;33m,\u001b[0m\u001b[1;33m\u001b[0m\u001b[1;33m\u001b[0m\u001b[0m\n\u001b[0;32m    245\u001b[0m                                   quiet=quiet)\n",
            "\u001b[1;32m~\\pyver\\py392\\lib\\site-packages\\graphviz\\backend.py\u001b[0m in \u001b[0;36mrender\u001b[1;34m(***failed resolving arguments***)\u001b[0m\n\u001b[0;32m    221\u001b[0m         \u001b[0mcwd\u001b[0m \u001b[1;33m=\u001b[0m \u001b[1;32mNone\u001b[0m\u001b[1;33m\u001b[0m\u001b[1;33m\u001b[0m\u001b[0m\n\u001b[0;32m    222\u001b[0m \u001b[1;33m\u001b[0m\u001b[0m\n\u001b[1;32m--> 223\u001b[1;33m     \u001b[0mrun\u001b[0m\u001b[1;33m(\u001b[0m\u001b[0mcmd\u001b[0m\u001b[1;33m,\u001b[0m \u001b[0mcapture_output\u001b[0m\u001b[1;33m=\u001b[0m\u001b[1;32mTrue\u001b[0m\u001b[1;33m,\u001b[0m \u001b[0mcwd\u001b[0m\u001b[1;33m=\u001b[0m\u001b[0mcwd\u001b[0m\u001b[1;33m,\u001b[0m \u001b[0mcheck\u001b[0m\u001b[1;33m=\u001b[0m\u001b[1;32mTrue\u001b[0m\u001b[1;33m,\u001b[0m \u001b[0mquiet\u001b[0m\u001b[1;33m=\u001b[0m\u001b[0mquiet\u001b[0m\u001b[1;33m)\u001b[0m\u001b[1;33m\u001b[0m\u001b[1;33m\u001b[0m\u001b[0m\n\u001b[0m\u001b[0;32m    224\u001b[0m     \u001b[1;32mreturn\u001b[0m \u001b[0mrendered\u001b[0m\u001b[1;33m\u001b[0m\u001b[1;33m\u001b[0m\u001b[0m\n\u001b[0;32m    225\u001b[0m \u001b[1;33m\u001b[0m\u001b[0m\n",
            "\u001b[1;32m~\\pyver\\py392\\lib\\site-packages\\graphviz\\backend.py\u001b[0m in \u001b[0;36mrun\u001b[1;34m(cmd, input, capture_output, check, encoding, quiet, **kwargs)\u001b[0m\n\u001b[0;32m    181\u001b[0m \u001b[1;33m\u001b[0m\u001b[0m\n\u001b[0;32m    182\u001b[0m     \u001b[1;32mif\u001b[0m \u001b[0mcheck\u001b[0m \u001b[1;32mand\u001b[0m \u001b[0mproc\u001b[0m\u001b[1;33m.\u001b[0m\u001b[0mreturncode\u001b[0m\u001b[1;33m:\u001b[0m\u001b[1;33m\u001b[0m\u001b[1;33m\u001b[0m\u001b[0m\n\u001b[1;32m--> 183\u001b[1;33m         raise CalledProcessError(proc.returncode, cmd,\n\u001b[0m\u001b[0;32m    184\u001b[0m                                  output=out, stderr=err)\n\u001b[0;32m    185\u001b[0m \u001b[1;33m\u001b[0m\u001b[0m\n",
            "\u001b[1;31mCalledProcessError\u001b[0m: Command '['dot', '-Kneato', '-Tpdf', '-O', 'lista.gv']' returned non-zero exit status 1. [stderr: b'Error: Could not open \"lista.gv.pdf\" for writing : Permission denied\\r\\n']"
          ]
        }
      ]
    },
    {
      "cell_type": "code",
      "metadata": {
        "id": "KxcOPLWxbGmX",
        "colab": {
          "base_uri": "https://localhost:8080/",
          "height": 406
        },
        "outputId": "245e7d23-ba38-4e76-a28b-93155c0c4513"
      },
      "source": [
        "probar_derivada(\"(1+y)/(1-y)\",\"y\")"
      ],
      "execution_count": 9,
      "outputs": [
        {
          "output_type": "stream",
          "name": "stdout",
          "text": [
            "Fórmula original:\n"
          ]
        },
        {
          "output_type": "display_data",
          "data": {
            "text/plain": "<IPython.core.display.SVG object>",
            "image/svg+xml": "<svg xmlns=\"http://www.w3.org/2000/svg\" xmlns:xlink=\"http://www.w3.org/1999/xlink\" width=\"246pt\" height=\"130pt\" viewBox=\"0.00 0.00 245.60 130.40\">\n<g id=\"graph0\" class=\"graph\" transform=\"scale(1 1) rotate(0) translate(4 126.4)\">\n<title>Arbol</title>\n<polygon fill=\"white\" stroke=\"transparent\" points=\"-4,4 -4,-126.4 241.6,-126.4 241.6,4 -4,4\"/>\n<!-- node0 -->\n<g id=\"node1\" class=\"node\">\n<title>node0</title>\n<ellipse fill=\"none\" stroke=\"black\" cx=\"18\" cy=\"-18\" rx=\"18\" ry=\"18\"/>\n<text text-anchor=\"middle\" x=\"18\" y=\"-14.3\" font-family=\"Times New Roman,serif\" font-size=\"14.00\">1</text>\n</g>\n<!-- node2 -->\n<g id=\"node2\" class=\"node\">\n<title>node2</title>\n<ellipse fill=\"none\" stroke=\"black\" cx=\"51.6\" cy=\"-61.2\" rx=\"18\" ry=\"18\"/>\n<text text-anchor=\"middle\" x=\"51.6\" y=\"-57.5\" font-family=\"Times New Roman,serif\" font-size=\"14.00\">+</text>\n</g>\n<!-- node2&#45;&#45;node0 -->\n<g id=\"edge2\" class=\"edge\">\n<title>node2--node0</title>\n<path fill=\"none\" stroke=\"black\" d=\"M40.22,-46.57C36.65,-41.97 32.7,-36.9 29.14,-32.32\"/>\n</g>\n<!-- node1 -->\n<g id=\"node3\" class=\"node\">\n<title>node1</title>\n<ellipse fill=\"none\" stroke=\"black\" cx=\"85.2\" cy=\"-18\" rx=\"18\" ry=\"18\"/>\n<text text-anchor=\"middle\" x=\"85.2\" y=\"-14.3\" font-family=\"Times New Roman,serif\" font-size=\"14.00\">y</text>\n</g>\n<!-- node2&#45;&#45;node1 -->\n<g id=\"edge3\" class=\"edge\">\n<title>node2--node1</title>\n<path fill=\"none\" stroke=\"black\" d=\"M62.98,-46.57C66.55,-41.97 70.5,-36.9 74.06,-32.32\"/>\n</g>\n<!-- node6 -->\n<g id=\"node4\" class=\"node\">\n<title>node6</title>\n<ellipse fill=\"none\" stroke=\"black\" cx=\"118.8\" cy=\"-104.4\" rx=\"18\" ry=\"18\"/>\n<text text-anchor=\"middle\" x=\"118.8\" y=\"-100.7\" font-family=\"Times New Roman,serif\" font-size=\"14.00\">/</text>\n</g>\n<!-- node6&#45;&#45;node2 -->\n<g id=\"edge1\" class=\"edge\">\n<title>node6--node2</title>\n<path fill=\"none\" stroke=\"black\" d=\"M103.55,-94.6C92.55,-87.53 77.77,-78.02 66.79,-70.96\"/>\n</g>\n<!-- node5 -->\n<g id=\"node6\" class=\"node\">\n<title>node5</title>\n<ellipse fill=\"none\" stroke=\"black\" cx=\"186\" cy=\"-61.2\" rx=\"18\" ry=\"18\"/>\n<text text-anchor=\"middle\" x=\"186\" y=\"-57.5\" font-family=\"Times New Roman,serif\" font-size=\"14.00\">-</text>\n</g>\n<!-- node6&#45;&#45;node5 -->\n<g id=\"edge4\" class=\"edge\">\n<title>node6--node5</title>\n<path fill=\"none\" stroke=\"black\" d=\"M134.05,-94.6C145.05,-87.53 159.83,-78.02 170.81,-70.96\"/>\n</g>\n<!-- node3 -->\n<g id=\"node5\" class=\"node\">\n<title>node3</title>\n<ellipse fill=\"none\" stroke=\"black\" cx=\"152.4\" cy=\"-18\" rx=\"18\" ry=\"18\"/>\n<text text-anchor=\"middle\" x=\"152.4\" y=\"-14.3\" font-family=\"Times New Roman,serif\" font-size=\"14.00\">1</text>\n</g>\n<!-- node5&#45;&#45;node3 -->\n<g id=\"edge5\" class=\"edge\">\n<title>node5--node3</title>\n<path fill=\"none\" stroke=\"black\" d=\"M174.62,-46.57C171.05,-41.97 167.1,-36.9 163.54,-32.32\"/>\n</g>\n<!-- node4 -->\n<g id=\"node7\" class=\"node\">\n<title>node4</title>\n<ellipse fill=\"none\" stroke=\"black\" cx=\"219.6\" cy=\"-18\" rx=\"18\" ry=\"18\"/>\n<text text-anchor=\"middle\" x=\"219.6\" y=\"-14.3\" font-family=\"Times New Roman,serif\" font-size=\"14.00\">y</text>\n</g>\n<!-- node5&#45;&#45;node4 -->\n<g id=\"edge6\" class=\"edge\">\n<title>node5--node4</title>\n<path fill=\"none\" stroke=\"black\" d=\"M197.38,-46.57C200.95,-41.97 204.9,-36.9 208.46,-32.32\"/>\n</g>\n</g>\n</svg>"
          },
          "metadata": {}
        },
        {
          "output_type": "stream",
          "name": "stdout",
          "text": [
            "Derivada respecto de y:\n"
          ]
        },
        {
          "output_type": "display_data",
          "data": {
            "text/plain": "<IPython.core.display.SVG object>",
            "image/svg+xml": "<svg xmlns=\"http://www.w3.org/2000/svg\" xmlns:xlink=\"http://www.w3.org/1999/xlink\" width=\"716pt\" height=\"217pt\" viewBox=\"0.00 0.00 716.00 216.80\">\n<g id=\"graph0\" class=\"graph\" transform=\"scale(1 1) rotate(0) translate(4 212.8)\">\n<title>Arbol</title>\n<polygon fill=\"white\" stroke=\"transparent\" points=\"-4,4 -4,-212.8 712,-212.8 712,4 -4,4\"/>\n<!-- node0 -->\n<g id=\"node1\" class=\"node\">\n<title>node0</title>\n<ellipse fill=\"none\" stroke=\"black\" cx=\"18\" cy=\"-18\" rx=\"18\" ry=\"18\"/>\n<text text-anchor=\"middle\" x=\"18\" y=\"-14.3\" font-family=\"Times New Roman,serif\" font-size=\"14.00\">0</text>\n</g>\n<!-- node2 -->\n<g id=\"node2\" class=\"node\">\n<title>node2</title>\n<ellipse fill=\"none\" stroke=\"black\" cx=\"51.6\" cy=\"-61.2\" rx=\"18\" ry=\"18\"/>\n<text text-anchor=\"middle\" x=\"51.6\" y=\"-57.5\" font-family=\"Times New Roman,serif\" font-size=\"14.00\">+</text>\n</g>\n<!-- node2&#45;&#45;node0 -->\n<g id=\"edge4\" class=\"edge\">\n<title>node2--node0</title>\n<path fill=\"none\" stroke=\"black\" d=\"M40.22,-46.57C36.65,-41.97 32.7,-36.9 29.14,-32.32\"/>\n</g>\n<!-- node1 -->\n<g id=\"node3\" class=\"node\">\n<title>node1</title>\n<ellipse fill=\"none\" stroke=\"black\" cx=\"85.2\" cy=\"-18\" rx=\"18\" ry=\"18\"/>\n<text text-anchor=\"middle\" x=\"85.2\" y=\"-14.3\" font-family=\"Times New Roman,serif\" font-size=\"14.00\">1</text>\n</g>\n<!-- node2&#45;&#45;node1 -->\n<g id=\"edge5\" class=\"edge\">\n<title>node2--node1</title>\n<path fill=\"none\" stroke=\"black\" d=\"M62.98,-46.57C66.55,-41.97 70.5,-36.9 74.06,-32.32\"/>\n</g>\n<!-- node6 -->\n<g id=\"node4\" class=\"node\">\n<title>node6</title>\n<ellipse fill=\"none\" stroke=\"black\" cx=\"118.8\" cy=\"-104.4\" rx=\"18\" ry=\"18\"/>\n<text text-anchor=\"middle\" x=\"118.8\" y=\"-100.7\" font-family=\"Times New Roman,serif\" font-size=\"14.00\">*</text>\n</g>\n<!-- node6&#45;&#45;node2 -->\n<g id=\"edge3\" class=\"edge\">\n<title>node6--node2</title>\n<path fill=\"none\" stroke=\"black\" d=\"M103.55,-94.6C92.55,-87.53 77.77,-78.02 66.79,-70.96\"/>\n</g>\n<!-- node5 -->\n<g id=\"node6\" class=\"node\">\n<title>node5</title>\n<ellipse fill=\"none\" stroke=\"black\" cx=\"186\" cy=\"-61.2\" rx=\"18\" ry=\"18\"/>\n<text text-anchor=\"middle\" x=\"186\" y=\"-57.5\" font-family=\"Times New Roman,serif\" font-size=\"14.00\">-</text>\n</g>\n<!-- node6&#45;&#45;node5 -->\n<g id=\"edge6\" class=\"edge\">\n<title>node6--node5</title>\n<path fill=\"none\" stroke=\"black\" d=\"M134.05,-94.6C145.05,-87.53 159.83,-78.02 170.81,-70.96\"/>\n</g>\n<!-- node3 -->\n<g id=\"node5\" class=\"node\">\n<title>node3</title>\n<ellipse fill=\"none\" stroke=\"black\" cx=\"152.4\" cy=\"-18\" rx=\"18\" ry=\"18\"/>\n<text text-anchor=\"middle\" x=\"152.4\" y=\"-14.3\" font-family=\"Times New Roman,serif\" font-size=\"14.00\">1</text>\n</g>\n<!-- node5&#45;&#45;node3 -->\n<g id=\"edge7\" class=\"edge\">\n<title>node5--node3</title>\n<path fill=\"none\" stroke=\"black\" d=\"M174.62,-46.57C171.05,-41.97 167.1,-36.9 163.54,-32.32\"/>\n</g>\n<!-- node4 -->\n<g id=\"node7\" class=\"node\">\n<title>node4</title>\n<ellipse fill=\"none\" stroke=\"black\" cx=\"219.6\" cy=\"-18\" rx=\"18\" ry=\"18\"/>\n<text text-anchor=\"middle\" x=\"219.6\" y=\"-14.3\" font-family=\"Times New Roman,serif\" font-size=\"14.00\">y</text>\n</g>\n<!-- node5&#45;&#45;node4 -->\n<g id=\"edge8\" class=\"edge\">\n<title>node5--node4</title>\n<path fill=\"none\" stroke=\"black\" d=\"M197.38,-46.57C200.95,-41.97 204.9,-36.9 208.46,-32.32\"/>\n</g>\n<!-- node14 -->\n<g id=\"node8\" class=\"node\">\n<title>node14</title>\n<ellipse fill=\"none\" stroke=\"black\" cx=\"253.2\" cy=\"-147.6\" rx=\"18\" ry=\"18\"/>\n<text text-anchor=\"middle\" x=\"253.2\" y=\"-143.9\" font-family=\"Times New Roman,serif\" font-size=\"14.00\">-</text>\n</g>\n<!-- node14&#45;&#45;node6 -->\n<g id=\"edge2\" class=\"edge\">\n<title>node14--node6</title>\n<path fill=\"none\" stroke=\"black\" d=\"M235.9,-142.04C210.1,-133.75 161.8,-118.22 136.03,-109.94\"/>\n</g>\n<!-- node13 -->\n<g id=\"node12\" class=\"node\">\n<title>node13</title>\n<ellipse fill=\"none\" stroke=\"black\" cx=\"387.6\" cy=\"-104.4\" rx=\"18\" ry=\"18\"/>\n<text text-anchor=\"middle\" x=\"387.6\" y=\"-100.7\" font-family=\"Times New Roman,serif\" font-size=\"14.00\">*</text>\n</g>\n<!-- node14&#45;&#45;node13 -->\n<g id=\"edge9\" class=\"edge\">\n<title>node14--node13</title>\n<path fill=\"none\" stroke=\"black\" d=\"M270.5,-142.04C296.3,-133.75 344.6,-118.22 370.37,-109.94\"/>\n</g>\n<!-- node7 -->\n<g id=\"node9\" class=\"node\">\n<title>node7</title>\n<ellipse fill=\"none\" stroke=\"black\" cx=\"286.8\" cy=\"-18\" rx=\"18\" ry=\"18\"/>\n<text text-anchor=\"middle\" x=\"286.8\" y=\"-14.3\" font-family=\"Times New Roman,serif\" font-size=\"14.00\">0</text>\n</g>\n<!-- node9 -->\n<g id=\"node10\" class=\"node\">\n<title>node9</title>\n<ellipse fill=\"none\" stroke=\"black\" cx=\"320.4\" cy=\"-61.2\" rx=\"18\" ry=\"18\"/>\n<text text-anchor=\"middle\" x=\"320.4\" y=\"-57.5\" font-family=\"Times New Roman,serif\" font-size=\"14.00\">-</text>\n</g>\n<!-- node9&#45;&#45;node7 -->\n<g id=\"edge11\" class=\"edge\">\n<title>node9--node7</title>\n<path fill=\"none\" stroke=\"black\" d=\"M309.02,-46.57C305.45,-41.97 301.5,-36.9 297.94,-32.32\"/>\n</g>\n<!-- node8 -->\n<g id=\"node11\" class=\"node\">\n<title>node8</title>\n<ellipse fill=\"none\" stroke=\"black\" cx=\"354\" cy=\"-18\" rx=\"18\" ry=\"18\"/>\n<text text-anchor=\"middle\" x=\"354\" y=\"-14.3\" font-family=\"Times New Roman,serif\" font-size=\"14.00\">1</text>\n</g>\n<!-- node9&#45;&#45;node8 -->\n<g id=\"edge12\" class=\"edge\">\n<title>node9--node8</title>\n<path fill=\"none\" stroke=\"black\" d=\"M331.78,-46.57C335.35,-41.97 339.3,-36.9 342.86,-32.32\"/>\n</g>\n<!-- node13&#45;&#45;node9 -->\n<g id=\"edge10\" class=\"edge\">\n<title>node13--node9</title>\n<path fill=\"none\" stroke=\"black\" d=\"M372.35,-94.6C361.35,-87.53 346.57,-78.02 335.59,-70.96\"/>\n</g>\n<!-- node12 -->\n<g id=\"node14\" class=\"node\">\n<title>node12</title>\n<ellipse fill=\"none\" stroke=\"black\" cx=\"454.8\" cy=\"-61.2\" rx=\"18\" ry=\"18\"/>\n<text text-anchor=\"middle\" x=\"454.8\" y=\"-57.5\" font-family=\"Times New Roman,serif\" font-size=\"14.00\">+</text>\n</g>\n<!-- node13&#45;&#45;node12 -->\n<g id=\"edge13\" class=\"edge\">\n<title>node13--node12</title>\n<path fill=\"none\" stroke=\"black\" d=\"M402.85,-94.6C413.85,-87.53 428.63,-78.02 439.61,-70.96\"/>\n</g>\n<!-- node10 -->\n<g id=\"node13\" class=\"node\">\n<title>node10</title>\n<ellipse fill=\"none\" stroke=\"black\" cx=\"421.2\" cy=\"-18\" rx=\"18\" ry=\"18\"/>\n<text text-anchor=\"middle\" x=\"421.2\" y=\"-14.3\" font-family=\"Times New Roman,serif\" font-size=\"14.00\">1</text>\n</g>\n<!-- node12&#45;&#45;node10 -->\n<g id=\"edge14\" class=\"edge\">\n<title>node12--node10</title>\n<path fill=\"none\" stroke=\"black\" d=\"M443.42,-46.57C439.85,-41.97 435.9,-36.9 432.34,-32.32\"/>\n</g>\n<!-- node11 -->\n<g id=\"node15\" class=\"node\">\n<title>node11</title>\n<ellipse fill=\"none\" stroke=\"black\" cx=\"488.4\" cy=\"-18\" rx=\"18\" ry=\"18\"/>\n<text text-anchor=\"middle\" x=\"488.4\" y=\"-14.3\" font-family=\"Times New Roman,serif\" font-size=\"14.00\">y</text>\n</g>\n<!-- node12&#45;&#45;node11 -->\n<g id=\"edge15\" class=\"edge\">\n<title>node12--node11</title>\n<path fill=\"none\" stroke=\"black\" d=\"M466.18,-46.57C469.75,-41.97 473.7,-36.9 477.26,-32.32\"/>\n</g>\n<!-- node20 -->\n<g id=\"node16\" class=\"node\">\n<title>node20</title>\n<ellipse fill=\"none\" stroke=\"black\" cx=\"522\" cy=\"-190.8\" rx=\"18\" ry=\"18\"/>\n<text text-anchor=\"middle\" x=\"522\" y=\"-187.1\" font-family=\"Times New Roman,serif\" font-size=\"14.00\">/</text>\n</g>\n<!-- node20&#45;&#45;node14 -->\n<g id=\"edge1\" class=\"edge\">\n<title>node20--node14</title>\n<path fill=\"none\" stroke=\"black\" d=\"M503.95,-187.9C454.98,-180.03 320.05,-158.34 271.18,-150.49\"/>\n</g>\n<!-- node19 -->\n<g id=\"node20\" class=\"node\">\n<title>node19</title>\n<ellipse fill=\"none\" stroke=\"black\" cx=\"656.4\" cy=\"-147.6\" rx=\"18\" ry=\"18\"/>\n<text text-anchor=\"middle\" x=\"656.4\" y=\"-143.9\" font-family=\"Times New Roman,serif\" font-size=\"14.00\">^</text>\n</g>\n<!-- node20&#45;&#45;node19 -->\n<g id=\"edge16\" class=\"edge\">\n<title>node20--node19</title>\n<path fill=\"none\" stroke=\"black\" d=\"M539.3,-185.24C565.1,-176.95 613.4,-161.42 639.17,-153.14\"/>\n</g>\n<!-- node15 -->\n<g id=\"node17\" class=\"node\">\n<title>node15</title>\n<ellipse fill=\"none\" stroke=\"black\" cx=\"555.6\" cy=\"-61.2\" rx=\"18\" ry=\"18\"/>\n<text text-anchor=\"middle\" x=\"555.6\" y=\"-57.5\" font-family=\"Times New Roman,serif\" font-size=\"14.00\">1</text>\n</g>\n<!-- node17 -->\n<g id=\"node18\" class=\"node\">\n<title>node17</title>\n<ellipse fill=\"none\" stroke=\"black\" cx=\"589.2\" cy=\"-104.4\" rx=\"18\" ry=\"18\"/>\n<text text-anchor=\"middle\" x=\"589.2\" y=\"-100.7\" font-family=\"Times New Roman,serif\" font-size=\"14.00\">-</text>\n</g>\n<!-- node17&#45;&#45;node15 -->\n<g id=\"edge18\" class=\"edge\">\n<title>node17--node15</title>\n<path fill=\"none\" stroke=\"black\" d=\"M577.82,-89.77C574.25,-85.17 570.3,-80.1 566.74,-75.52\"/>\n</g>\n<!-- node16 -->\n<g id=\"node19\" class=\"node\">\n<title>node16</title>\n<ellipse fill=\"none\" stroke=\"black\" cx=\"622.8\" cy=\"-61.2\" rx=\"18\" ry=\"18\"/>\n<text text-anchor=\"middle\" x=\"622.8\" y=\"-57.5\" font-family=\"Times New Roman,serif\" font-size=\"14.00\">y</text>\n</g>\n<!-- node17&#45;&#45;node16 -->\n<g id=\"edge19\" class=\"edge\">\n<title>node17--node16</title>\n<path fill=\"none\" stroke=\"black\" d=\"M600.58,-89.77C604.15,-85.17 608.1,-80.1 611.66,-75.52\"/>\n</g>\n<!-- node19&#45;&#45;node17 -->\n<g id=\"edge17\" class=\"edge\">\n<title>node19--node17</title>\n<path fill=\"none\" stroke=\"black\" d=\"M641.15,-137.8C630.15,-130.73 615.37,-121.22 604.39,-114.16\"/>\n</g>\n<!-- node18 -->\n<g id=\"node21\" class=\"node\">\n<title>node18</title>\n<ellipse fill=\"none\" stroke=\"black\" cx=\"690\" cy=\"-104.4\" rx=\"18\" ry=\"18\"/>\n<text text-anchor=\"middle\" x=\"690\" y=\"-100.7\" font-family=\"Times New Roman,serif\" font-size=\"14.00\">2</text>\n</g>\n<!-- node19&#45;&#45;node18 -->\n<g id=\"edge20\" class=\"edge\">\n<title>node19--node18</title>\n<path fill=\"none\" stroke=\"black\" d=\"M667.78,-132.97C671.35,-128.37 675.3,-123.3 678.86,-118.72\"/>\n</g>\n</g>\n</svg>"
          },
          "metadata": {}
        }
      ]
    },
    {
      "cell_type": "markdown",
      "metadata": {
        "id": "_ZWCB4QtbGmg"
      },
      "source": [
        "## Simplificaciones\n",
        "\n",
        "Como habrá visto, las fórmulas resultantes no son muy sencillas, pero también es obvio que se se podrían simplificar para que quedaran mucho más presentables. A continuación, proponga y describa cómo podrían implementarse algunas simplificaciones. Piense recursivamente. No es necesario que las implemente, pero si se atreve, agregue un método ``simplificar`` y pruébelo dibujando el árbol resultante."
      ]
    },
    {
      "cell_type": "markdown",
      "metadata": {
        "id": "teA6YWX8bGnA"
      },
      "source": [
        "## ¿Qué hay que entregar?\n",
        "\n",
        "Usted debe entregar este mismo archivo, modificado de acuerdo a lo que se pide. Haga todos los cambios necesarios para explicar y documentar adecuadamente su código. No olvide poner su nombre."
      ]
    }
  ]
}