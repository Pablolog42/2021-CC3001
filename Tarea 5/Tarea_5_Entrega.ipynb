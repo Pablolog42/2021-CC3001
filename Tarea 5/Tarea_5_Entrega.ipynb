{
  "nbformat": 4,
  "nbformat_minor": 0,
  "metadata": {
    "kernelspec": {
      "name": "python392jvsc74a57bd09a25f204a300bdc49b2400c52ad2f477bb56de243b0a6afc988b6e51b20c71d1",
      "display_name": "Python 3.9.2 64-bit"
    },
    "language_info": {
      "codemirror_mode": {
        "name": "ipython",
        "version": 3
      },
      "file_extension": ".py",
      "mimetype": "text/x-python",
      "name": "python",
      "nbconvert_exporter": "python",
      "pygments_lexer": "ipython3",
      "version": "3.9.2"
    },
    "colab": {
      "name": "Tarea 5 - Entrega.ipynb",
      "provenance": [],
      "collapsed_sections": []
    },
    "metadata": {
      "interpreter": {
        "hash": "9a25f204a300bdc49b2400c52ad2f477bb56de243b0a6afc988b6e51b20c71d1"
      }
    }
  },
  "cells": [
    {
      "cell_type": "markdown",
      "metadata": {
        "id": "W264sNBjewyS"
      },
      "source": [
        "# CC3001 Otoño 2021 Tarea 5\n",
        "# Inserción en la raíz en un ABB\n",
        "## Profesores\n",
        "Patricio Poblete, Nelson Baloian, Ivan Sipiran\n",
        "\n",
        "Alumno: Pablo González Aguilera - 20973277-7 - Sección 2\n"
      ]
    },
    {
      "cell_type": "markdown",
      "metadata": {
        "id": "m8Rb6XLFewyT"
      },
      "source": [
        "---\n",
        "\n",
        "# CONTEXTO"
      ]
    },
    {
      "cell_type": "markdown",
      "metadata": {
        "id": "qO1wwYo7ewyW"
      },
      "source": [
        "El algoritmo usual de inserción en un ABB realiza una búsqueda infructuosa para la nueva llave, y la coloca en el lugar de la hoja en donde termina la búsqueda. Se dice que es una *inserción en las hojas*.\n",
        "\n",
        "Por contraposición, un algoritmo de *inserción en la raíz* deja la nueva llave como raíz del árbol resultante. En el apunte aparece un algoritmo de este tipo basado en *rotaciones*.\n",
        "\n",
        "El objetivo de esta tarea es implementar inserción en la raíz de un ABB usando un algoritmo alternativo, basado en la operación ``cut``(corte).\n",
        "\n",
        "Para comenzar, recordemos esta implementación del algoritmo de inserción usual (inserción en las hojas) adaptada del apunte:"
      ]
    },
    {
      "cell_type": "code",
      "metadata": {
        "id": "U6eWVvuTou4B"
      },
      "source": [
        "!pip install aed-utilities\n",
        "import aed_utilities as aed"
      ],
      "execution_count": 9,
      "outputs": [
        {
          "output_type": "stream",
          "name": "stdout",
          "text": [
            "Requirement already satisfied: aed-utilities in c:\\users\\pablo\\pyver\\py392\\lib\\site-packages (0.4.1)\n",
            "Requirement already satisfied: validators in c:\\users\\pablo\\pyver\\py392\\lib\\site-packages (from aed-utilities) (0.18.2)\n",
            "Requirement already satisfied: beautifulsoup4 in c:\\users\\pablo\\pyver\\py392\\lib\\site-packages (from aed-utilities) (4.9.3)\n",
            "Requirement already satisfied: soupsieve>1.2 in c:\\users\\pablo\\pyver\\py392\\lib\\site-packages (from beautifulsoup4->aed-utilities) (2.2.1)\n",
            "Requirement already satisfied: decorator>=3.4.0 in c:\\users\\pablo\\appdata\\roaming\\python\\python39\\site-packages (from validators->aed-utilities) (4.4.2)\n",
            "Requirement already satisfied: six>=1.4.0 in c:\\users\\pablo\\appdata\\roaming\\python\\python39\\site-packages (from validators->aed-utilities) (1.15.0)\n",
            "WARNING: You are using pip version 21.0.1; however, version 21.1.2 is available.\n",
            "You should consider upgrading via the 'c:\\users\\pablo\\pyver\\py392\\python.exe -m pip install --upgrade pip' command.\n"
          ]
        }
      ]
    },
    {
      "cell_type": "code",
      "metadata": {
        "id": "JLwRwHBdewyX"
      },
      "source": [
        "class Nodoi:\n",
        "    def __init__(self, izq, info, der):\n",
        "        self.izq=izq\n",
        "        self.info=info\n",
        "        self.der=der\n",
        "        \n",
        "    def insert(self,x):\n",
        "        assert x!=self.info\n",
        "        if x<self.info:\n",
        "            return Nodoi(self.izq.insert(x),self.info,self.der)\n",
        "        else:\n",
        "            return Nodoi(self.izq,self.info,self.der.insert(x))\n",
        "\n",
        "class Nodoe:\n",
        "    def __init__(self):\n",
        "        pass\n",
        "    \n",
        "    def insert(self,x):\n",
        "        return Nodoi(Nodoe(),x,Nodoe())\n",
        "\n",
        "class Arbol:\n",
        "    def __init__(self,raiz=Nodoe()):\n",
        "        self.raiz=raiz     \n",
        "        \n",
        "    def insert(self,x):\n",
        "        self.raiz=self.raiz.insert(x)\n",
        "    \n",
        "    def dibujar(self):\n",
        "      btd = aed.BinaryTreeDrawer(fieldData=\"info\", fieldLeft=\"izq\", fieldRight=\"der\", classNone=Nodoe, drawNull=True)\n",
        "      btd.draw_tree(self, \"raiz\")"
      ],
      "execution_count": 10,
      "outputs": []
    },
    {
      "cell_type": "markdown",
      "metadata": {
        "id": "fDxlhHBPewyd"
      },
      "source": [
        "Probemos este algoritmo con una secuencia de inserciones:"
      ]
    },
    {
      "cell_type": "code",
      "metadata": {
        "id": "0MwfhoUwewye"
      },
      "source": [
        "lista=[4,9,6,2,7,1,8,3,5]\n",
        "a=Arbol()\n",
        "for x in lista:\n",
        "    a.insert(x)\n",
        "    a.dibujar()"
      ],
      "execution_count": 11,
      "outputs": [
        {
          "output_type": "display_data",
          "data": {
            "text/plain": "<IPython.core.display.SVG object>",
            "image/svg+xml": "<svg xmlns=\"http://www.w3.org/2000/svg\" xmlns:xlink=\"http://www.w3.org/1999/xlink\" width=\"89pt\" height=\"76pt\" viewBox=\"0.00 0.00 89.20 76.20\">\n<g id=\"graph0\" class=\"graph\" transform=\"scale(1 1) rotate(0) translate(4 72.2)\">\n<title>Arbol</title>\n<polygon fill=\"white\" stroke=\"transparent\" points=\"-4,4 -4,-72.2 85.2,-72.2 85.2,4 -4,4\"/>\n<!-- null0 -->\n<g id=\"node1\" class=\"node\">\n<title>null0</title>\n<polygon fill=\"none\" stroke=\"black\" points=\"14,-14 0,-14 0,0 14,0 14,-14\"/>\n</g>\n<!-- node0 -->\n<g id=\"node2\" class=\"node\">\n<title>node0</title>\n<ellipse fill=\"none\" stroke=\"black\" cx=\"40.6\" cy=\"-50.2\" rx=\"18\" ry=\"18\"/>\n<text text-anchor=\"middle\" x=\"40.6\" y=\"-46.5\" font-family=\"Times New Roman,serif\" font-size=\"14.00\">4</text>\n</g>\n<!-- node0&#45;&#45;null0 -->\n<g id=\"edge1\" class=\"edge\">\n<title>node0--null0</title>\n<path fill=\"none\" stroke=\"black\" d=\"M29.22,-35.57C23.59,-28.33 17.04,-19.91 12.52,-14.1\"/>\n</g>\n<!-- null1 -->\n<g id=\"node3\" class=\"node\">\n<title>null1</title>\n<polygon fill=\"none\" stroke=\"black\" points=\"81.2,-14 67.2,-14 67.2,0 81.2,0 81.2,-14\"/>\n</g>\n<!-- node0&#45;&#45;null1 -->\n<g id=\"edge2\" class=\"edge\">\n<title>node0--null1</title>\n<path fill=\"none\" stroke=\"black\" d=\"M51.98,-35.57C57.61,-28.33 64.16,-19.91 68.68,-14.1\"/>\n</g>\n</g>\n</svg>"
          },
          "metadata": {}
        },
        {
          "output_type": "display_data",
          "data": {
            "text/plain": "<IPython.core.display.SVG object>",
            "image/svg+xml": "<svg xmlns=\"http://www.w3.org/2000/svg\" xmlns:xlink=\"http://www.w3.org/1999/xlink\" width=\"156pt\" height=\"119pt\" viewBox=\"0.00 0.00 156.40 119.40\">\n<g id=\"graph0\" class=\"graph\" transform=\"scale(1 1) rotate(0) translate(4 115.4)\">\n<title>Arbol</title>\n<polygon fill=\"white\" stroke=\"transparent\" points=\"-4,4 -4,-115.4 152.4,-115.4 152.4,4 -4,4\"/>\n<!-- null0 -->\n<g id=\"node1\" class=\"node\">\n<title>null0</title>\n<polygon fill=\"none\" stroke=\"black\" points=\"14,-57.2 0,-57.2 0,-43.2 14,-43.2 14,-57.2\"/>\n</g>\n<!-- node1 -->\n<g id=\"node2\" class=\"node\">\n<title>node1</title>\n<ellipse fill=\"none\" stroke=\"black\" cx=\"40.6\" cy=\"-93.4\" rx=\"18\" ry=\"18\"/>\n<text text-anchor=\"middle\" x=\"40.6\" y=\"-89.7\" font-family=\"Times New Roman,serif\" font-size=\"14.00\">4</text>\n</g>\n<!-- node1&#45;&#45;null0 -->\n<g id=\"edge1\" class=\"edge\">\n<title>node1--null0</title>\n<path fill=\"none\" stroke=\"black\" d=\"M29.22,-78.77C23.59,-71.53 17.04,-63.11 12.52,-57.3\"/>\n</g>\n<!-- node0 -->\n<g id=\"node4\" class=\"node\">\n<title>node0</title>\n<ellipse fill=\"none\" stroke=\"black\" cx=\"107.8\" cy=\"-50.2\" rx=\"18\" ry=\"18\"/>\n<text text-anchor=\"middle\" x=\"107.8\" y=\"-46.5\" font-family=\"Times New Roman,serif\" font-size=\"14.00\">9</text>\n</g>\n<!-- node1&#45;&#45;node0 -->\n<g id=\"edge2\" class=\"edge\">\n<title>node1--node0</title>\n<path fill=\"none\" stroke=\"black\" d=\"M55.85,-83.6C66.85,-76.53 81.63,-67.02 92.61,-59.96\"/>\n</g>\n<!-- null1 -->\n<g id=\"node3\" class=\"node\">\n<title>null1</title>\n<polygon fill=\"none\" stroke=\"black\" points=\"81.2,-14 67.2,-14 67.2,0 81.2,0 81.2,-14\"/>\n</g>\n<!-- node0&#45;&#45;null1 -->\n<g id=\"edge3\" class=\"edge\">\n<title>node0--null1</title>\n<path fill=\"none\" stroke=\"black\" d=\"M96.42,-35.57C90.79,-28.33 84.24,-19.91 79.72,-14.1\"/>\n</g>\n<!-- null2 -->\n<g id=\"node5\" class=\"node\">\n<title>null2</title>\n<polygon fill=\"none\" stroke=\"black\" points=\"148.4,-14 134.4,-14 134.4,0 148.4,0 148.4,-14\"/>\n</g>\n<!-- node0&#45;&#45;null2 -->\n<g id=\"edge4\" class=\"edge\">\n<title>node0--null2</title>\n<path fill=\"none\" stroke=\"black\" d=\"M119.18,-35.57C124.81,-28.33 131.36,-19.91 135.88,-14.1\"/>\n</g>\n</g>\n</svg>"
          },
          "metadata": {}
        },
        {
          "output_type": "display_data",
          "data": {
            "text/plain": "<IPython.core.display.SVG object>",
            "image/svg+xml": "<svg xmlns=\"http://www.w3.org/2000/svg\" xmlns:xlink=\"http://www.w3.org/1999/xlink\" width=\"224pt\" height=\"163pt\" viewBox=\"0.00 0.00 223.60 162.60\">\n<g id=\"graph0\" class=\"graph\" transform=\"scale(1 1) rotate(0) translate(4 158.6)\">\n<title>Arbol</title>\n<polygon fill=\"white\" stroke=\"transparent\" points=\"-4,4 -4,-158.6 219.6,-158.6 219.6,4 -4,4\"/>\n<!-- null0 -->\n<g id=\"node1\" class=\"node\">\n<title>null0</title>\n<polygon fill=\"none\" stroke=\"black\" points=\"14,-100.4 0,-100.4 0,-86.4 14,-86.4 14,-100.4\"/>\n</g>\n<!-- node2 -->\n<g id=\"node2\" class=\"node\">\n<title>node2</title>\n<ellipse fill=\"none\" stroke=\"black\" cx=\"40.6\" cy=\"-136.6\" rx=\"18\" ry=\"18\"/>\n<text text-anchor=\"middle\" x=\"40.6\" y=\"-132.9\" font-family=\"Times New Roman,serif\" font-size=\"14.00\">4</text>\n</g>\n<!-- node2&#45;&#45;null0 -->\n<g id=\"edge1\" class=\"edge\">\n<title>node2--null0</title>\n<path fill=\"none\" stroke=\"black\" d=\"M29.22,-121.97C23.59,-114.73 17.04,-106.31 12.52,-100.5\"/>\n</g>\n<!-- node1 -->\n<g id=\"node6\" class=\"node\">\n<title>node1</title>\n<ellipse fill=\"none\" stroke=\"black\" cx=\"175\" cy=\"-93.4\" rx=\"18\" ry=\"18\"/>\n<text text-anchor=\"middle\" x=\"175\" y=\"-89.7\" font-family=\"Times New Roman,serif\" font-size=\"14.00\">9</text>\n</g>\n<!-- node2&#45;&#45;node1 -->\n<g id=\"edge2\" class=\"edge\">\n<title>node2--node1</title>\n<path fill=\"none\" stroke=\"black\" d=\"M57.9,-131.04C83.7,-122.75 132,-107.22 157.77,-98.94\"/>\n</g>\n<!-- null1 -->\n<g id=\"node3\" class=\"node\">\n<title>null1</title>\n<polygon fill=\"none\" stroke=\"black\" points=\"81.2,-14 67.2,-14 67.2,0 81.2,0 81.2,-14\"/>\n</g>\n<!-- node0 -->\n<g id=\"node4\" class=\"node\">\n<title>node0</title>\n<ellipse fill=\"none\" stroke=\"black\" cx=\"107.8\" cy=\"-50.2\" rx=\"18\" ry=\"18\"/>\n<text text-anchor=\"middle\" x=\"107.8\" y=\"-46.5\" font-family=\"Times New Roman,serif\" font-size=\"14.00\">6</text>\n</g>\n<!-- node0&#45;&#45;null1 -->\n<g id=\"edge4\" class=\"edge\">\n<title>node0--null1</title>\n<path fill=\"none\" stroke=\"black\" d=\"M96.42,-35.57C90.79,-28.33 84.24,-19.91 79.72,-14.1\"/>\n</g>\n<!-- null2 -->\n<g id=\"node5\" class=\"node\">\n<title>null2</title>\n<polygon fill=\"none\" stroke=\"black\" points=\"148.4,-14 134.4,-14 134.4,0 148.4,0 148.4,-14\"/>\n</g>\n<!-- node0&#45;&#45;null2 -->\n<g id=\"edge5\" class=\"edge\">\n<title>node0--null2</title>\n<path fill=\"none\" stroke=\"black\" d=\"M119.18,-35.57C124.81,-28.33 131.36,-19.91 135.88,-14.1\"/>\n</g>\n<!-- node1&#45;&#45;node0 -->\n<g id=\"edge3\" class=\"edge\">\n<title>node1--node0</title>\n<path fill=\"none\" stroke=\"black\" d=\"M159.75,-83.6C148.75,-76.53 133.97,-67.02 122.99,-59.96\"/>\n</g>\n<!-- null3 -->\n<g id=\"node7\" class=\"node\">\n<title>null3</title>\n<polygon fill=\"none\" stroke=\"black\" points=\"215.6,-57.2 201.6,-57.2 201.6,-43.2 215.6,-43.2 215.6,-57.2\"/>\n</g>\n<!-- node1&#45;&#45;null3 -->\n<g id=\"edge6\" class=\"edge\">\n<title>node1--null3</title>\n<path fill=\"none\" stroke=\"black\" d=\"M186.38,-78.77C192.01,-71.53 198.56,-63.11 203.08,-57.3\"/>\n</g>\n</g>\n</svg>"
          },
          "metadata": {}
        },
        {
          "output_type": "display_data",
          "data": {
            "text/plain": "<IPython.core.display.SVG object>",
            "image/svg+xml": "<svg xmlns=\"http://www.w3.org/2000/svg\" xmlns:xlink=\"http://www.w3.org/1999/xlink\" width=\"291pt\" height=\"163pt\" viewBox=\"0.00 0.00 290.80 162.60\">\n<g id=\"graph0\" class=\"graph\" transform=\"scale(1 1) rotate(0) translate(4 158.6)\">\n<title>Arbol</title>\n<polygon fill=\"white\" stroke=\"transparent\" points=\"-4,4 -4,-158.6 286.8,-158.6 286.8,4 -4,4\"/>\n<!-- null0 -->\n<g id=\"node1\" class=\"node\">\n<title>null0</title>\n<polygon fill=\"none\" stroke=\"black\" points=\"14,-57.2 0,-57.2 0,-43.2 14,-43.2 14,-57.2\"/>\n</g>\n<!-- node0 -->\n<g id=\"node2\" class=\"node\">\n<title>node0</title>\n<ellipse fill=\"none\" stroke=\"black\" cx=\"40.6\" cy=\"-93.4\" rx=\"18\" ry=\"18\"/>\n<text text-anchor=\"middle\" x=\"40.6\" y=\"-89.7\" font-family=\"Times New Roman,serif\" font-size=\"14.00\">2</text>\n</g>\n<!-- node0&#45;&#45;null0 -->\n<g id=\"edge2\" class=\"edge\">\n<title>node0--null0</title>\n<path fill=\"none\" stroke=\"black\" d=\"M29.22,-78.77C23.59,-71.53 17.04,-63.11 12.52,-57.3\"/>\n</g>\n<!-- null1 -->\n<g id=\"node3\" class=\"node\">\n<title>null1</title>\n<polygon fill=\"none\" stroke=\"black\" points=\"81.2,-57.2 67.2,-57.2 67.2,-43.2 81.2,-43.2 81.2,-57.2\"/>\n</g>\n<!-- node0&#45;&#45;null1 -->\n<g id=\"edge3\" class=\"edge\">\n<title>node0--null1</title>\n<path fill=\"none\" stroke=\"black\" d=\"M51.98,-78.77C57.61,-71.53 64.16,-63.11 68.68,-57.3\"/>\n</g>\n<!-- node3 -->\n<g id=\"node4\" class=\"node\">\n<title>node3</title>\n<ellipse fill=\"none\" stroke=\"black\" cx=\"107.8\" cy=\"-136.6\" rx=\"18\" ry=\"18\"/>\n<text text-anchor=\"middle\" x=\"107.8\" y=\"-132.9\" font-family=\"Times New Roman,serif\" font-size=\"14.00\">4</text>\n</g>\n<!-- node3&#45;&#45;node0 -->\n<g id=\"edge1\" class=\"edge\">\n<title>node3--node0</title>\n<path fill=\"none\" stroke=\"black\" d=\"M92.55,-126.8C81.55,-119.73 66.77,-110.22 55.79,-103.16\"/>\n</g>\n<!-- node2 -->\n<g id=\"node8\" class=\"node\">\n<title>node2</title>\n<ellipse fill=\"none\" stroke=\"black\" cx=\"242.2\" cy=\"-93.4\" rx=\"18\" ry=\"18\"/>\n<text text-anchor=\"middle\" x=\"242.2\" y=\"-89.7\" font-family=\"Times New Roman,serif\" font-size=\"14.00\">9</text>\n</g>\n<!-- node3&#45;&#45;node2 -->\n<g id=\"edge4\" class=\"edge\">\n<title>node3--node2</title>\n<path fill=\"none\" stroke=\"black\" d=\"M125.1,-131.04C150.9,-122.75 199.2,-107.22 224.97,-98.94\"/>\n</g>\n<!-- null2 -->\n<g id=\"node5\" class=\"node\">\n<title>null2</title>\n<polygon fill=\"none\" stroke=\"black\" points=\"148.4,-14 134.4,-14 134.4,0 148.4,0 148.4,-14\"/>\n</g>\n<!-- node1 -->\n<g id=\"node6\" class=\"node\">\n<title>node1</title>\n<ellipse fill=\"none\" stroke=\"black\" cx=\"175\" cy=\"-50.2\" rx=\"18\" ry=\"18\"/>\n<text text-anchor=\"middle\" x=\"175\" y=\"-46.5\" font-family=\"Times New Roman,serif\" font-size=\"14.00\">6</text>\n</g>\n<!-- node1&#45;&#45;null2 -->\n<g id=\"edge6\" class=\"edge\">\n<title>node1--null2</title>\n<path fill=\"none\" stroke=\"black\" d=\"M163.62,-35.57C157.99,-28.33 151.44,-19.91 146.92,-14.1\"/>\n</g>\n<!-- null3 -->\n<g id=\"node7\" class=\"node\">\n<title>null3</title>\n<polygon fill=\"none\" stroke=\"black\" points=\"215.6,-14 201.6,-14 201.6,0 215.6,0 215.6,-14\"/>\n</g>\n<!-- node1&#45;&#45;null3 -->\n<g id=\"edge7\" class=\"edge\">\n<title>node1--null3</title>\n<path fill=\"none\" stroke=\"black\" d=\"M186.38,-35.57C192.01,-28.33 198.56,-19.91 203.08,-14.1\"/>\n</g>\n<!-- node2&#45;&#45;node1 -->\n<g id=\"edge5\" class=\"edge\">\n<title>node2--node1</title>\n<path fill=\"none\" stroke=\"black\" d=\"M226.95,-83.6C215.95,-76.53 201.17,-67.02 190.19,-59.96\"/>\n</g>\n<!-- null4 -->\n<g id=\"node9\" class=\"node\">\n<title>null4</title>\n<polygon fill=\"none\" stroke=\"black\" points=\"282.8,-57.2 268.8,-57.2 268.8,-43.2 282.8,-43.2 282.8,-57.2\"/>\n</g>\n<!-- node2&#45;&#45;null4 -->\n<g id=\"edge8\" class=\"edge\">\n<title>node2--null4</title>\n<path fill=\"none\" stroke=\"black\" d=\"M253.58,-78.77C259.21,-71.53 265.76,-63.11 270.28,-57.3\"/>\n</g>\n</g>\n</svg>"
          },
          "metadata": {}
        },
        {
          "output_type": "display_data",
          "data": {
            "text/plain": "<IPython.core.display.SVG object>",
            "image/svg+xml": "<svg xmlns=\"http://www.w3.org/2000/svg\" xmlns:xlink=\"http://www.w3.org/1999/xlink\" width=\"358pt\" height=\"206pt\" viewBox=\"0.00 0.00 358.00 205.80\">\n<g id=\"graph0\" class=\"graph\" transform=\"scale(1 1) rotate(0) translate(4 201.8)\">\n<title>Arbol</title>\n<polygon fill=\"white\" stroke=\"transparent\" points=\"-4,4 -4,-201.8 354,-201.8 354,4 -4,4\"/>\n<!-- null0 -->\n<g id=\"node1\" class=\"node\">\n<title>null0</title>\n<polygon fill=\"none\" stroke=\"black\" points=\"14,-100.4 0,-100.4 0,-86.4 14,-86.4 14,-100.4\"/>\n</g>\n<!-- node0 -->\n<g id=\"node2\" class=\"node\">\n<title>node0</title>\n<ellipse fill=\"none\" stroke=\"black\" cx=\"40.6\" cy=\"-136.6\" rx=\"18\" ry=\"18\"/>\n<text text-anchor=\"middle\" x=\"40.6\" y=\"-132.9\" font-family=\"Times New Roman,serif\" font-size=\"14.00\">2</text>\n</g>\n<!-- node0&#45;&#45;null0 -->\n<g id=\"edge2\" class=\"edge\">\n<title>node0--null0</title>\n<path fill=\"none\" stroke=\"black\" d=\"M29.22,-121.97C23.59,-114.73 17.04,-106.31 12.52,-100.5\"/>\n</g>\n<!-- null1 -->\n<g id=\"node3\" class=\"node\">\n<title>null1</title>\n<polygon fill=\"none\" stroke=\"black\" points=\"81.2,-100.4 67.2,-100.4 67.2,-86.4 81.2,-86.4 81.2,-100.4\"/>\n</g>\n<!-- node0&#45;&#45;null1 -->\n<g id=\"edge3\" class=\"edge\">\n<title>node0--null1</title>\n<path fill=\"none\" stroke=\"black\" d=\"M51.98,-121.97C57.61,-114.73 64.16,-106.31 68.68,-100.5\"/>\n</g>\n<!-- node4 -->\n<g id=\"node4\" class=\"node\">\n<title>node4</title>\n<ellipse fill=\"none\" stroke=\"black\" cx=\"107.8\" cy=\"-179.8\" rx=\"18\" ry=\"18\"/>\n<text text-anchor=\"middle\" x=\"107.8\" y=\"-176.1\" font-family=\"Times New Roman,serif\" font-size=\"14.00\">4</text>\n</g>\n<!-- node4&#45;&#45;node0 -->\n<g id=\"edge1\" class=\"edge\">\n<title>node4--node0</title>\n<path fill=\"none\" stroke=\"black\" d=\"M92.55,-170C81.55,-162.93 66.77,-153.42 55.79,-146.36\"/>\n</g>\n<!-- node3 -->\n<g id=\"node10\" class=\"node\">\n<title>node3</title>\n<ellipse fill=\"none\" stroke=\"black\" cx=\"309.4\" cy=\"-136.6\" rx=\"18\" ry=\"18\"/>\n<text text-anchor=\"middle\" x=\"309.4\" y=\"-132.9\" font-family=\"Times New Roman,serif\" font-size=\"14.00\">9</text>\n</g>\n<!-- node4&#45;&#45;node3 -->\n<g id=\"edge4\" class=\"edge\">\n<title>node4--node3</title>\n<path fill=\"none\" stroke=\"black\" d=\"M125.69,-175.97C163.95,-167.77 253.33,-148.62 291.55,-140.43\"/>\n</g>\n<!-- null2 -->\n<g id=\"node5\" class=\"node\">\n<title>null2</title>\n<polygon fill=\"none\" stroke=\"black\" points=\"148.4,-57.2 134.4,-57.2 134.4,-43.2 148.4,-43.2 148.4,-57.2\"/>\n</g>\n<!-- node2 -->\n<g id=\"node6\" class=\"node\">\n<title>node2</title>\n<ellipse fill=\"none\" stroke=\"black\" cx=\"175\" cy=\"-93.4\" rx=\"18\" ry=\"18\"/>\n<text text-anchor=\"middle\" x=\"175\" y=\"-89.7\" font-family=\"Times New Roman,serif\" font-size=\"14.00\">6</text>\n</g>\n<!-- node2&#45;&#45;null2 -->\n<g id=\"edge6\" class=\"edge\">\n<title>node2--null2</title>\n<path fill=\"none\" stroke=\"black\" d=\"M163.62,-78.77C157.99,-71.53 151.44,-63.11 146.92,-57.3\"/>\n</g>\n<!-- node1 -->\n<g id=\"node8\" class=\"node\">\n<title>node1</title>\n<ellipse fill=\"none\" stroke=\"black\" cx=\"242.2\" cy=\"-50.2\" rx=\"18\" ry=\"18\"/>\n<text text-anchor=\"middle\" x=\"242.2\" y=\"-46.5\" font-family=\"Times New Roman,serif\" font-size=\"14.00\">7</text>\n</g>\n<!-- node2&#45;&#45;node1 -->\n<g id=\"edge7\" class=\"edge\">\n<title>node2--node1</title>\n<path fill=\"none\" stroke=\"black\" d=\"M190.25,-83.6C201.25,-76.53 216.03,-67.02 227.01,-59.96\"/>\n</g>\n<!-- null3 -->\n<g id=\"node7\" class=\"node\">\n<title>null3</title>\n<polygon fill=\"none\" stroke=\"black\" points=\"215.6,-14 201.6,-14 201.6,0 215.6,0 215.6,-14\"/>\n</g>\n<!-- node1&#45;&#45;null3 -->\n<g id=\"edge8\" class=\"edge\">\n<title>node1--null3</title>\n<path fill=\"none\" stroke=\"black\" d=\"M230.82,-35.57C225.19,-28.33 218.64,-19.91 214.12,-14.1\"/>\n</g>\n<!-- null4 -->\n<g id=\"node9\" class=\"node\">\n<title>null4</title>\n<polygon fill=\"none\" stroke=\"black\" points=\"282.8,-14 268.8,-14 268.8,0 282.8,0 282.8,-14\"/>\n</g>\n<!-- node1&#45;&#45;null4 -->\n<g id=\"edge9\" class=\"edge\">\n<title>node1--null4</title>\n<path fill=\"none\" stroke=\"black\" d=\"M253.58,-35.57C259.21,-28.33 265.76,-19.91 270.28,-14.1\"/>\n</g>\n<!-- node3&#45;&#45;node2 -->\n<g id=\"edge5\" class=\"edge\">\n<title>node3--node2</title>\n<path fill=\"none\" stroke=\"black\" d=\"M292.1,-131.04C266.3,-122.75 218,-107.22 192.23,-98.94\"/>\n</g>\n<!-- null5 -->\n<g id=\"node11\" class=\"node\">\n<title>null5</title>\n<polygon fill=\"none\" stroke=\"black\" points=\"350,-100.4 336,-100.4 336,-86.4 350,-86.4 350,-100.4\"/>\n</g>\n<!-- node3&#45;&#45;null5 -->\n<g id=\"edge10\" class=\"edge\">\n<title>node3--null5</title>\n<path fill=\"none\" stroke=\"black\" d=\"M320.78,-121.97C326.41,-114.73 332.96,-106.31 337.48,-100.5\"/>\n</g>\n</g>\n</svg>"
          },
          "metadata": {}
        },
        {
          "output_type": "display_data",
          "data": {
            "text/plain": "<IPython.core.display.SVG object>",
            "image/svg+xml": "<svg xmlns=\"http://www.w3.org/2000/svg\" xmlns:xlink=\"http://www.w3.org/1999/xlink\" width=\"425pt\" height=\"206pt\" viewBox=\"0.00 0.00 425.20 205.80\">\n<g id=\"graph0\" class=\"graph\" transform=\"scale(1 1) rotate(0) translate(4 201.8)\">\n<title>Arbol</title>\n<polygon fill=\"white\" stroke=\"transparent\" points=\"-4,4 -4,-201.8 421.2,-201.8 421.2,4 -4,4\"/>\n<!-- null0 -->\n<g id=\"node1\" class=\"node\">\n<title>null0</title>\n<polygon fill=\"none\" stroke=\"black\" points=\"14,-57.2 0,-57.2 0,-43.2 14,-43.2 14,-57.2\"/>\n</g>\n<!-- node0 -->\n<g id=\"node2\" class=\"node\">\n<title>node0</title>\n<ellipse fill=\"none\" stroke=\"black\" cx=\"40.6\" cy=\"-93.4\" rx=\"18\" ry=\"18\"/>\n<text text-anchor=\"middle\" x=\"40.6\" y=\"-89.7\" font-family=\"Times New Roman,serif\" font-size=\"14.00\">1</text>\n</g>\n<!-- node0&#45;&#45;null0 -->\n<g id=\"edge3\" class=\"edge\">\n<title>node0--null0</title>\n<path fill=\"none\" stroke=\"black\" d=\"M29.22,-78.77C23.59,-71.53 17.04,-63.11 12.52,-57.3\"/>\n</g>\n<!-- null1 -->\n<g id=\"node3\" class=\"node\">\n<title>null1</title>\n<polygon fill=\"none\" stroke=\"black\" points=\"81.2,-57.2 67.2,-57.2 67.2,-43.2 81.2,-43.2 81.2,-57.2\"/>\n</g>\n<!-- node0&#45;&#45;null1 -->\n<g id=\"edge4\" class=\"edge\">\n<title>node0--null1</title>\n<path fill=\"none\" stroke=\"black\" d=\"M51.98,-78.77C57.61,-71.53 64.16,-63.11 68.68,-57.3\"/>\n</g>\n<!-- node1 -->\n<g id=\"node4\" class=\"node\">\n<title>node1</title>\n<ellipse fill=\"none\" stroke=\"black\" cx=\"107.8\" cy=\"-136.6\" rx=\"18\" ry=\"18\"/>\n<text text-anchor=\"middle\" x=\"107.8\" y=\"-132.9\" font-family=\"Times New Roman,serif\" font-size=\"14.00\">2</text>\n</g>\n<!-- node1&#45;&#45;node0 -->\n<g id=\"edge2\" class=\"edge\">\n<title>node1--node0</title>\n<path fill=\"none\" stroke=\"black\" d=\"M92.55,-126.8C81.55,-119.73 66.77,-110.22 55.79,-103.16\"/>\n</g>\n<!-- null2 -->\n<g id=\"node5\" class=\"node\">\n<title>null2</title>\n<polygon fill=\"none\" stroke=\"black\" points=\"148.4,-100.4 134.4,-100.4 134.4,-86.4 148.4,-86.4 148.4,-100.4\"/>\n</g>\n<!-- node1&#45;&#45;null2 -->\n<g id=\"edge5\" class=\"edge\">\n<title>node1--null2</title>\n<path fill=\"none\" stroke=\"black\" d=\"M119.18,-121.97C124.81,-114.73 131.36,-106.31 135.88,-100.5\"/>\n</g>\n<!-- node5 -->\n<g id=\"node6\" class=\"node\">\n<title>node5</title>\n<ellipse fill=\"none\" stroke=\"black\" cx=\"175\" cy=\"-179.8\" rx=\"18\" ry=\"18\"/>\n<text text-anchor=\"middle\" x=\"175\" y=\"-176.1\" font-family=\"Times New Roman,serif\" font-size=\"14.00\">4</text>\n</g>\n<!-- node5&#45;&#45;node1 -->\n<g id=\"edge1\" class=\"edge\">\n<title>node5--node1</title>\n<path fill=\"none\" stroke=\"black\" d=\"M159.75,-170C148.75,-162.93 133.97,-153.42 122.99,-146.36\"/>\n</g>\n<!-- node4 -->\n<g id=\"node12\" class=\"node\">\n<title>node4</title>\n<ellipse fill=\"none\" stroke=\"black\" cx=\"376.6\" cy=\"-136.6\" rx=\"18\" ry=\"18\"/>\n<text text-anchor=\"middle\" x=\"376.6\" y=\"-132.9\" font-family=\"Times New Roman,serif\" font-size=\"14.00\">9</text>\n</g>\n<!-- node5&#45;&#45;node4 -->\n<g id=\"edge6\" class=\"edge\">\n<title>node5--node4</title>\n<path fill=\"none\" stroke=\"black\" d=\"M192.89,-175.97C231.15,-167.77 320.53,-148.62 358.75,-140.43\"/>\n</g>\n<!-- null3 -->\n<g id=\"node7\" class=\"node\">\n<title>null3</title>\n<polygon fill=\"none\" stroke=\"black\" points=\"215.6,-57.2 201.6,-57.2 201.6,-43.2 215.6,-43.2 215.6,-57.2\"/>\n</g>\n<!-- node3 -->\n<g id=\"node8\" class=\"node\">\n<title>node3</title>\n<ellipse fill=\"none\" stroke=\"black\" cx=\"242.2\" cy=\"-93.4\" rx=\"18\" ry=\"18\"/>\n<text text-anchor=\"middle\" x=\"242.2\" y=\"-89.7\" font-family=\"Times New Roman,serif\" font-size=\"14.00\">6</text>\n</g>\n<!-- node3&#45;&#45;null3 -->\n<g id=\"edge8\" class=\"edge\">\n<title>node3--null3</title>\n<path fill=\"none\" stroke=\"black\" d=\"M230.82,-78.77C225.19,-71.53 218.64,-63.11 214.12,-57.3\"/>\n</g>\n<!-- node2 -->\n<g id=\"node10\" class=\"node\">\n<title>node2</title>\n<ellipse fill=\"none\" stroke=\"black\" cx=\"309.4\" cy=\"-50.2\" rx=\"18\" ry=\"18\"/>\n<text text-anchor=\"middle\" x=\"309.4\" y=\"-46.5\" font-family=\"Times New Roman,serif\" font-size=\"14.00\">7</text>\n</g>\n<!-- node3&#45;&#45;node2 -->\n<g id=\"edge9\" class=\"edge\">\n<title>node3--node2</title>\n<path fill=\"none\" stroke=\"black\" d=\"M257.45,-83.6C268.45,-76.53 283.23,-67.02 294.21,-59.96\"/>\n</g>\n<!-- null4 -->\n<g id=\"node9\" class=\"node\">\n<title>null4</title>\n<polygon fill=\"none\" stroke=\"black\" points=\"282.8,-14 268.8,-14 268.8,0 282.8,0 282.8,-14\"/>\n</g>\n<!-- node2&#45;&#45;null4 -->\n<g id=\"edge10\" class=\"edge\">\n<title>node2--null4</title>\n<path fill=\"none\" stroke=\"black\" d=\"M298.02,-35.57C292.39,-28.33 285.84,-19.91 281.32,-14.1\"/>\n</g>\n<!-- null5 -->\n<g id=\"node11\" class=\"node\">\n<title>null5</title>\n<polygon fill=\"none\" stroke=\"black\" points=\"350,-14 336,-14 336,0 350,0 350,-14\"/>\n</g>\n<!-- node2&#45;&#45;null5 -->\n<g id=\"edge11\" class=\"edge\">\n<title>node2--null5</title>\n<path fill=\"none\" stroke=\"black\" d=\"M320.78,-35.57C326.41,-28.33 332.96,-19.91 337.48,-14.1\"/>\n</g>\n<!-- node4&#45;&#45;node3 -->\n<g id=\"edge7\" class=\"edge\">\n<title>node4--node3</title>\n<path fill=\"none\" stroke=\"black\" d=\"M359.3,-131.04C333.5,-122.75 285.2,-107.22 259.43,-98.94\"/>\n</g>\n<!-- null6 -->\n<g id=\"node13\" class=\"node\">\n<title>null6</title>\n<polygon fill=\"none\" stroke=\"black\" points=\"417.2,-100.4 403.2,-100.4 403.2,-86.4 417.2,-86.4 417.2,-100.4\"/>\n</g>\n<!-- node4&#45;&#45;null6 -->\n<g id=\"edge12\" class=\"edge\">\n<title>node4--null6</title>\n<path fill=\"none\" stroke=\"black\" d=\"M387.98,-121.97C393.61,-114.73 400.16,-106.31 404.68,-100.5\"/>\n</g>\n</g>\n</svg>"
          },
          "metadata": {}
        },
        {
          "output_type": "display_data",
          "data": {
            "text/plain": "<IPython.core.display.SVG object>",
            "image/svg+xml": "<svg xmlns=\"http://www.w3.org/2000/svg\" xmlns:xlink=\"http://www.w3.org/1999/xlink\" width=\"492pt\" height=\"249pt\" viewBox=\"0.00 0.00 492.40 249.00\">\n<g id=\"graph0\" class=\"graph\" transform=\"scale(1 1) rotate(0) translate(4 245)\">\n<title>Arbol</title>\n<polygon fill=\"white\" stroke=\"transparent\" points=\"-4,4 -4,-245 488.4,-245 488.4,4 -4,4\"/>\n<!-- null0 -->\n<g id=\"node1\" class=\"node\">\n<title>null0</title>\n<polygon fill=\"none\" stroke=\"black\" points=\"14,-100.4 0,-100.4 0,-86.4 14,-86.4 14,-100.4\"/>\n</g>\n<!-- node0 -->\n<g id=\"node2\" class=\"node\">\n<title>node0</title>\n<ellipse fill=\"none\" stroke=\"black\" cx=\"40.6\" cy=\"-136.6\" rx=\"18\" ry=\"18\"/>\n<text text-anchor=\"middle\" x=\"40.6\" y=\"-132.9\" font-family=\"Times New Roman,serif\" font-size=\"14.00\">1</text>\n</g>\n<!-- node0&#45;&#45;null0 -->\n<g id=\"edge3\" class=\"edge\">\n<title>node0--null0</title>\n<path fill=\"none\" stroke=\"black\" d=\"M29.22,-121.97C23.59,-114.73 17.04,-106.31 12.52,-100.5\"/>\n</g>\n<!-- null1 -->\n<g id=\"node3\" class=\"node\">\n<title>null1</title>\n<polygon fill=\"none\" stroke=\"black\" points=\"81.2,-100.4 67.2,-100.4 67.2,-86.4 81.2,-86.4 81.2,-100.4\"/>\n</g>\n<!-- node0&#45;&#45;null1 -->\n<g id=\"edge4\" class=\"edge\">\n<title>node0--null1</title>\n<path fill=\"none\" stroke=\"black\" d=\"M51.98,-121.97C57.61,-114.73 64.16,-106.31 68.68,-100.5\"/>\n</g>\n<!-- node1 -->\n<g id=\"node4\" class=\"node\">\n<title>node1</title>\n<ellipse fill=\"none\" stroke=\"black\" cx=\"107.8\" cy=\"-179.8\" rx=\"18\" ry=\"18\"/>\n<text text-anchor=\"middle\" x=\"107.8\" y=\"-176.1\" font-family=\"Times New Roman,serif\" font-size=\"14.00\">2</text>\n</g>\n<!-- node1&#45;&#45;node0 -->\n<g id=\"edge2\" class=\"edge\">\n<title>node1--node0</title>\n<path fill=\"none\" stroke=\"black\" d=\"M92.55,-170C81.55,-162.93 66.77,-153.42 55.79,-146.36\"/>\n</g>\n<!-- null2 -->\n<g id=\"node5\" class=\"node\">\n<title>null2</title>\n<polygon fill=\"none\" stroke=\"black\" points=\"148.4,-143.6 134.4,-143.6 134.4,-129.6 148.4,-129.6 148.4,-143.6\"/>\n</g>\n<!-- node1&#45;&#45;null2 -->\n<g id=\"edge5\" class=\"edge\">\n<title>node1--null2</title>\n<path fill=\"none\" stroke=\"black\" d=\"M119.18,-165.17C124.81,-157.93 131.36,-149.51 135.88,-143.7\"/>\n</g>\n<!-- node6 -->\n<g id=\"node6\" class=\"node\">\n<title>node6</title>\n<ellipse fill=\"none\" stroke=\"black\" cx=\"175\" cy=\"-223\" rx=\"18\" ry=\"18\"/>\n<text text-anchor=\"middle\" x=\"175\" y=\"-219.3\" font-family=\"Times New Roman,serif\" font-size=\"14.00\">4</text>\n</g>\n<!-- node6&#45;&#45;node1 -->\n<g id=\"edge1\" class=\"edge\">\n<title>node6--node1</title>\n<path fill=\"none\" stroke=\"black\" d=\"M159.75,-213.2C148.75,-206.13 133.97,-196.62 122.99,-189.56\"/>\n</g>\n<!-- node5 -->\n<g id=\"node14\" class=\"node\">\n<title>node5</title>\n<ellipse fill=\"none\" stroke=\"black\" cx=\"443.8\" cy=\"-179.8\" rx=\"18\" ry=\"18\"/>\n<text text-anchor=\"middle\" x=\"443.8\" y=\"-176.1\" font-family=\"Times New Roman,serif\" font-size=\"14.00\">9</text>\n</g>\n<!-- node6&#45;&#45;node5 -->\n<g id=\"edge6\" class=\"edge\">\n<title>node6--node5</title>\n<path fill=\"none\" stroke=\"black\" d=\"M193.05,-220.1C242.02,-212.23 376.95,-190.54 425.82,-182.69\"/>\n</g>\n<!-- null3 -->\n<g id=\"node7\" class=\"node\">\n<title>null3</title>\n<polygon fill=\"none\" stroke=\"black\" points=\"215.6,-100.4 201.6,-100.4 201.6,-86.4 215.6,-86.4 215.6,-100.4\"/>\n</g>\n<!-- node4 -->\n<g id=\"node8\" class=\"node\">\n<title>node4</title>\n<ellipse fill=\"none\" stroke=\"black\" cx=\"242.2\" cy=\"-136.6\" rx=\"18\" ry=\"18\"/>\n<text text-anchor=\"middle\" x=\"242.2\" y=\"-132.9\" font-family=\"Times New Roman,serif\" font-size=\"14.00\">6</text>\n</g>\n<!-- node4&#45;&#45;null3 -->\n<g id=\"edge8\" class=\"edge\">\n<title>node4--null3</title>\n<path fill=\"none\" stroke=\"black\" d=\"M230.82,-121.97C225.19,-114.73 218.64,-106.31 214.12,-100.5\"/>\n</g>\n<!-- node3 -->\n<g id=\"node10\" class=\"node\">\n<title>node3</title>\n<ellipse fill=\"none\" stroke=\"black\" cx=\"309.4\" cy=\"-93.4\" rx=\"18\" ry=\"18\"/>\n<text text-anchor=\"middle\" x=\"309.4\" y=\"-89.7\" font-family=\"Times New Roman,serif\" font-size=\"14.00\">7</text>\n</g>\n<!-- node4&#45;&#45;node3 -->\n<g id=\"edge9\" class=\"edge\">\n<title>node4--node3</title>\n<path fill=\"none\" stroke=\"black\" d=\"M257.45,-126.8C268.45,-119.73 283.23,-110.22 294.21,-103.16\"/>\n</g>\n<!-- null4 -->\n<g id=\"node9\" class=\"node\">\n<title>null4</title>\n<polygon fill=\"none\" stroke=\"black\" points=\"282.8,-57.2 268.8,-57.2 268.8,-43.2 282.8,-43.2 282.8,-57.2\"/>\n</g>\n<!-- node3&#45;&#45;null4 -->\n<g id=\"edge10\" class=\"edge\">\n<title>node3--null4</title>\n<path fill=\"none\" stroke=\"black\" d=\"M298.02,-78.77C292.39,-71.53 285.84,-63.11 281.32,-57.3\"/>\n</g>\n<!-- node2 -->\n<g id=\"node12\" class=\"node\">\n<title>node2</title>\n<ellipse fill=\"none\" stroke=\"black\" cx=\"376.6\" cy=\"-50.2\" rx=\"18\" ry=\"18\"/>\n<text text-anchor=\"middle\" x=\"376.6\" y=\"-46.5\" font-family=\"Times New Roman,serif\" font-size=\"14.00\">8</text>\n</g>\n<!-- node3&#45;&#45;node2 -->\n<g id=\"edge11\" class=\"edge\">\n<title>node3--node2</title>\n<path fill=\"none\" stroke=\"black\" d=\"M324.65,-83.6C335.65,-76.53 350.43,-67.02 361.41,-59.96\"/>\n</g>\n<!-- null5 -->\n<g id=\"node11\" class=\"node\">\n<title>null5</title>\n<polygon fill=\"none\" stroke=\"black\" points=\"350,-14 336,-14 336,0 350,0 350,-14\"/>\n</g>\n<!-- node2&#45;&#45;null5 -->\n<g id=\"edge12\" class=\"edge\">\n<title>node2--null5</title>\n<path fill=\"none\" stroke=\"black\" d=\"M365.22,-35.57C359.59,-28.33 353.04,-19.91 348.52,-14.1\"/>\n</g>\n<!-- null6 -->\n<g id=\"node13\" class=\"node\">\n<title>null6</title>\n<polygon fill=\"none\" stroke=\"black\" points=\"417.2,-14 403.2,-14 403.2,0 417.2,0 417.2,-14\"/>\n</g>\n<!-- node2&#45;&#45;null6 -->\n<g id=\"edge13\" class=\"edge\">\n<title>node2--null6</title>\n<path fill=\"none\" stroke=\"black\" d=\"M387.98,-35.57C393.61,-28.33 400.16,-19.91 404.68,-14.1\"/>\n</g>\n<!-- node5&#45;&#45;node4 -->\n<g id=\"edge7\" class=\"edge\">\n<title>node5--node4</title>\n<path fill=\"none\" stroke=\"black\" d=\"M425.91,-175.97C387.65,-167.77 298.27,-148.62 260.05,-140.43\"/>\n</g>\n<!-- null7 -->\n<g id=\"node15\" class=\"node\">\n<title>null7</title>\n<polygon fill=\"none\" stroke=\"black\" points=\"484.4,-143.6 470.4,-143.6 470.4,-129.6 484.4,-129.6 484.4,-143.6\"/>\n</g>\n<!-- node5&#45;&#45;null7 -->\n<g id=\"edge14\" class=\"edge\">\n<title>node5--null7</title>\n<path fill=\"none\" stroke=\"black\" d=\"M455.18,-165.17C460.81,-157.93 467.36,-149.51 471.88,-143.7\"/>\n</g>\n</g>\n</svg>"
          },
          "metadata": {}
        },
        {
          "output_type": "display_data",
          "data": {
            "text/plain": "<IPython.core.display.SVG object>",
            "image/svg+xml": "<svg xmlns=\"http://www.w3.org/2000/svg\" xmlns:xlink=\"http://www.w3.org/1999/xlink\" width=\"560pt\" height=\"249pt\" viewBox=\"0.00 0.00 559.60 249.00\">\n<g id=\"graph0\" class=\"graph\" transform=\"scale(1 1) rotate(0) translate(4 245)\">\n<title>Arbol</title>\n<polygon fill=\"white\" stroke=\"transparent\" points=\"-4,4 -4,-245 555.6,-245 555.6,4 -4,4\"/>\n<!-- null0 -->\n<g id=\"node1\" class=\"node\">\n<title>null0</title>\n<polygon fill=\"none\" stroke=\"black\" points=\"14,-100.4 0,-100.4 0,-86.4 14,-86.4 14,-100.4\"/>\n</g>\n<!-- node0 -->\n<g id=\"node2\" class=\"node\">\n<title>node0</title>\n<ellipse fill=\"none\" stroke=\"black\" cx=\"40.6\" cy=\"-136.6\" rx=\"18\" ry=\"18\"/>\n<text text-anchor=\"middle\" x=\"40.6\" y=\"-132.9\" font-family=\"Times New Roman,serif\" font-size=\"14.00\">1</text>\n</g>\n<!-- node0&#45;&#45;null0 -->\n<g id=\"edge3\" class=\"edge\">\n<title>node0--null0</title>\n<path fill=\"none\" stroke=\"black\" d=\"M29.22,-121.97C23.59,-114.73 17.04,-106.31 12.52,-100.5\"/>\n</g>\n<!-- null1 -->\n<g id=\"node3\" class=\"node\">\n<title>null1</title>\n<polygon fill=\"none\" stroke=\"black\" points=\"81.2,-100.4 67.2,-100.4 67.2,-86.4 81.2,-86.4 81.2,-100.4\"/>\n</g>\n<!-- node0&#45;&#45;null1 -->\n<g id=\"edge4\" class=\"edge\">\n<title>node0--null1</title>\n<path fill=\"none\" stroke=\"black\" d=\"M51.98,-121.97C57.61,-114.73 64.16,-106.31 68.68,-100.5\"/>\n</g>\n<!-- node2 -->\n<g id=\"node4\" class=\"node\">\n<title>node2</title>\n<ellipse fill=\"none\" stroke=\"black\" cx=\"107.8\" cy=\"-179.8\" rx=\"18\" ry=\"18\"/>\n<text text-anchor=\"middle\" x=\"107.8\" y=\"-176.1\" font-family=\"Times New Roman,serif\" font-size=\"14.00\">2</text>\n</g>\n<!-- node2&#45;&#45;node0 -->\n<g id=\"edge2\" class=\"edge\">\n<title>node2--node0</title>\n<path fill=\"none\" stroke=\"black\" d=\"M92.55,-170C81.55,-162.93 66.77,-153.42 55.79,-146.36\"/>\n</g>\n<!-- node1 -->\n<g id=\"node6\" class=\"node\">\n<title>node1</title>\n<ellipse fill=\"none\" stroke=\"black\" cx=\"175\" cy=\"-136.6\" rx=\"18\" ry=\"18\"/>\n<text text-anchor=\"middle\" x=\"175\" y=\"-132.9\" font-family=\"Times New Roman,serif\" font-size=\"14.00\">3</text>\n</g>\n<!-- node2&#45;&#45;node1 -->\n<g id=\"edge5\" class=\"edge\">\n<title>node2--node1</title>\n<path fill=\"none\" stroke=\"black\" d=\"M123.05,-170C134.05,-162.93 148.83,-153.42 159.81,-146.36\"/>\n</g>\n<!-- null2 -->\n<g id=\"node5\" class=\"node\">\n<title>null2</title>\n<polygon fill=\"none\" stroke=\"black\" points=\"148.4,-100.4 134.4,-100.4 134.4,-86.4 148.4,-86.4 148.4,-100.4\"/>\n</g>\n<!-- node1&#45;&#45;null2 -->\n<g id=\"edge6\" class=\"edge\">\n<title>node1--null2</title>\n<path fill=\"none\" stroke=\"black\" d=\"M163.62,-121.97C157.99,-114.73 151.44,-106.31 146.92,-100.5\"/>\n</g>\n<!-- null3 -->\n<g id=\"node7\" class=\"node\">\n<title>null3</title>\n<polygon fill=\"none\" stroke=\"black\" points=\"215.6,-100.4 201.6,-100.4 201.6,-86.4 215.6,-86.4 215.6,-100.4\"/>\n</g>\n<!-- node1&#45;&#45;null3 -->\n<g id=\"edge7\" class=\"edge\">\n<title>node1--null3</title>\n<path fill=\"none\" stroke=\"black\" d=\"M186.38,-121.97C192.01,-114.73 198.56,-106.31 203.08,-100.5\"/>\n</g>\n<!-- node7 -->\n<g id=\"node8\" class=\"node\">\n<title>node7</title>\n<ellipse fill=\"none\" stroke=\"black\" cx=\"242.2\" cy=\"-223\" rx=\"18\" ry=\"18\"/>\n<text text-anchor=\"middle\" x=\"242.2\" y=\"-219.3\" font-family=\"Times New Roman,serif\" font-size=\"14.00\">4</text>\n</g>\n<!-- node7&#45;&#45;node2 -->\n<g id=\"edge1\" class=\"edge\">\n<title>node7--node2</title>\n<path fill=\"none\" stroke=\"black\" d=\"M224.9,-217.44C199.1,-209.15 150.8,-193.62 125.03,-185.34\"/>\n</g>\n<!-- node6 -->\n<g id=\"node16\" class=\"node\">\n<title>node6</title>\n<ellipse fill=\"none\" stroke=\"black\" cx=\"511\" cy=\"-179.8\" rx=\"18\" ry=\"18\"/>\n<text text-anchor=\"middle\" x=\"511\" y=\"-176.1\" font-family=\"Times New Roman,serif\" font-size=\"14.00\">9</text>\n</g>\n<!-- node7&#45;&#45;node6 -->\n<g id=\"edge8\" class=\"edge\">\n<title>node7--node6</title>\n<path fill=\"none\" stroke=\"black\" d=\"M260.25,-220.1C309.22,-212.23 444.15,-190.54 493.02,-182.69\"/>\n</g>\n<!-- null4 -->\n<g id=\"node9\" class=\"node\">\n<title>null4</title>\n<polygon fill=\"none\" stroke=\"black\" points=\"282.8,-100.4 268.8,-100.4 268.8,-86.4 282.8,-86.4 282.8,-100.4\"/>\n</g>\n<!-- node5 -->\n<g id=\"node10\" class=\"node\">\n<title>node5</title>\n<ellipse fill=\"none\" stroke=\"black\" cx=\"309.4\" cy=\"-136.6\" rx=\"18\" ry=\"18\"/>\n<text text-anchor=\"middle\" x=\"309.4\" y=\"-132.9\" font-family=\"Times New Roman,serif\" font-size=\"14.00\">6</text>\n</g>\n<!-- node5&#45;&#45;null4 -->\n<g id=\"edge10\" class=\"edge\">\n<title>node5--null4</title>\n<path fill=\"none\" stroke=\"black\" d=\"M298.02,-121.97C292.39,-114.73 285.84,-106.31 281.32,-100.5\"/>\n</g>\n<!-- node4 -->\n<g id=\"node12\" class=\"node\">\n<title>node4</title>\n<ellipse fill=\"none\" stroke=\"black\" cx=\"376.6\" cy=\"-93.4\" rx=\"18\" ry=\"18\"/>\n<text text-anchor=\"middle\" x=\"376.6\" y=\"-89.7\" font-family=\"Times New Roman,serif\" font-size=\"14.00\">7</text>\n</g>\n<!-- node5&#45;&#45;node4 -->\n<g id=\"edge11\" class=\"edge\">\n<title>node5--node4</title>\n<path fill=\"none\" stroke=\"black\" d=\"M324.65,-126.8C335.65,-119.73 350.43,-110.22 361.41,-103.16\"/>\n</g>\n<!-- null5 -->\n<g id=\"node11\" class=\"node\">\n<title>null5</title>\n<polygon fill=\"none\" stroke=\"black\" points=\"350,-57.2 336,-57.2 336,-43.2 350,-43.2 350,-57.2\"/>\n</g>\n<!-- node4&#45;&#45;null5 -->\n<g id=\"edge12\" class=\"edge\">\n<title>node4--null5</title>\n<path fill=\"none\" stroke=\"black\" d=\"M365.22,-78.77C359.59,-71.53 353.04,-63.11 348.52,-57.3\"/>\n</g>\n<!-- node3 -->\n<g id=\"node14\" class=\"node\">\n<title>node3</title>\n<ellipse fill=\"none\" stroke=\"black\" cx=\"443.8\" cy=\"-50.2\" rx=\"18\" ry=\"18\"/>\n<text text-anchor=\"middle\" x=\"443.8\" y=\"-46.5\" font-family=\"Times New Roman,serif\" font-size=\"14.00\">8</text>\n</g>\n<!-- node4&#45;&#45;node3 -->\n<g id=\"edge13\" class=\"edge\">\n<title>node4--node3</title>\n<path fill=\"none\" stroke=\"black\" d=\"M391.85,-83.6C402.85,-76.53 417.63,-67.02 428.61,-59.96\"/>\n</g>\n<!-- null6 -->\n<g id=\"node13\" class=\"node\">\n<title>null6</title>\n<polygon fill=\"none\" stroke=\"black\" points=\"417.2,-14 403.2,-14 403.2,0 417.2,0 417.2,-14\"/>\n</g>\n<!-- node3&#45;&#45;null6 -->\n<g id=\"edge14\" class=\"edge\">\n<title>node3--null6</title>\n<path fill=\"none\" stroke=\"black\" d=\"M432.42,-35.57C426.79,-28.33 420.24,-19.91 415.72,-14.1\"/>\n</g>\n<!-- null7 -->\n<g id=\"node15\" class=\"node\">\n<title>null7</title>\n<polygon fill=\"none\" stroke=\"black\" points=\"484.4,-14 470.4,-14 470.4,0 484.4,0 484.4,-14\"/>\n</g>\n<!-- node3&#45;&#45;null7 -->\n<g id=\"edge15\" class=\"edge\">\n<title>node3--null7</title>\n<path fill=\"none\" stroke=\"black\" d=\"M455.18,-35.57C460.81,-28.33 467.36,-19.91 471.88,-14.1\"/>\n</g>\n<!-- node6&#45;&#45;node5 -->\n<g id=\"edge9\" class=\"edge\">\n<title>node6--node5</title>\n<path fill=\"none\" stroke=\"black\" d=\"M493.11,-175.97C454.85,-167.77 365.47,-148.62 327.25,-140.43\"/>\n</g>\n<!-- null8 -->\n<g id=\"node17\" class=\"node\">\n<title>null8</title>\n<polygon fill=\"none\" stroke=\"black\" points=\"551.6,-143.6 537.6,-143.6 537.6,-129.6 551.6,-129.6 551.6,-143.6\"/>\n</g>\n<!-- node6&#45;&#45;null8 -->\n<g id=\"edge16\" class=\"edge\">\n<title>node6--null8</title>\n<path fill=\"none\" stroke=\"black\" d=\"M522.38,-165.17C528.01,-157.93 534.56,-149.51 539.08,-143.7\"/>\n</g>\n</g>\n</svg>"
          },
          "metadata": {}
        },
        {
          "output_type": "display_data",
          "data": {
            "text/plain": "<IPython.core.display.SVG object>",
            "image/svg+xml": "<svg xmlns=\"http://www.w3.org/2000/svg\" xmlns:xlink=\"http://www.w3.org/1999/xlink\" width=\"627pt\" height=\"249pt\" viewBox=\"0.00 0.00 626.80 249.00\">\n<g id=\"graph0\" class=\"graph\" transform=\"scale(1 1) rotate(0) translate(4 245)\">\n<title>Arbol</title>\n<polygon fill=\"white\" stroke=\"transparent\" points=\"-4,4 -4,-245 622.8,-245 622.8,4 -4,4\"/>\n<!-- null0 -->\n<g id=\"node1\" class=\"node\">\n<title>null0</title>\n<polygon fill=\"none\" stroke=\"black\" points=\"14,-100.4 0,-100.4 0,-86.4 14,-86.4 14,-100.4\"/>\n</g>\n<!-- node0 -->\n<g id=\"node2\" class=\"node\">\n<title>node0</title>\n<ellipse fill=\"none\" stroke=\"black\" cx=\"40.6\" cy=\"-136.6\" rx=\"18\" ry=\"18\"/>\n<text text-anchor=\"middle\" x=\"40.6\" y=\"-132.9\" font-family=\"Times New Roman,serif\" font-size=\"14.00\">1</text>\n</g>\n<!-- node0&#45;&#45;null0 -->\n<g id=\"edge3\" class=\"edge\">\n<title>node0--null0</title>\n<path fill=\"none\" stroke=\"black\" d=\"M29.22,-121.97C23.59,-114.73 17.04,-106.31 12.52,-100.5\"/>\n</g>\n<!-- null1 -->\n<g id=\"node3\" class=\"node\">\n<title>null1</title>\n<polygon fill=\"none\" stroke=\"black\" points=\"81.2,-100.4 67.2,-100.4 67.2,-86.4 81.2,-86.4 81.2,-100.4\"/>\n</g>\n<!-- node0&#45;&#45;null1 -->\n<g id=\"edge4\" class=\"edge\">\n<title>node0--null1</title>\n<path fill=\"none\" stroke=\"black\" d=\"M51.98,-121.97C57.61,-114.73 64.16,-106.31 68.68,-100.5\"/>\n</g>\n<!-- node2 -->\n<g id=\"node4\" class=\"node\">\n<title>node2</title>\n<ellipse fill=\"none\" stroke=\"black\" cx=\"107.8\" cy=\"-179.8\" rx=\"18\" ry=\"18\"/>\n<text text-anchor=\"middle\" x=\"107.8\" y=\"-176.1\" font-family=\"Times New Roman,serif\" font-size=\"14.00\">2</text>\n</g>\n<!-- node2&#45;&#45;node0 -->\n<g id=\"edge2\" class=\"edge\">\n<title>node2--node0</title>\n<path fill=\"none\" stroke=\"black\" d=\"M92.55,-170C81.55,-162.93 66.77,-153.42 55.79,-146.36\"/>\n</g>\n<!-- node1 -->\n<g id=\"node6\" class=\"node\">\n<title>node1</title>\n<ellipse fill=\"none\" stroke=\"black\" cx=\"175\" cy=\"-136.6\" rx=\"18\" ry=\"18\"/>\n<text text-anchor=\"middle\" x=\"175\" y=\"-132.9\" font-family=\"Times New Roman,serif\" font-size=\"14.00\">3</text>\n</g>\n<!-- node2&#45;&#45;node1 -->\n<g id=\"edge5\" class=\"edge\">\n<title>node2--node1</title>\n<path fill=\"none\" stroke=\"black\" d=\"M123.05,-170C134.05,-162.93 148.83,-153.42 159.81,-146.36\"/>\n</g>\n<!-- null2 -->\n<g id=\"node5\" class=\"node\">\n<title>null2</title>\n<polygon fill=\"none\" stroke=\"black\" points=\"148.4,-100.4 134.4,-100.4 134.4,-86.4 148.4,-86.4 148.4,-100.4\"/>\n</g>\n<!-- node1&#45;&#45;null2 -->\n<g id=\"edge6\" class=\"edge\">\n<title>node1--null2</title>\n<path fill=\"none\" stroke=\"black\" d=\"M163.62,-121.97C157.99,-114.73 151.44,-106.31 146.92,-100.5\"/>\n</g>\n<!-- null3 -->\n<g id=\"node7\" class=\"node\">\n<title>null3</title>\n<polygon fill=\"none\" stroke=\"black\" points=\"215.6,-100.4 201.6,-100.4 201.6,-86.4 215.6,-86.4 215.6,-100.4\"/>\n</g>\n<!-- node1&#45;&#45;null3 -->\n<g id=\"edge7\" class=\"edge\">\n<title>node1--null3</title>\n<path fill=\"none\" stroke=\"black\" d=\"M186.38,-121.97C192.01,-114.73 198.56,-106.31 203.08,-100.5\"/>\n</g>\n<!-- node8 -->\n<g id=\"node8\" class=\"node\">\n<title>node8</title>\n<ellipse fill=\"none\" stroke=\"black\" cx=\"242.2\" cy=\"-223\" rx=\"18\" ry=\"18\"/>\n<text text-anchor=\"middle\" x=\"242.2\" y=\"-219.3\" font-family=\"Times New Roman,serif\" font-size=\"14.00\">4</text>\n</g>\n<!-- node8&#45;&#45;node2 -->\n<g id=\"edge1\" class=\"edge\">\n<title>node8--node2</title>\n<path fill=\"none\" stroke=\"black\" d=\"M224.9,-217.44C199.1,-209.15 150.8,-193.62 125.03,-185.34\"/>\n</g>\n<!-- node7 -->\n<g id=\"node18\" class=\"node\">\n<title>node7</title>\n<ellipse fill=\"none\" stroke=\"black\" cx=\"578.2\" cy=\"-179.8\" rx=\"18\" ry=\"18\"/>\n<text text-anchor=\"middle\" x=\"578.2\" y=\"-176.1\" font-family=\"Times New Roman,serif\" font-size=\"14.00\">9</text>\n</g>\n<!-- node8&#45;&#45;node7 -->\n<g id=\"edge8\" class=\"edge\">\n<title>node8--node7</title>\n<path fill=\"none\" stroke=\"black\" d=\"M260.26,-220.68C318.61,-213.18 501.58,-189.65 560.05,-182.13\"/>\n</g>\n<!-- null4 -->\n<g id=\"node9\" class=\"node\">\n<title>null4</title>\n<polygon fill=\"none\" stroke=\"black\" points=\"282.8,-57.2 268.8,-57.2 268.8,-43.2 282.8,-43.2 282.8,-57.2\"/>\n</g>\n<!-- node3 -->\n<g id=\"node10\" class=\"node\">\n<title>node3</title>\n<ellipse fill=\"none\" stroke=\"black\" cx=\"309.4\" cy=\"-93.4\" rx=\"18\" ry=\"18\"/>\n<text text-anchor=\"middle\" x=\"309.4\" y=\"-89.7\" font-family=\"Times New Roman,serif\" font-size=\"14.00\">5</text>\n</g>\n<!-- node3&#45;&#45;null4 -->\n<g id=\"edge11\" class=\"edge\">\n<title>node3--null4</title>\n<path fill=\"none\" stroke=\"black\" d=\"M298.02,-78.77C292.39,-71.53 285.84,-63.11 281.32,-57.3\"/>\n</g>\n<!-- null5 -->\n<g id=\"node11\" class=\"node\">\n<title>null5</title>\n<polygon fill=\"none\" stroke=\"black\" points=\"350,-57.2 336,-57.2 336,-43.2 350,-43.2 350,-57.2\"/>\n</g>\n<!-- node3&#45;&#45;null5 -->\n<g id=\"edge12\" class=\"edge\">\n<title>node3--null5</title>\n<path fill=\"none\" stroke=\"black\" d=\"M320.78,-78.77C326.41,-71.53 332.96,-63.11 337.48,-57.3\"/>\n</g>\n<!-- node6 -->\n<g id=\"node12\" class=\"node\">\n<title>node6</title>\n<ellipse fill=\"none\" stroke=\"black\" cx=\"376.6\" cy=\"-136.6\" rx=\"18\" ry=\"18\"/>\n<text text-anchor=\"middle\" x=\"376.6\" y=\"-132.9\" font-family=\"Times New Roman,serif\" font-size=\"14.00\">6</text>\n</g>\n<!-- node6&#45;&#45;node3 -->\n<g id=\"edge10\" class=\"edge\">\n<title>node6--node3</title>\n<path fill=\"none\" stroke=\"black\" d=\"M361.35,-126.8C350.35,-119.73 335.57,-110.22 324.59,-103.16\"/>\n</g>\n<!-- node5 -->\n<g id=\"node14\" class=\"node\">\n<title>node5</title>\n<ellipse fill=\"none\" stroke=\"black\" cx=\"443.8\" cy=\"-93.4\" rx=\"18\" ry=\"18\"/>\n<text text-anchor=\"middle\" x=\"443.8\" y=\"-89.7\" font-family=\"Times New Roman,serif\" font-size=\"14.00\">7</text>\n</g>\n<!-- node6&#45;&#45;node5 -->\n<g id=\"edge13\" class=\"edge\">\n<title>node6--node5</title>\n<path fill=\"none\" stroke=\"black\" d=\"M391.85,-126.8C402.85,-119.73 417.63,-110.22 428.61,-103.16\"/>\n</g>\n<!-- null6 -->\n<g id=\"node13\" class=\"node\">\n<title>null6</title>\n<polygon fill=\"none\" stroke=\"black\" points=\"417.2,-57.2 403.2,-57.2 403.2,-43.2 417.2,-43.2 417.2,-57.2\"/>\n</g>\n<!-- node5&#45;&#45;null6 -->\n<g id=\"edge14\" class=\"edge\">\n<title>node5--null6</title>\n<path fill=\"none\" stroke=\"black\" d=\"M432.42,-78.77C426.79,-71.53 420.24,-63.11 415.72,-57.3\"/>\n</g>\n<!-- node4 -->\n<g id=\"node16\" class=\"node\">\n<title>node4</title>\n<ellipse fill=\"none\" stroke=\"black\" cx=\"511\" cy=\"-50.2\" rx=\"18\" ry=\"18\"/>\n<text text-anchor=\"middle\" x=\"511\" y=\"-46.5\" font-family=\"Times New Roman,serif\" font-size=\"14.00\">8</text>\n</g>\n<!-- node5&#45;&#45;node4 -->\n<g id=\"edge15\" class=\"edge\">\n<title>node5--node4</title>\n<path fill=\"none\" stroke=\"black\" d=\"M459.05,-83.6C470.05,-76.53 484.83,-67.02 495.81,-59.96\"/>\n</g>\n<!-- null7 -->\n<g id=\"node15\" class=\"node\">\n<title>null7</title>\n<polygon fill=\"none\" stroke=\"black\" points=\"484.4,-14 470.4,-14 470.4,0 484.4,0 484.4,-14\"/>\n</g>\n<!-- node4&#45;&#45;null7 -->\n<g id=\"edge16\" class=\"edge\">\n<title>node4--null7</title>\n<path fill=\"none\" stroke=\"black\" d=\"M499.62,-35.57C493.99,-28.33 487.44,-19.91 482.92,-14.1\"/>\n</g>\n<!-- null8 -->\n<g id=\"node17\" class=\"node\">\n<title>null8</title>\n<polygon fill=\"none\" stroke=\"black\" points=\"551.6,-14 537.6,-14 537.6,0 551.6,0 551.6,-14\"/>\n</g>\n<!-- node4&#45;&#45;null8 -->\n<g id=\"edge17\" class=\"edge\">\n<title>node4--null8</title>\n<path fill=\"none\" stroke=\"black\" d=\"M522.38,-35.57C528.01,-28.33 534.56,-19.91 539.08,-14.1\"/>\n</g>\n<!-- node7&#45;&#45;node6 -->\n<g id=\"edge9\" class=\"edge\">\n<title>node7--node6</title>\n<path fill=\"none\" stroke=\"black\" d=\"M560.31,-175.97C522.05,-167.77 432.67,-148.62 394.45,-140.43\"/>\n</g>\n<!-- null9 -->\n<g id=\"node19\" class=\"node\">\n<title>null9</title>\n<polygon fill=\"none\" stroke=\"black\" points=\"618.8,-143.6 604.8,-143.6 604.8,-129.6 618.8,-129.6 618.8,-143.6\"/>\n</g>\n<!-- node7&#45;&#45;null9 -->\n<g id=\"edge18\" class=\"edge\">\n<title>node7--null9</title>\n<path fill=\"none\" stroke=\"black\" d=\"M589.58,-165.17C595.21,-157.93 601.76,-149.51 606.28,-143.7\"/>\n</g>\n</g>\n</svg>"
          },
          "metadata": {}
        }
      ]
    },
    {
      "cell_type": "markdown",
      "metadata": {
        "id": "0lDD0QD_ewyt"
      },
      "source": [
        "Para definir el algoritmo de inserción en la raíz, definimos primero la operación ``cut(x)``. La idea es la siguiente: dado un árbol $A$ y una llave $x$ que no está en el árbol, el resultado de ejecutar $\\text{cut}(x)$ sobre el árbol $A$ es una tupla $(A_{<x},A_{>x})$, que contiene como primera componente el árbol que contiene solo las llaves que son menores que $x$, y similarmente la segunda componente es el árbol con las llaves mayores que $x$. Por ejemplo:\n",
        "\n",
        "![T5-cut](https://github.com/ppoblete/CC3001-2020-2-Tareas/blob/master/T5-cut.png?raw=1)\n",
        "\n",
        "La operación ``cut(x)`` se puede definir recursivamente:\n",
        "\n",
        "Para el caso de un árbol no vacío con raíz $r$, con $x<r$:\n",
        "\n",
        "![T5-cut2](https://github.com/ppoblete/CC3001-2020-2-Tareas/blob/master/T5-cut2.png?raw=1)\n",
        "\n",
        "El caso $x>r$ es simétrico.\n",
        "\n",
        "El caso de borde es que al hacer ``cut(x)``sobre un nodo ☐, el resultado es una tupla (☐,☐).\n",
        "\n",
        "En base a esta operación ``cut(x)``, es fácil definir una operación ``root_insert(x)``. En efecto, para insertar una nueva llave $x$ en la raíz de un árbol $A$, se hace un corte con $x$ al árbol $A$, y luego se construye el árbol\n",
        "\n",
        "![T5-cut3](https://github.com/ppoblete/CC3001-2020-2-Tareas/blob/master/T5-cut3.png?raw=1)"
      ]
    },
    {
      "cell_type": "markdown",
      "metadata": {
        "id": "rp6tXFp5ewy2"
      },
      "source": [
        "# INSTRUCCIONES"
      ]
    },
    {
      "cell_type": "markdown",
      "metadata": {
        "id": "Oe01FDHAewy3"
      },
      "source": [
        "## Parte 1: ``cut(x)`` y ``root_insert(x)``"
      ]
    },
    {
      "cell_type": "markdown",
      "metadata": {
        "id": "nnmFh7-vewy4"
      },
      "source": [
        "Modifique las clases provistas para agregar la operación ``cut(x)``y la operación ``root_insert(x)``. Escriba acá su código para las clases completas:"
      ]
    },
    {
      "cell_type": "code",
      "metadata": {
        "id": "XJsU16d9u5ms"
      },
      "source": [
        "import aed_utilities as aed\n",
        "\n",
        "class Nodoi:\n",
        "    def __init__(self, izq, info, der):\n",
        "        self.izq=izq\n",
        "        self.info=info\n",
        "        self.der=der\n",
        "        \n",
        "    def insert(self,x):\n",
        "        assert x!=self.info\n",
        "        if x<self.info:\n",
        "            return Nodoi(self.izq.insert(x),self.info,self.der)\n",
        "        else:\n",
        "            return Nodoi(self.izq,self.info,self.der.insert(x))\n",
        "\n",
        "    def cut(self, x):\n",
        "\n",
        "        r = self.info\n",
        "        assert x != r\n",
        "\n",
        "        # if type(self.izq) == Nodoe or type(self.der) == Nodoe:\n",
        "        #     return(\"☐\",\"☐\")\n",
        "\n",
        "\n",
        "        if x < r:\n",
        "\n",
        "            izqMenorX = self.izq.cut(x)[0] \n",
        "            izqMayorX = self.izq.cut(x)[1] \n",
        "\n",
        "            j = Nodoi(izqMayorX, r, self.der) \n",
        "\n",
        "            tuplaCasoMenor = (izqMenorX,j)\n",
        "\n",
        "            return tuplaCasoMenor\n",
        "\n",
        "        if x > r:\n",
        "            derMenorX = self.der.cut(x)[0] \n",
        "            derMayorX = self.der.cut(x)[1] \n",
        "\n",
        "            j = Nodoi(self.izq, r, derMayorX)\n",
        "\n",
        "            tuplaCasoMayor = (j,derMenorX)\n",
        "            \n",
        "            return tuplaCasoMayor\n",
        "\n",
        "    def root_insert(self,x):\n",
        "        pass\n",
        "\n",
        "\n",
        "class Nodoe:\n",
        "    def __init__(self):\n",
        "        pass\n",
        "    \n",
        "    def insert(self,x):\n",
        "        return Nodoi(Nodoe(),x,Nodoe())\n",
        "\n",
        "    def root_insert(self, x):\n",
        "        return Nodoi(Nodoe(),x,Nodoe())\n",
        "\n",
        "    def cut(self,x):\n",
        "        #Caso base\n",
        "        #return(\"☐\",\"☐\")\n",
        "        return(Nodoe(),Nodoe())\n",
        "\n",
        "class Arbol:\n",
        "    def __init__(self,raiz=Nodoe()):\n",
        "        self.raiz=raiz     \n",
        "        \n",
        "    def insert(self,x):\n",
        "        self.raiz=self.raiz.insert(x)\n",
        "    \n",
        "    def cut(self, x):\n",
        "        #Caso 1: x está en la rama izquierda del árbol\n",
        "        return self.raiz.cut(x)\n",
        "\n",
        "    def root_insert(self, x):\n",
        "        corteArbol = self.raiz.cut(x) \n",
        "\n",
        "        izq = corteArbol[0] \n",
        "        der = corteArbol[1]  \n",
        "\n",
        "\n",
        "        self.raiz = Nodoi(izq, x, der)\n",
        "        \n",
        "    def dibujar(self):\n",
        "      btd = aed.BinaryTreeDrawer(fieldData=\"info\", fieldLeft=\"izq\", fieldRight=\"der\", classNone=Nodoe, drawNull=True)\n",
        "      btd.draw_tree(self, \"raiz\")\n",
        "\n",
        "    \n",
        "lista=[9,6,2,7,1,8,3,5]\n",
        "a=Arbol()\n",
        "for m in lista:\n",
        "    a.insert(m)\n",
        "\n",
        "# a.dibujar()\n",
        "\n",
        "tuplaCortada = a.cut(4)\n",
        "\n",
        "menorX , mayorX = tuplaCortada[0], tuplaCortada[1]\n",
        "\n",
        "t = Arbol(tuplaCortada[1])\n",
        "t. dibujar()\n",
        "# Arbol(tuplaCortada[1]).dibujar\n",
        "\n",
        "# lista=[9,6,2,7,1,8,3,5]\n",
        "# a=Arbol()\n",
        "# for m in lista:\n",
        "#     a.root_insert(m)\n",
        "#     # a.dibujar()\n",
        "\n",
        "# a.dibujar()"
      ],
      "execution_count": 1,
      "outputs": [
        {
          "output_type": "display_data",
          "data": {
            "text/plain": "<IPython.core.display.SVG object>",
            "image/svg+xml": "<svg xmlns=\"http://www.w3.org/2000/svg\" xmlns:xlink=\"http://www.w3.org/1999/xlink\" width=\"425pt\" height=\"206pt\" viewBox=\"0.00 0.00 425.20 205.80\">\n<g id=\"graph0\" class=\"graph\" transform=\"scale(1 1) rotate(0) translate(4 201.8)\">\n<title>Arbol</title>\n<polygon fill=\"white\" stroke=\"transparent\" points=\"-4,4 -4,-201.8 421.2,-201.8 421.2,4 -4,4\"/>\n<!-- null0 -->\n<g id=\"node1\" class=\"node\">\n<title>null0</title>\n<polygon fill=\"none\" stroke=\"black\" points=\"14,-57.2 0,-57.2 0,-43.2 14,-43.2 14,-57.2\"/>\n</g>\n<!-- node1 -->\n<g id=\"node2\" class=\"node\">\n<title>node1</title>\n<ellipse fill=\"none\" stroke=\"black\" cx=\"40.6\" cy=\"-93.4\" rx=\"18\" ry=\"18\"/>\n<text text-anchor=\"middle\" x=\"40.6\" y=\"-89.7\" font-family=\"Times New Roman,serif\" font-size=\"14.00\">3</text>\n</g>\n<!-- node1&#45;&#45;null0 -->\n<g id=\"edge3\" class=\"edge\">\n<title>node1--null0</title>\n<path fill=\"none\" stroke=\"black\" d=\"M29.22,-78.77C23.59,-71.53 17.04,-63.11 12.52,-57.3\"/>\n</g>\n<!-- node0 -->\n<g id=\"node4\" class=\"node\">\n<title>node0</title>\n<ellipse fill=\"none\" stroke=\"black\" cx=\"107.8\" cy=\"-50.2\" rx=\"18\" ry=\"18\"/>\n<text text-anchor=\"middle\" x=\"107.8\" y=\"-46.5\" font-family=\"Times New Roman,serif\" font-size=\"14.00\">5</text>\n</g>\n<!-- node1&#45;&#45;node0 -->\n<g id=\"edge4\" class=\"edge\">\n<title>node1--node0</title>\n<path fill=\"none\" stroke=\"black\" d=\"M55.85,-83.6C66.85,-76.53 81.63,-67.02 92.61,-59.96\"/>\n</g>\n<!-- null1 -->\n<g id=\"node3\" class=\"node\">\n<title>null1</title>\n<polygon fill=\"none\" stroke=\"black\" points=\"81.2,-14 67.2,-14 67.2,0 81.2,0 81.2,-14\"/>\n</g>\n<!-- node0&#45;&#45;null1 -->\n<g id=\"edge5\" class=\"edge\">\n<title>node0--null1</title>\n<path fill=\"none\" stroke=\"black\" d=\"M96.42,-35.57C90.79,-28.33 84.24,-19.91 79.72,-14.1\"/>\n</g>\n<!-- null2 -->\n<g id=\"node5\" class=\"node\">\n<title>null2</title>\n<polygon fill=\"none\" stroke=\"black\" points=\"148.4,-14 134.4,-14 134.4,0 148.4,0 148.4,-14\"/>\n</g>\n<!-- node0&#45;&#45;null2 -->\n<g id=\"edge6\" class=\"edge\">\n<title>node0--null2</title>\n<path fill=\"none\" stroke=\"black\" d=\"M119.18,-35.57C124.81,-28.33 131.36,-19.91 135.88,-14.1\"/>\n</g>\n<!-- node4 -->\n<g id=\"node6\" class=\"node\">\n<title>node4</title>\n<ellipse fill=\"none\" stroke=\"black\" cx=\"175\" cy=\"-136.6\" rx=\"18\" ry=\"18\"/>\n<text text-anchor=\"middle\" x=\"175\" y=\"-132.9\" font-family=\"Times New Roman,serif\" font-size=\"14.00\">6</text>\n</g>\n<!-- node4&#45;&#45;node1 -->\n<g id=\"edge2\" class=\"edge\">\n<title>node4--node1</title>\n<path fill=\"none\" stroke=\"black\" d=\"M157.7,-131.04C131.9,-122.75 83.6,-107.22 57.83,-98.94\"/>\n</g>\n<!-- node3 -->\n<g id=\"node8\" class=\"node\">\n<title>node3</title>\n<ellipse fill=\"none\" stroke=\"black\" cx=\"242.2\" cy=\"-93.4\" rx=\"18\" ry=\"18\"/>\n<text text-anchor=\"middle\" x=\"242.2\" y=\"-89.7\" font-family=\"Times New Roman,serif\" font-size=\"14.00\">7</text>\n</g>\n<!-- node4&#45;&#45;node3 -->\n<g id=\"edge7\" class=\"edge\">\n<title>node4--node3</title>\n<path fill=\"none\" stroke=\"black\" d=\"M190.25,-126.8C201.25,-119.73 216.03,-110.22 227.01,-103.16\"/>\n</g>\n<!-- null3 -->\n<g id=\"node7\" class=\"node\">\n<title>null3</title>\n<polygon fill=\"none\" stroke=\"black\" points=\"215.6,-57.2 201.6,-57.2 201.6,-43.2 215.6,-43.2 215.6,-57.2\"/>\n</g>\n<!-- node3&#45;&#45;null3 -->\n<g id=\"edge8\" class=\"edge\">\n<title>node3--null3</title>\n<path fill=\"none\" stroke=\"black\" d=\"M230.82,-78.77C225.19,-71.53 218.64,-63.11 214.12,-57.3\"/>\n</g>\n<!-- node2 -->\n<g id=\"node10\" class=\"node\">\n<title>node2</title>\n<ellipse fill=\"none\" stroke=\"black\" cx=\"309.4\" cy=\"-50.2\" rx=\"18\" ry=\"18\"/>\n<text text-anchor=\"middle\" x=\"309.4\" y=\"-46.5\" font-family=\"Times New Roman,serif\" font-size=\"14.00\">8</text>\n</g>\n<!-- node3&#45;&#45;node2 -->\n<g id=\"edge9\" class=\"edge\">\n<title>node3--node2</title>\n<path fill=\"none\" stroke=\"black\" d=\"M257.45,-83.6C268.45,-76.53 283.23,-67.02 294.21,-59.96\"/>\n</g>\n<!-- null4 -->\n<g id=\"node9\" class=\"node\">\n<title>null4</title>\n<polygon fill=\"none\" stroke=\"black\" points=\"282.8,-14 268.8,-14 268.8,0 282.8,0 282.8,-14\"/>\n</g>\n<!-- node2&#45;&#45;null4 -->\n<g id=\"edge10\" class=\"edge\">\n<title>node2--null4</title>\n<path fill=\"none\" stroke=\"black\" d=\"M298.02,-35.57C292.39,-28.33 285.84,-19.91 281.32,-14.1\"/>\n</g>\n<!-- null5 -->\n<g id=\"node11\" class=\"node\">\n<title>null5</title>\n<polygon fill=\"none\" stroke=\"black\" points=\"350,-14 336,-14 336,0 350,0 350,-14\"/>\n</g>\n<!-- node2&#45;&#45;null5 -->\n<g id=\"edge11\" class=\"edge\">\n<title>node2--null5</title>\n<path fill=\"none\" stroke=\"black\" d=\"M320.78,-35.57C326.41,-28.33 332.96,-19.91 337.48,-14.1\"/>\n</g>\n<!-- node5 -->\n<g id=\"node12\" class=\"node\">\n<title>node5</title>\n<ellipse fill=\"none\" stroke=\"black\" cx=\"376.6\" cy=\"-179.8\" rx=\"18\" ry=\"18\"/>\n<text text-anchor=\"middle\" x=\"376.6\" y=\"-176.1\" font-family=\"Times New Roman,serif\" font-size=\"14.00\">9</text>\n</g>\n<!-- node5&#45;&#45;node4 -->\n<g id=\"edge1\" class=\"edge\">\n<title>node5--node4</title>\n<path fill=\"none\" stroke=\"black\" d=\"M358.71,-175.97C320.45,-167.77 231.07,-148.62 192.85,-140.43\"/>\n</g>\n<!-- null6 -->\n<g id=\"node13\" class=\"node\">\n<title>null6</title>\n<polygon fill=\"none\" stroke=\"black\" points=\"417.2,-143.6 403.2,-143.6 403.2,-129.6 417.2,-129.6 417.2,-143.6\"/>\n</g>\n<!-- node5&#45;&#45;null6 -->\n<g id=\"edge12\" class=\"edge\">\n<title>node5--null6</title>\n<path fill=\"none\" stroke=\"black\" d=\"M387.98,-165.17C393.61,-157.93 400.16,-149.51 404.68,-143.7\"/>\n</g>\n</g>\n</svg>"
          },
          "metadata": {}
        }
      ]
    },
    {
      "cell_type": "markdown",
      "metadata": {
        "id": "2YPnD2MSewy5"
      },
      "source": [
        "## Parte 2: Evaluación experimental"
      ]
    },
    {
      "cell_type": "markdown",
      "metadata": {
        "id": "j0qi8nqJewy6"
      },
      "source": [
        "A continuación, ejecute lo siguiente para probar su implementación:"
      ]
    },
    {
      "cell_type": "code",
      "metadata": {
        "id": "h0X001Uqewy7"
      },
      "source": [
        "lista=[4,9,6,2,7,1,8,3,5]\n",
        "a=Arbol()\n",
        "for x in reversed(lista):\n",
        "    a.root_insert(x)\n",
        "    a.dibujar()"
      ],
      "execution_count": 14,
      "outputs": [
        {
          "output_type": "display_data",
          "data": {
            "text/plain": "<IPython.core.display.SVG object>",
            "image/svg+xml": "<svg xmlns=\"http://www.w3.org/2000/svg\" xmlns:xlink=\"http://www.w3.org/1999/xlink\" width=\"22pt\" height=\"22pt\" viewBox=\"0.00 0.00 22.00 22.00\">\n<g id=\"graph0\" class=\"graph\" transform=\"scale(1 1) rotate(0) translate(4 18)\">\n<title>Arbol</title>\n<polygon fill=\"white\" stroke=\"transparent\" points=\"-4,4 -4,-18 18,-18 18,4 -4,4\"/>\n<!-- null0 -->\n<g id=\"node1\" class=\"node\">\n<title>null0</title>\n<polygon fill=\"none\" stroke=\"black\" points=\"14,-14 0,-14 0,0 14,0 14,-14\"/>\n</g>\n</g>\n</svg>"
          },
          "metadata": {}
        },
        {
          "output_type": "display_data",
          "data": {
            "text/plain": "<IPython.core.display.SVG object>",
            "image/svg+xml": "<svg xmlns=\"http://www.w3.org/2000/svg\" xmlns:xlink=\"http://www.w3.org/1999/xlink\" width=\"22pt\" height=\"22pt\" viewBox=\"0.00 0.00 22.00 22.00\">\n<g id=\"graph0\" class=\"graph\" transform=\"scale(1 1) rotate(0) translate(4 18)\">\n<title>Arbol</title>\n<polygon fill=\"white\" stroke=\"transparent\" points=\"-4,4 -4,-18 18,-18 18,4 -4,4\"/>\n<!-- null0 -->\n<g id=\"node1\" class=\"node\">\n<title>null0</title>\n<polygon fill=\"none\" stroke=\"black\" points=\"14,-14 0,-14 0,0 14,0 14,-14\"/>\n</g>\n</g>\n</svg>"
          },
          "metadata": {}
        },
        {
          "output_type": "display_data",
          "data": {
            "text/plain": "<IPython.core.display.SVG object>",
            "image/svg+xml": "<svg xmlns=\"http://www.w3.org/2000/svg\" xmlns:xlink=\"http://www.w3.org/1999/xlink\" width=\"22pt\" height=\"22pt\" viewBox=\"0.00 0.00 22.00 22.00\">\n<g id=\"graph0\" class=\"graph\" transform=\"scale(1 1) rotate(0) translate(4 18)\">\n<title>Arbol</title>\n<polygon fill=\"white\" stroke=\"transparent\" points=\"-4,4 -4,-18 18,-18 18,4 -4,4\"/>\n<!-- null0 -->\n<g id=\"node1\" class=\"node\">\n<title>null0</title>\n<polygon fill=\"none\" stroke=\"black\" points=\"14,-14 0,-14 0,0 14,0 14,-14\"/>\n</g>\n</g>\n</svg>"
          },
          "metadata": {}
        },
        {
          "output_type": "display_data",
          "data": {
            "text/plain": "<IPython.core.display.SVG object>",
            "image/svg+xml": "<svg xmlns=\"http://www.w3.org/2000/svg\" xmlns:xlink=\"http://www.w3.org/1999/xlink\" width=\"22pt\" height=\"22pt\" viewBox=\"0.00 0.00 22.00 22.00\">\n<g id=\"graph0\" class=\"graph\" transform=\"scale(1 1) rotate(0) translate(4 18)\">\n<title>Arbol</title>\n<polygon fill=\"white\" stroke=\"transparent\" points=\"-4,4 -4,-18 18,-18 18,4 -4,4\"/>\n<!-- null0 -->\n<g id=\"node1\" class=\"node\">\n<title>null0</title>\n<polygon fill=\"none\" stroke=\"black\" points=\"14,-14 0,-14 0,0 14,0 14,-14\"/>\n</g>\n</g>\n</svg>"
          },
          "metadata": {}
        },
        {
          "output_type": "display_data",
          "data": {
            "text/plain": "<IPython.core.display.SVG object>",
            "image/svg+xml": "<svg xmlns=\"http://www.w3.org/2000/svg\" xmlns:xlink=\"http://www.w3.org/1999/xlink\" width=\"22pt\" height=\"22pt\" viewBox=\"0.00 0.00 22.00 22.00\">\n<g id=\"graph0\" class=\"graph\" transform=\"scale(1 1) rotate(0) translate(4 18)\">\n<title>Arbol</title>\n<polygon fill=\"white\" stroke=\"transparent\" points=\"-4,4 -4,-18 18,-18 18,4 -4,4\"/>\n<!-- null0 -->\n<g id=\"node1\" class=\"node\">\n<title>null0</title>\n<polygon fill=\"none\" stroke=\"black\" points=\"14,-14 0,-14 0,0 14,0 14,-14\"/>\n</g>\n</g>\n</svg>"
          },
          "metadata": {}
        },
        {
          "output_type": "stream",
          "name": "stderr",
          "text": [
            "Error: Could not open \"lista.gv.pdf\" for writing : Permission denied\n"
          ]
        },
        {
          "output_type": "error",
          "ename": "CalledProcessError",
          "evalue": "Command '['dot', '-Kneato', '-Tpdf', '-O', 'lista.gv']' returned non-zero exit status 1. [stderr: b'Error: Could not open \"lista.gv.pdf\" for writing : Permission denied\\r\\n']",
          "traceback": [
            "\u001b[1;31m---------------------------------------------------------------------------\u001b[0m",
            "\u001b[1;31mCalledProcessError\u001b[0m                        Traceback (most recent call last)",
            "\u001b[1;32m<ipython-input-14-6e0619fadc09>\u001b[0m in \u001b[0;36m<module>\u001b[1;34m\u001b[0m\n\u001b[0;32m      3\u001b[0m \u001b[1;32mfor\u001b[0m \u001b[0mx\u001b[0m \u001b[1;32min\u001b[0m \u001b[0mreversed\u001b[0m\u001b[1;33m(\u001b[0m\u001b[0mlista\u001b[0m\u001b[1;33m)\u001b[0m\u001b[1;33m:\u001b[0m\u001b[1;33m\u001b[0m\u001b[1;33m\u001b[0m\u001b[0m\n\u001b[0;32m      4\u001b[0m     \u001b[0ma\u001b[0m\u001b[1;33m.\u001b[0m\u001b[0mroot_insert\u001b[0m\u001b[1;33m(\u001b[0m\u001b[0mx\u001b[0m\u001b[1;33m)\u001b[0m\u001b[1;33m\u001b[0m\u001b[1;33m\u001b[0m\u001b[0m\n\u001b[1;32m----> 5\u001b[1;33m     \u001b[0ma\u001b[0m\u001b[1;33m.\u001b[0m\u001b[0mdibujar\u001b[0m\u001b[1;33m(\u001b[0m\u001b[1;33m)\u001b[0m\u001b[1;33m\u001b[0m\u001b[1;33m\u001b[0m\u001b[0m\n\u001b[0m",
            "\u001b[1;32m<ipython-input-12-3e320aaf62e8>\u001b[0m in \u001b[0;36mdibujar\u001b[1;34m(self)\u001b[0m\n\u001b[0;32m     71\u001b[0m     \u001b[1;32mdef\u001b[0m \u001b[0mdibujar\u001b[0m\u001b[1;33m(\u001b[0m\u001b[0mself\u001b[0m\u001b[1;33m)\u001b[0m\u001b[1;33m:\u001b[0m\u001b[1;33m\u001b[0m\u001b[1;33m\u001b[0m\u001b[0m\n\u001b[0;32m     72\u001b[0m       \u001b[0mbtd\u001b[0m \u001b[1;33m=\u001b[0m \u001b[0maed\u001b[0m\u001b[1;33m.\u001b[0m\u001b[0mBinaryTreeDrawer\u001b[0m\u001b[1;33m(\u001b[0m\u001b[0mfieldData\u001b[0m\u001b[1;33m=\u001b[0m\u001b[1;34m\"info\"\u001b[0m\u001b[1;33m,\u001b[0m \u001b[0mfieldLeft\u001b[0m\u001b[1;33m=\u001b[0m\u001b[1;34m\"izq\"\u001b[0m\u001b[1;33m,\u001b[0m \u001b[0mfieldRight\u001b[0m\u001b[1;33m=\u001b[0m\u001b[1;34m\"der\"\u001b[0m\u001b[1;33m,\u001b[0m \u001b[0mclassNone\u001b[0m\u001b[1;33m=\u001b[0m\u001b[0mNodoe\u001b[0m\u001b[1;33m,\u001b[0m \u001b[0mdrawNull\u001b[0m\u001b[1;33m=\u001b[0m\u001b[1;32mTrue\u001b[0m\u001b[1;33m)\u001b[0m\u001b[1;33m\u001b[0m\u001b[1;33m\u001b[0m\u001b[0m\n\u001b[1;32m---> 73\u001b[1;33m       \u001b[0mbtd\u001b[0m\u001b[1;33m.\u001b[0m\u001b[0mdraw_tree\u001b[0m\u001b[1;33m(\u001b[0m\u001b[0mself\u001b[0m\u001b[1;33m,\u001b[0m \u001b[1;34m\"raiz\"\u001b[0m\u001b[1;33m)\u001b[0m\u001b[1;33m\u001b[0m\u001b[1;33m\u001b[0m\u001b[0m\n\u001b[0m",
            "\u001b[1;32m~\\pyver\\py392\\lib\\site-packages\\aed_utilities\\visualizacion.py\u001b[0m in \u001b[0;36mdraw_tree\u001b[1;34m(self, tree, root)\u001b[0m\n\u001b[0;32m    191\u001b[0m     \u001b[0msrc\u001b[0m \u001b[1;33m=\u001b[0m \u001b[0mSource\u001b[0m\u001b[1;33m(\u001b[0m\u001b[1;34m'graph \"Arbol\" { rankdir=TB; '\u001b[0m \u001b[1;33m+\u001b[0m \u001b[0mlistNodes\u001b[0m \u001b[1;33m+\u001b[0m \u001b[1;34m' node[shape=circle] '\u001b[0m \u001b[1;33m+\u001b[0m \u001b[0mlistStr\u001b[0m \u001b[1;33m+\u001b[0m\u001b[1;34m' }'\u001b[0m\u001b[1;33m)\u001b[0m\u001b[1;33m\u001b[0m\u001b[1;33m\u001b[0m\u001b[0m\n\u001b[0;32m    192\u001b[0m     \u001b[0msrc\u001b[0m\u001b[1;33m.\u001b[0m\u001b[0mengine\u001b[0m\u001b[1;33m=\u001b[0m\u001b[1;34m\"neato\"\u001b[0m\u001b[1;33m\u001b[0m\u001b[1;33m\u001b[0m\u001b[0m\n\u001b[1;32m--> 193\u001b[1;33m     \u001b[0msrc\u001b[0m\u001b[1;33m.\u001b[0m\u001b[0mrender\u001b[0m\u001b[1;33m(\u001b[0m\u001b[1;34m'lista.gv'\u001b[0m\u001b[1;33m,\u001b[0m \u001b[0mview\u001b[0m\u001b[1;33m=\u001b[0m\u001b[1;32mTrue\u001b[0m\u001b[1;33m)\u001b[0m\u001b[1;33m\u001b[0m\u001b[1;33m\u001b[0m\u001b[0m\n\u001b[0m\u001b[0;32m    194\u001b[0m     \u001b[0mdisplay\u001b[0m\u001b[1;33m(\u001b[0m\u001b[0mSVG\u001b[0m\u001b[1;33m(\u001b[0m\u001b[0msrc\u001b[0m\u001b[1;33m.\u001b[0m\u001b[0mpipe\u001b[0m\u001b[1;33m(\u001b[0m\u001b[0mformat\u001b[0m\u001b[1;33m=\u001b[0m\u001b[1;34m'svg'\u001b[0m\u001b[1;33m)\u001b[0m\u001b[1;33m)\u001b[0m\u001b[1;33m)\u001b[0m\u001b[1;33m\u001b[0m\u001b[1;33m\u001b[0m\u001b[0m\n\u001b[0;32m    195\u001b[0m \u001b[1;33m\u001b[0m\u001b[0m\n",
            "\u001b[1;32m~\\pyver\\py392\\lib\\site-packages\\graphviz\\files.py\u001b[0m in \u001b[0;36mrender\u001b[1;34m(self, filename, directory, view, cleanup, format, renderer, formatter, quiet, quiet_view)\u001b[0m\n\u001b[0;32m    241\u001b[0m             \u001b[0mformat\u001b[0m \u001b[1;33m=\u001b[0m \u001b[0mself\u001b[0m\u001b[1;33m.\u001b[0m\u001b[0m_format\u001b[0m\u001b[1;33m\u001b[0m\u001b[1;33m\u001b[0m\u001b[0m\n\u001b[0;32m    242\u001b[0m \u001b[1;33m\u001b[0m\u001b[0m\n\u001b[1;32m--> 243\u001b[1;33m         rendered = backend.render(self._engine, format, filepath,\n\u001b[0m\u001b[0;32m    244\u001b[0m                                   \u001b[0mrenderer\u001b[0m\u001b[1;33m=\u001b[0m\u001b[0mrenderer\u001b[0m\u001b[1;33m,\u001b[0m \u001b[0mformatter\u001b[0m\u001b[1;33m=\u001b[0m\u001b[0mformatter\u001b[0m\u001b[1;33m,\u001b[0m\u001b[1;33m\u001b[0m\u001b[1;33m\u001b[0m\u001b[0m\n\u001b[0;32m    245\u001b[0m                                   quiet=quiet)\n",
            "\u001b[1;32m~\\pyver\\py392\\lib\\site-packages\\graphviz\\backend.py\u001b[0m in \u001b[0;36mrender\u001b[1;34m(***failed resolving arguments***)\u001b[0m\n\u001b[0;32m    221\u001b[0m         \u001b[0mcwd\u001b[0m \u001b[1;33m=\u001b[0m \u001b[1;32mNone\u001b[0m\u001b[1;33m\u001b[0m\u001b[1;33m\u001b[0m\u001b[0m\n\u001b[0;32m    222\u001b[0m \u001b[1;33m\u001b[0m\u001b[0m\n\u001b[1;32m--> 223\u001b[1;33m     \u001b[0mrun\u001b[0m\u001b[1;33m(\u001b[0m\u001b[0mcmd\u001b[0m\u001b[1;33m,\u001b[0m \u001b[0mcapture_output\u001b[0m\u001b[1;33m=\u001b[0m\u001b[1;32mTrue\u001b[0m\u001b[1;33m,\u001b[0m \u001b[0mcwd\u001b[0m\u001b[1;33m=\u001b[0m\u001b[0mcwd\u001b[0m\u001b[1;33m,\u001b[0m \u001b[0mcheck\u001b[0m\u001b[1;33m=\u001b[0m\u001b[1;32mTrue\u001b[0m\u001b[1;33m,\u001b[0m \u001b[0mquiet\u001b[0m\u001b[1;33m=\u001b[0m\u001b[0mquiet\u001b[0m\u001b[1;33m)\u001b[0m\u001b[1;33m\u001b[0m\u001b[1;33m\u001b[0m\u001b[0m\n\u001b[0m\u001b[0;32m    224\u001b[0m     \u001b[1;32mreturn\u001b[0m \u001b[0mrendered\u001b[0m\u001b[1;33m\u001b[0m\u001b[1;33m\u001b[0m\u001b[0m\n\u001b[0;32m    225\u001b[0m \u001b[1;33m\u001b[0m\u001b[0m\n",
            "\u001b[1;32m~\\pyver\\py392\\lib\\site-packages\\graphviz\\backend.py\u001b[0m in \u001b[0;36mrun\u001b[1;34m(cmd, input, capture_output, check, encoding, quiet, **kwargs)\u001b[0m\n\u001b[0;32m    181\u001b[0m \u001b[1;33m\u001b[0m\u001b[0m\n\u001b[0;32m    182\u001b[0m     \u001b[1;32mif\u001b[0m \u001b[0mcheck\u001b[0m \u001b[1;32mand\u001b[0m \u001b[0mproc\u001b[0m\u001b[1;33m.\u001b[0m\u001b[0mreturncode\u001b[0m\u001b[1;33m:\u001b[0m\u001b[1;33m\u001b[0m\u001b[1;33m\u001b[0m\u001b[0m\n\u001b[1;32m--> 183\u001b[1;33m         raise CalledProcessError(proc.returncode, cmd,\n\u001b[0m\u001b[0;32m    184\u001b[0m                                  output=out, stderr=err)\n\u001b[0;32m    185\u001b[0m \u001b[1;33m\u001b[0m\u001b[0m\n",
            "\u001b[1;31mCalledProcessError\u001b[0m: Command '['dot', '-Kneato', '-Tpdf', '-O', 'lista.gv']' returned non-zero exit status 1. [stderr: b'Error: Could not open \"lista.gv.pdf\" for writing : Permission denied\\r\\n']"
          ]
        }
      ]
    },
    {
      "cell_type": "markdown",
      "metadata": {
        "id": "UX12fMWGewzB"
      },
      "source": [
        "Si todo está bien, el resultado final de insertar la lista reversa usando ``root_insert``debería ser igual al obtenido insertando la lista original usando ``insert``."
      ]
    },
    {
      "cell_type": "markdown",
      "metadata": {
        "id": "j3LxIBHAewzE"
      },
      "source": [
        "## ¿Qué hay que entregar?\n",
        "\n",
        "Usted debe entregar este mismo archivo, modificado de acuerdo a lo que se pide. Haga todos los cambios necesarios para explicar y documentar adecuadamente su código. No olvide poner su nombre."
      ]
    }
  ]
}