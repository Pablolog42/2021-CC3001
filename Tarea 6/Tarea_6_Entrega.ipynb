{
  "nbformat": 4,
  "nbformat_minor": 0,
  "metadata": {
    "kernelspec": {
      "name": "python392jvsc74a57bd09a25f204a300bdc49b2400c52ad2f477bb56de243b0a6afc988b6e51b20c71d1",
      "display_name": "Python 3.9.2 64-bit"
    },
    "language_info": {
      "codemirror_mode": {
        "name": "ipython",
        "version": 3
      },
      "file_extension": ".py",
      "mimetype": "text/x-python",
      "name": "python",
      "nbconvert_exporter": "python",
      "pygments_lexer": "ipython3",
      "version": "3.9.2"
    },
    "colab": {
      "name": "Tarea 6 Entrega.ipynb",
      "provenance": [],
      "collapsed_sections": []
    },
    "metadata": {
      "interpreter": {
        "hash": "9a25f204a300bdc49b2400c52ad2f477bb56de243b0a6afc988b6e51b20c71d1"
      }
    }
  },
  "cells": [
    {
      "cell_type": "markdown",
      "metadata": {
        "id": "W264sNBjewyS"
      },
      "source": [
        "# CC3001 Otoño 2021 Tarea 6\n",
        "# Hashing\n",
        "## Profesores\n",
        "Patricio Poblete, Nelson Baloian, Ivan Sipiran\n",
        "\n",
        "Alumno: Pablo González Aguilera - 20973277-7 - Sección 2\n"
      ]
    },
    {
      "cell_type": "markdown",
      "metadata": {
        "id": "m8Rb6XLFewyT"
      },
      "source": [
        "---\n",
        "\n",
        "# CONTEXTO"
      ]
    },
    {
      "cell_type": "markdown",
      "metadata": {
        "id": "qO1wwYo7ewyW"
      },
      "source": [
        "En esta tarea vamos a comparar empíricamente el comportamiento de dos implementaciones de Hashing, las cuales Ud. tendrá que implementar y ejecutar con un archivo de texto de prueba. \n",
        "La idea es ir leyendo cada palabra del archivo y buscarla en la estructura. Si no estaba, se inserta, si estaba no se hace nada. En ambos casos se retorna el número de comparaciones que se hicieron para llegar a insertarlo o para determinar que efectivamente estaba. Las comparaciones que se cuentan son exclusivamente entre llaves y NO entre punteros, es decir una comparacion \n",
        "`p == None` o `p != None` no se cuenta.  \n",
        "Al final de haber procesado todo el archivo se debe dar el número promedio y el número máximo de comparaciones que se hicieron. Los métodos de hashing que debe implementar son:\n",
        "\n",
        "1- Hashing con encadenamiento\n",
        "\n",
        "2- Hashing con linear probing \n",
        "\n",
        "Para ambos casos use una tabla de 1000 elementos (el número de palabras distintas en el archivo es de 717, por lo que estamos usando una tabla de cerca del 30% más grande que el número de elementos que contendrá)\n",
        "\n",
        "Para ambos casos puede usar la siguiente funcion de hashing:\n",
        "\n"
      ]
    },
    {
      "cell_type": "code",
      "metadata": {
        "id": "U6eWVvuTou4B"
      },
      "source": [
        "def myhash(x,m):\n",
        "  return hash(x)%m\n"
      ],
      "execution_count": null,
      "outputs": []
    },
    {
      "cell_type": "markdown",
      "metadata": {
        "id": "UQ3mbNcPLDGL"
      },
      "source": [
        "Para ambas versiones de hashing que se le pide puede usar la siguiente plantilla y modificarla (llame Chaining a a la version con encadenamiento y LinearProbing a la de direccionamiento abierto), note que para Chaining ademas debe declarar un nodo para implementar el encadenamiento)"
      ]
    },
    {
      "cell_type": "code",
      "metadata": {
        "id": "JLwRwHBdewyX"
      },
      "source": [
        "import numpy as np\n",
        "class Hashing:\n",
        "   def __init__(self,m):\n",
        "        self.t = np.empty(m, dtype=np.object)\n",
        "        for i in range(m):\n",
        "          self.t[i] = None\n",
        "        \n",
        "    def insert(self,x):\n",
        "      # busca x (si no está lo inserta) y retorna el costo de búsqueda (numero de comparaciones)\n",
        "       pass\n",
        "\n"
      ],
      "execution_count": null,
      "outputs": []
    },
    {
      "cell_type": "markdown",
      "metadata": {
        "id": "fDxlhHBPewyd"
      },
      "source": [
        "Para acceder al archivo debe ejecutar primero las siguientes instrucciones:\n"
      ]
    },
    {
      "cell_type": "code",
      "metadata": {
        "id": "mttibXr-JnKk"
      },
      "source": [
        "!wget http://www.dcc.uchile.cl/nbaloian/cc3001/cap1.txt"
      ],
      "execution_count": 1,
      "outputs": [
        {
          "output_type": "stream",
          "name": "stderr",
          "text": [
            "\"wget\" no se reconoce como un comando interno o externo,\nprograma o archivo por lotes ejecutable.\n"
          ]
        }
      ]
    },
    {
      "cell_type": "markdown",
      "metadata": {
        "id": "vZprKenmJxB7"
      },
      "source": [
        "Despues de esto se puede leer el archivo palabra por palabra de la siguiente manera: "
      ]
    },
    {
      "cell_type": "code",
      "metadata": {
        "id": "0MwfhoUwewye"
      },
      "source": [
        "f=open(\"cap1.txt\",\"r\")\n",
        "texto=f.read()\n",
        "palabras=texto.split()\n",
        "#esto deja en palabras una lista python en que cada elemento es una palabra del archivo\n",
        "#luego debe escribir el código para \n",
        "#   - crear una estructura Hashing1 y otra Hashing2\n",
        "#   - insertar/buscar cada una de las palabras en ambas estructuras registrando el costo\n",
        "#   - finalmente imprimir las estadisticas pedidas"
      ],
      "execution_count": null,
      "outputs": []
    },
    {
      "cell_type": "markdown",
      "metadata": {
        "id": "j3LxIBHAewzE"
      },
      "source": [
        "## ¿Qué hay que entregar?\n",
        "\n",
        "Usted debe entregar este mismo archivo, modificado de acuerdo a lo que se pide. Haga todos los cambios necesarios para explicar y documentar adecuadamente su código. No olvide poner su nombre."
      ]
    }
  ]
}